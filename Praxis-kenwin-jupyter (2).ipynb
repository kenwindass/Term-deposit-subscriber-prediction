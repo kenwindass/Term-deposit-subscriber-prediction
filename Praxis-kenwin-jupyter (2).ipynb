{
 "cells": [
  {
   "cell_type": "markdown",
   "id": "25181c53",
   "metadata": {},
   "source": [
    "## PREDICTING TERM DEPOSIT SUBSCRIPTION IN A PORTUGUESE BANK:INSIGHTS FROM PHONE-BASED MARKETING CAMPAIGNS"
   ]
  },
  {
   "cell_type": "markdown",
   "id": "939025ee",
   "metadata": {},
   "source": [
    "#### Submitted by\n",
    "### Kenwin Dass C (Praxis Business School)"
   ]
  },
  {
   "cell_type": "markdown",
   "id": "d0a6d6d6",
   "metadata": {},
   "source": [
    "### PROBLEM STATEMENT"
   ]
  },
  {
   "cell_type": "markdown",
   "id": "4acc1ef6",
   "metadata": {},
   "source": [
    "### The task is to predict whether a client of a Portuguese bank will subscribe to a term deposit based on phone-based marketing campaigns. The dataset includes demographic information, previous marketing interactions, and behavioral attributes. The goal is to build a model that can accurately classify clients as subscribers or non-subscribers."
   ]
  },
  {
   "cell_type": "markdown",
   "id": "92eb7c5c",
   "metadata": {},
   "source": [
    "#### IMPORTING REQUIRED LIBRARIES"
   ]
  },
  {
   "cell_type": "code",
   "execution_count": 1,
   "id": "32991fb0",
   "metadata": {},
   "outputs": [],
   "source": [
    "import numpy as np\n",
    "import pandas as pd\n",
    "\n",
    "import matplotlib.pyplot as plt\n",
    "import seaborn as sns\n",
    "\n",
    "import warnings\n",
    "warnings.filterwarnings(\"ignore\") \n",
    "\n",
    "import statsmodels.api as sm\n",
    "from scipy import stats\n",
    "from statsmodels.stats.outliers_influence import variance_inflation_factor\n",
    "\n",
    "#import LogisticRegression from Sklearn\n",
    "from sklearn.linear_model import LogisticRegression\n",
    "from sklearn.tree import DecisionTreeClassifier #import Decision tree\n",
    "import lightgbm as lgb\n",
    "from sklearn.ensemble import RandomForestClassifier #import randomforest Classifier\n",
    "from sklearn.ensemble import AdaBoostClassifier #import adaboostclassifer\n",
    "from sklearn.model_selection import GridSearchCV\n",
    "# for calculating F-1 score(import Scoring metric)\n",
    "from sklearn.metrics import f1_score,classification_report "
   ]
  },
  {
   "cell_type": "markdown",
   "id": "0590dc49",
   "metadata": {},
   "source": [
    "#### IMPORT A CSV FILE TO DATAFRAME FORMAT"
   ]
  },
  {
   "cell_type": "code",
   "execution_count": 2,
   "id": "d7becdf7",
   "metadata": {},
   "outputs": [
    {
     "data": {
      "text/html": [
       "<div>\n",
       "<style scoped>\n",
       "    .dataframe tbody tr th:only-of-type {\n",
       "        vertical-align: middle;\n",
       "    }\n",
       "\n",
       "    .dataframe tbody tr th {\n",
       "        vertical-align: top;\n",
       "    }\n",
       "\n",
       "    .dataframe thead th {\n",
       "        text-align: right;\n",
       "    }\n",
       "</style>\n",
       "<table border=\"1\" class=\"dataframe\">\n",
       "  <thead>\n",
       "    <tr style=\"text-align: right;\">\n",
       "      <th></th>\n",
       "      <th>age</th>\n",
       "      <th>job</th>\n",
       "      <th>marital</th>\n",
       "      <th>education</th>\n",
       "      <th>default</th>\n",
       "      <th>balance</th>\n",
       "      <th>housing</th>\n",
       "      <th>loan</th>\n",
       "      <th>contact</th>\n",
       "      <th>day</th>\n",
       "      <th>month</th>\n",
       "      <th>duration</th>\n",
       "      <th>campaign</th>\n",
       "      <th>pdays</th>\n",
       "      <th>previous</th>\n",
       "      <th>poutcome</th>\n",
       "      <th>y</th>\n",
       "    </tr>\n",
       "  </thead>\n",
       "  <tbody>\n",
       "    <tr>\n",
       "      <th>0</th>\n",
       "      <td>58</td>\n",
       "      <td>retired</td>\n",
       "      <td>married</td>\n",
       "      <td>secondary</td>\n",
       "      <td>no</td>\n",
       "      <td>166</td>\n",
       "      <td>no</td>\n",
       "      <td>yes</td>\n",
       "      <td>unknown</td>\n",
       "      <td>3</td>\n",
       "      <td>jul</td>\n",
       "      <td>211</td>\n",
       "      <td>1</td>\n",
       "      <td>-1</td>\n",
       "      <td>0</td>\n",
       "      <td>unknown</td>\n",
       "      <td>no</td>\n",
       "    </tr>\n",
       "    <tr>\n",
       "      <th>1</th>\n",
       "      <td>51</td>\n",
       "      <td>blue-collar</td>\n",
       "      <td>married</td>\n",
       "      <td>primary</td>\n",
       "      <td>no</td>\n",
       "      <td>2995</td>\n",
       "      <td>yes</td>\n",
       "      <td>no</td>\n",
       "      <td>unknown</td>\n",
       "      <td>11</td>\n",
       "      <td>jun</td>\n",
       "      <td>93</td>\n",
       "      <td>2</td>\n",
       "      <td>-1</td>\n",
       "      <td>0</td>\n",
       "      <td>unknown</td>\n",
       "      <td>no</td>\n",
       "    </tr>\n",
       "    <tr>\n",
       "      <th>2</th>\n",
       "      <td>50</td>\n",
       "      <td>management</td>\n",
       "      <td>married</td>\n",
       "      <td>tertiary</td>\n",
       "      <td>no</td>\n",
       "      <td>569</td>\n",
       "      <td>no</td>\n",
       "      <td>yes</td>\n",
       "      <td>cellular</td>\n",
       "      <td>18</td>\n",
       "      <td>aug</td>\n",
       "      <td>452</td>\n",
       "      <td>4</td>\n",
       "      <td>-1</td>\n",
       "      <td>0</td>\n",
       "      <td>unknown</td>\n",
       "      <td>no</td>\n",
       "    </tr>\n",
       "    <tr>\n",
       "      <th>3</th>\n",
       "      <td>27</td>\n",
       "      <td>admin.</td>\n",
       "      <td>married</td>\n",
       "      <td>secondary</td>\n",
       "      <td>no</td>\n",
       "      <td>73</td>\n",
       "      <td>yes</td>\n",
       "      <td>no</td>\n",
       "      <td>cellular</td>\n",
       "      <td>5</td>\n",
       "      <td>feb</td>\n",
       "      <td>140</td>\n",
       "      <td>1</td>\n",
       "      <td>-1</td>\n",
       "      <td>0</td>\n",
       "      <td>unknown</td>\n",
       "      <td>no</td>\n",
       "    </tr>\n",
       "    <tr>\n",
       "      <th>4</th>\n",
       "      <td>38</td>\n",
       "      <td>self-employed</td>\n",
       "      <td>divorced</td>\n",
       "      <td>tertiary</td>\n",
       "      <td>no</td>\n",
       "      <td>6447</td>\n",
       "      <td>no</td>\n",
       "      <td>no</td>\n",
       "      <td>cellular</td>\n",
       "      <td>12</td>\n",
       "      <td>jan</td>\n",
       "      <td>296</td>\n",
       "      <td>1</td>\n",
       "      <td>-1</td>\n",
       "      <td>0</td>\n",
       "      <td>unknown</td>\n",
       "      <td>no</td>\n",
       "    </tr>\n",
       "    <tr>\n",
       "      <th>...</th>\n",
       "      <td>...</td>\n",
       "      <td>...</td>\n",
       "      <td>...</td>\n",
       "      <td>...</td>\n",
       "      <td>...</td>\n",
       "      <td>...</td>\n",
       "      <td>...</td>\n",
       "      <td>...</td>\n",
       "      <td>...</td>\n",
       "      <td>...</td>\n",
       "      <td>...</td>\n",
       "      <td>...</td>\n",
       "      <td>...</td>\n",
       "      <td>...</td>\n",
       "      <td>...</td>\n",
       "      <td>...</td>\n",
       "      <td>...</td>\n",
       "    </tr>\n",
       "    <tr>\n",
       "      <th>33903</th>\n",
       "      <td>32</td>\n",
       "      <td>admin.</td>\n",
       "      <td>single</td>\n",
       "      <td>secondary</td>\n",
       "      <td>no</td>\n",
       "      <td>471</td>\n",
       "      <td>no</td>\n",
       "      <td>yes</td>\n",
       "      <td>cellular</td>\n",
       "      <td>2</td>\n",
       "      <td>apr</td>\n",
       "      <td>243</td>\n",
       "      <td>3</td>\n",
       "      <td>-1</td>\n",
       "      <td>0</td>\n",
       "      <td>unknown</td>\n",
       "      <td>yes</td>\n",
       "    </tr>\n",
       "    <tr>\n",
       "      <th>33904</th>\n",
       "      <td>44</td>\n",
       "      <td>management</td>\n",
       "      <td>married</td>\n",
       "      <td>tertiary</td>\n",
       "      <td>no</td>\n",
       "      <td>0</td>\n",
       "      <td>yes</td>\n",
       "      <td>no</td>\n",
       "      <td>cellular</td>\n",
       "      <td>20</td>\n",
       "      <td>aug</td>\n",
       "      <td>141</td>\n",
       "      <td>3</td>\n",
       "      <td>-1</td>\n",
       "      <td>0</td>\n",
       "      <td>unknown</td>\n",
       "      <td>no</td>\n",
       "    </tr>\n",
       "    <tr>\n",
       "      <th>33905</th>\n",
       "      <td>42</td>\n",
       "      <td>technician</td>\n",
       "      <td>single</td>\n",
       "      <td>secondary</td>\n",
       "      <td>no</td>\n",
       "      <td>0</td>\n",
       "      <td>yes</td>\n",
       "      <td>no</td>\n",
       "      <td>unknown</td>\n",
       "      <td>6</td>\n",
       "      <td>may</td>\n",
       "      <td>293</td>\n",
       "      <td>1</td>\n",
       "      <td>-1</td>\n",
       "      <td>0</td>\n",
       "      <td>unknown</td>\n",
       "      <td>no</td>\n",
       "    </tr>\n",
       "    <tr>\n",
       "      <th>33906</th>\n",
       "      <td>34</td>\n",
       "      <td>technician</td>\n",
       "      <td>married</td>\n",
       "      <td>tertiary</td>\n",
       "      <td>no</td>\n",
       "      <td>116</td>\n",
       "      <td>no</td>\n",
       "      <td>no</td>\n",
       "      <td>cellular</td>\n",
       "      <td>11</td>\n",
       "      <td>aug</td>\n",
       "      <td>145</td>\n",
       "      <td>2</td>\n",
       "      <td>-1</td>\n",
       "      <td>0</td>\n",
       "      <td>unknown</td>\n",
       "      <td>no</td>\n",
       "    </tr>\n",
       "    <tr>\n",
       "      <th>33907</th>\n",
       "      <td>60</td>\n",
       "      <td>retired</td>\n",
       "      <td>married</td>\n",
       "      <td>primary</td>\n",
       "      <td>no</td>\n",
       "      <td>60</td>\n",
       "      <td>yes</td>\n",
       "      <td>no</td>\n",
       "      <td>unknown</td>\n",
       "      <td>5</td>\n",
       "      <td>may</td>\n",
       "      <td>219</td>\n",
       "      <td>1</td>\n",
       "      <td>-1</td>\n",
       "      <td>0</td>\n",
       "      <td>unknown</td>\n",
       "      <td>no</td>\n",
       "    </tr>\n",
       "  </tbody>\n",
       "</table>\n",
       "<p>33908 rows × 17 columns</p>\n",
       "</div>"
      ],
      "text/plain": [
       "       age            job   marital  education default  balance housing loan  \\\n",
       "0       58        retired   married  secondary      no      166      no  yes   \n",
       "1       51    blue-collar   married    primary      no     2995     yes   no   \n",
       "2       50     management   married   tertiary      no      569      no  yes   \n",
       "3       27         admin.   married  secondary      no       73     yes   no   \n",
       "4       38  self-employed  divorced   tertiary      no     6447      no   no   \n",
       "...    ...            ...       ...        ...     ...      ...     ...  ...   \n",
       "33903   32         admin.    single  secondary      no      471      no  yes   \n",
       "33904   44     management   married   tertiary      no        0     yes   no   \n",
       "33905   42     technician    single  secondary      no        0     yes   no   \n",
       "33906   34     technician   married   tertiary      no      116      no   no   \n",
       "33907   60        retired   married    primary      no       60     yes   no   \n",
       "\n",
       "        contact  day month  duration  campaign  pdays  previous poutcome    y  \n",
       "0       unknown    3   jul       211         1     -1         0  unknown   no  \n",
       "1       unknown   11   jun        93         2     -1         0  unknown   no  \n",
       "2      cellular   18   aug       452         4     -1         0  unknown   no  \n",
       "3      cellular    5   feb       140         1     -1         0  unknown   no  \n",
       "4      cellular   12   jan       296         1     -1         0  unknown   no  \n",
       "...         ...  ...   ...       ...       ...    ...       ...      ...  ...  \n",
       "33903  cellular    2   apr       243         3     -1         0  unknown  yes  \n",
       "33904  cellular   20   aug       141         3     -1         0  unknown   no  \n",
       "33905   unknown    6   may       293         1     -1         0  unknown   no  \n",
       "33906  cellular   11   aug       145         2     -1         0  unknown   no  \n",
       "33907   unknown    5   may       219         1     -1         0  unknown   no  \n",
       "\n",
       "[33908 rows x 17 columns]"
      ]
     },
     "execution_count": 2,
     "metadata": {},
     "output_type": "execute_result"
    }
   ],
   "source": [
    "data=pd.read_csv(\"train.csv\")\n",
    "data"
   ]
  },
  {
   "cell_type": "code",
   "execution_count": 3,
   "id": "e721761e",
   "metadata": {},
   "outputs": [
    {
     "data": {
      "text/plain": [
       "(33908, 17)"
      ]
     },
     "execution_count": 3,
     "metadata": {},
     "output_type": "execute_result"
    }
   ],
   "source": [
    "## show no. of rows and columns\n",
    "data.shape"
   ]
  },
  {
   "cell_type": "code",
   "execution_count": 4,
   "id": "46ee3720",
   "metadata": {},
   "outputs": [
    {
     "data": {
      "text/plain": [
       "Index(['age', 'job', 'marital', 'education', 'default', 'balance', 'housing',\n",
       "       'loan', 'contact', 'day', 'month', 'duration', 'campaign', 'pdays',\n",
       "       'previous', 'poutcome', 'y'],\n",
       "      dtype='object')"
      ]
     },
     "execution_count": 4,
     "metadata": {},
     "output_type": "execute_result"
    }
   ],
   "source": [
    "## show all columns in dataframe\n",
    "data.columns"
   ]
  },
  {
   "cell_type": "code",
   "execution_count": 5,
   "id": "45dba60b",
   "metadata": {},
   "outputs": [
    {
     "data": {
      "text/plain": [
       "age           int64\n",
       "job          object\n",
       "marital      object\n",
       "education    object\n",
       "default      object\n",
       "balance       int64\n",
       "housing      object\n",
       "loan         object\n",
       "contact      object\n",
       "day           int64\n",
       "month        object\n",
       "duration      int64\n",
       "campaign      int64\n",
       "pdays         int64\n",
       "previous      int64\n",
       "poutcome     object\n",
       "y            object\n",
       "dtype: object"
      ]
     },
     "execution_count": 5,
     "metadata": {},
     "output_type": "execute_result"
    }
   ],
   "source": [
    "## show data type of each variable\n",
    "data.dtypes"
   ]
  },
  {
   "cell_type": "code",
   "execution_count": 6,
   "id": "82a9f118",
   "metadata": {},
   "outputs": [
    {
     "data": {
      "text/plain": [
       "age          0\n",
       "job          0\n",
       "marital      0\n",
       "education    0\n",
       "default      0\n",
       "balance      0\n",
       "housing      0\n",
       "loan         0\n",
       "contact      0\n",
       "day          0\n",
       "month        0\n",
       "duration     0\n",
       "campaign     0\n",
       "pdays        0\n",
       "previous     0\n",
       "poutcome     0\n",
       "y            0\n",
       "dtype: int64"
      ]
     },
     "execution_count": 6,
     "metadata": {},
     "output_type": "execute_result"
    }
   ],
   "source": [
    "## finding No of null values in each column\n",
    "data.isnull().sum()"
   ]
  },
  {
   "cell_type": "code",
   "execution_count": 7,
   "id": "aabf2e45",
   "metadata": {},
   "outputs": [
    {
     "data": {
      "text/html": [
       "<div>\n",
       "<style scoped>\n",
       "    .dataframe tbody tr th:only-of-type {\n",
       "        vertical-align: middle;\n",
       "    }\n",
       "\n",
       "    .dataframe tbody tr th {\n",
       "        vertical-align: top;\n",
       "    }\n",
       "\n",
       "    .dataframe thead th {\n",
       "        text-align: right;\n",
       "    }\n",
       "</style>\n",
       "<table border=\"1\" class=\"dataframe\">\n",
       "  <thead>\n",
       "    <tr style=\"text-align: right;\">\n",
       "      <th></th>\n",
       "      <th>age</th>\n",
       "      <th>balance</th>\n",
       "      <th>day</th>\n",
       "      <th>duration</th>\n",
       "      <th>campaign</th>\n",
       "      <th>pdays</th>\n",
       "      <th>previous</th>\n",
       "    </tr>\n",
       "  </thead>\n",
       "  <tbody>\n",
       "    <tr>\n",
       "      <th>count</th>\n",
       "      <td>33908.000000</td>\n",
       "      <td>33908.000000</td>\n",
       "      <td>33908.000000</td>\n",
       "      <td>33908.000000</td>\n",
       "      <td>33908.000000</td>\n",
       "      <td>33908.000000</td>\n",
       "      <td>33908.000000</td>\n",
       "    </tr>\n",
       "    <tr>\n",
       "      <th>mean</th>\n",
       "      <td>40.966763</td>\n",
       "      <td>1370.713136</td>\n",
       "      <td>15.803763</td>\n",
       "      <td>257.899227</td>\n",
       "      <td>2.752920</td>\n",
       "      <td>40.168515</td>\n",
       "      <td>0.581987</td>\n",
       "    </tr>\n",
       "    <tr>\n",
       "      <th>std</th>\n",
       "      <td>10.613701</td>\n",
       "      <td>3111.689069</td>\n",
       "      <td>8.314558</td>\n",
       "      <td>258.607105</td>\n",
       "      <td>3.068299</td>\n",
       "      <td>99.892114</td>\n",
       "      <td>2.412482</td>\n",
       "    </tr>\n",
       "    <tr>\n",
       "      <th>min</th>\n",
       "      <td>18.000000</td>\n",
       "      <td>-8019.000000</td>\n",
       "      <td>1.000000</td>\n",
       "      <td>0.000000</td>\n",
       "      <td>1.000000</td>\n",
       "      <td>-1.000000</td>\n",
       "      <td>0.000000</td>\n",
       "    </tr>\n",
       "    <tr>\n",
       "      <th>25%</th>\n",
       "      <td>33.000000</td>\n",
       "      <td>74.000000</td>\n",
       "      <td>8.000000</td>\n",
       "      <td>103.000000</td>\n",
       "      <td>1.000000</td>\n",
       "      <td>-1.000000</td>\n",
       "      <td>0.000000</td>\n",
       "    </tr>\n",
       "    <tr>\n",
       "      <th>50%</th>\n",
       "      <td>39.000000</td>\n",
       "      <td>450.000000</td>\n",
       "      <td>16.000000</td>\n",
       "      <td>179.000000</td>\n",
       "      <td>2.000000</td>\n",
       "      <td>-1.000000</td>\n",
       "      <td>0.000000</td>\n",
       "    </tr>\n",
       "    <tr>\n",
       "      <th>75%</th>\n",
       "      <td>48.000000</td>\n",
       "      <td>1430.000000</td>\n",
       "      <td>21.000000</td>\n",
       "      <td>318.000000</td>\n",
       "      <td>3.000000</td>\n",
       "      <td>-1.000000</td>\n",
       "      <td>0.000000</td>\n",
       "    </tr>\n",
       "    <tr>\n",
       "      <th>max</th>\n",
       "      <td>95.000000</td>\n",
       "      <td>102127.000000</td>\n",
       "      <td>31.000000</td>\n",
       "      <td>4918.000000</td>\n",
       "      <td>63.000000</td>\n",
       "      <td>871.000000</td>\n",
       "      <td>275.000000</td>\n",
       "    </tr>\n",
       "  </tbody>\n",
       "</table>\n",
       "</div>"
      ],
      "text/plain": [
       "                age        balance           day      duration      campaign  \\\n",
       "count  33908.000000   33908.000000  33908.000000  33908.000000  33908.000000   \n",
       "mean      40.966763    1370.713136     15.803763    257.899227      2.752920   \n",
       "std       10.613701    3111.689069      8.314558    258.607105      3.068299   \n",
       "min       18.000000   -8019.000000      1.000000      0.000000      1.000000   \n",
       "25%       33.000000      74.000000      8.000000    103.000000      1.000000   \n",
       "50%       39.000000     450.000000     16.000000    179.000000      2.000000   \n",
       "75%       48.000000    1430.000000     21.000000    318.000000      3.000000   \n",
       "max       95.000000  102127.000000     31.000000   4918.000000     63.000000   \n",
       "\n",
       "              pdays      previous  \n",
       "count  33908.000000  33908.000000  \n",
       "mean      40.168515      0.581987  \n",
       "std       99.892114      2.412482  \n",
       "min       -1.000000      0.000000  \n",
       "25%       -1.000000      0.000000  \n",
       "50%       -1.000000      0.000000  \n",
       "75%       -1.000000      0.000000  \n",
       "max      871.000000    275.000000  "
      ]
     },
     "execution_count": 7,
     "metadata": {},
     "output_type": "execute_result"
    }
   ],
   "source": [
    "## show description of the data in the DataFrame\n",
    "data.describe()"
   ]
  },
  {
   "cell_type": "markdown",
   "id": "eb1befa0",
   "metadata": {},
   "source": [
    "### EXPLORATORY DATA ANALYSIS "
   ]
  },
  {
   "cell_type": "markdown",
   "id": "3a2ad512",
   "metadata": {},
   "source": [
    "#### Uni-variate Analysis of Numerical Variable"
   ]
  },
  {
   "cell_type": "code",
   "execution_count": 8,
   "id": "a26cc66d",
   "metadata": {
    "scrolled": false
   },
   "outputs": [
    {
     "data": {
      "image/png": "[encoded data removed]",
      "text/plain": [
       "<Figure size 720x360 with 1 Axes>"
      ]
     },
     "metadata": {
      "needs_background": "light"
     },
     "output_type": "display_data"
    },
    {
     "data": {
      "image/png": "[encoded data removed]",
      "text/plain": [
       "<Figure size 360x288 with 1 Axes>"
      ]
     },
     "metadata": {
      "needs_background": "light"
     },
     "output_type": "display_data"
    },
    {
     "data": {
      "image/png": "[encoded data removed]",
      "text/plain": [
       "<Figure size 720x360 with 1 Axes>"
      ]
     },
     "metadata": {
      "needs_background": "light"
     },
     "output_type": "display_data"
    },
    {
     "data": {
      "image/png": "[encoded data removed]",
      "text/plain": [
       "<Figure size 360x288 with 1 Axes>"
      ]
     },
     "metadata": {
      "needs_background": "light"
     },
     "output_type": "display_data"
    },
    {
     "data": {
      "image/png": "[encoded data removed]",
      "text/plain": [
       "<Figure size 720x360 with 1 Axes>"
      ]
     },
     "metadata": {
      "needs_background": "light"
     },
     "output_type": "display_data"
    },
    {
     "data": {
      "image/png": "[encoded data removed]",
      "text/plain": [
       "<Figure size 360x288 with 1 Axes>"
      ]
     },
     "metadata": {
      "needs_background": "light"
     },
     "output_type": "display_data"
    },
    {
     "data": {
      "image/png": "[encoded data removed]",
      "text/plain": [
       "<Figure size 720x360 with 1 Axes>"
      ]
     },
     "metadata": {
      "needs_background": "light"
     },
     "output_type": "display_data"
    },
    {
     "data": {
      "image/png": "[encoded data removed]",
      "text/plain": [
       "<Figure size 360x288 with 1 Axes>"
      ]
     },
     "metadata": {
      "needs_background": "light"
     },
     "output_type": "display_data"
    },
    {
     "data": {
      "image/png": "[encoded data removed]",
      "text/plain": [
       "<Figure size 720x360 with 1 Axes>"
      ]
     },
     "metadata": {
      "needs_background": "light"
     },
     "output_type": "display_data"
    },
    {
     "data": {
      "image/png": "[encoded data removed]",
      "text/plain": [
       "<Figure size 360x288 with 1 Axes>"
      ]
     },
     "metadata": {
      "needs_background": "light"
     },
     "output_type": "display_data"
    },
    {
     "data": {
      "image/png": "[encoded data removed]",
      "text/plain": [
       "<Figure size 720x360 with 1 Axes>"
      ]
     },
     "metadata": {
      "needs_background": "light"
     },
     "output_type": "display_data"
    },
    {
     "data": {
      "image/png": "[encoded data removed]",
      "text/plain": [
       "<Figure size 360x288 with 1 Axes>"
      ]
     },
     "metadata": {
      "needs_background": "light"
     },
     "output_type": "display_data"
    },
    {
     "data": {
      "image/png": "[encoded data removed]",
      "text/plain": [
       "<Figure size 720x360 with 1 Axes>"
      ]
     },
     "metadata": {
      "needs_background": "light"
     },
     "output_type": "display_data"
    },
    {
     "data": {
      "image/png": "[encoded data removed]",
      "text/plain": [
       "<Figure size 360x288 with 1 Axes>"
      ]
     },
     "metadata": {
      "needs_background": "light"
     },
     "output_type": "display_data"
    }
   ],
   "source": [
    "numerical = data.select_dtypes(exclude='object')\n",
    "for col in numerical.columns:\n",
    "    #histogram\n",
    "    numerical.hist(column = col,\n",
    "              grid=False,        #Do not include the grid\n",
    "              figsize=(10,5),\n",
    "             color=\"lightblue\",\n",
    "             edgecolor=\"black\",\n",
    "             bins=15)            #(Length,Height) of the plot in inches\n",
    "    plt.show()\n",
    "    #boxplot\n",
    "    numerical.boxplot(column= col,\n",
    "                grid= False,\n",
    "                figsize=(5,4),\n",
    "                notch=True)\n",
    "    plt.show()"
   ]
  },
  {
   "cell_type": "markdown",
   "id": "93d9ee38",
   "metadata": {},
   "source": [
    "#### Uni-variate Analysis of Categorical Variable"
   ]
  },
  {
   "cell_type": "code",
   "execution_count": 9,
   "id": "a08e8438",
   "metadata": {},
   "outputs": [
    {
     "data": {
      "image/png": "[encoded data removed]",
      "text/plain": [
       "<Figure size 432x288 with 1 Axes>"
      ]
     },
     "metadata": {
      "needs_background": "light"
     },
     "output_type": "display_data"
    },
    {
     "data": {
      "image/png": "[encoded data removed]",
      "text/plain": [
       "<Figure size 432x288 with 1 Axes>"
      ]
     },
     "metadata": {
      "needs_background": "light"
     },
     "output_type": "display_data"
    },
    {
     "data": {
      "image/png": "[encoded data removed]",
      "text/plain": [
       "<Figure size 432x288 with 1 Axes>"
      ]
     },
     "metadata": {
      "needs_background": "light"
     },
     "output_type": "display_data"
    },
    {
     "data": {
      "image/png": "[encoded data removed]",
      "text/plain": [
       "<Figure size 432x288 with 1 Axes>"
      ]
     },
     "metadata": {
      "needs_background": "light"
     },
     "output_type": "display_data"
    },
    {
     "data": {
      "image/png": "[encoded data removed]",
      "text/plain": [
       "<Figure size 432x288 with 1 Axes>"
      ]
     },
     "metadata": {
      "needs_background": "light"
     },
     "output_type": "display_data"
    },
    {
     "data": {
      "image/png": "[encoded data removed]",
      "text/plain": [
       "<Figure size 432x288 with 1 Axes>"
      ]
     },
     "metadata": {
      "needs_background": "light"
     },
     "output_type": "display_data"
    },
    {
     "data": {
      "image/png": "[encoded data removed]",
      "text/plain": [
       "<Figure size 432x288 with 1 Axes>"
      ]
     },
     "metadata": {
      "needs_background": "light"
     },
     "output_type": "display_data"
    },
    {
     "data": {
      "image/png": "[encoded data removed]",
      "text/plain": [
       "<Figure size 432x288 with 1 Axes>"
      ]
     },
     "metadata": {
      "needs_background": "light"
     },
     "output_type": "display_data"
    },
    {
     "data": {
      "image/png": "[encoded data removed]",
      "text/plain": [
       "<Figure size 432x288 with 1 Axes>"
      ]
     },
     "metadata": {
      "needs_background": "light"
     },
     "output_type": "display_data"
    },
    {
     "data": {
      "image/png": "[encoded data removed]",
      "text/plain": [
       "<Figure size 432x288 with 1 Axes>"
      ]
     },
     "metadata": {
      "needs_background": "light"
     },
     "output_type": "display_data"
    }
   ],
   "source": [
    "categorical = data.select_dtypes(include='object')\n",
    "for col in categorical.columns:\n",
    "    #bar_plot\n",
    "    data[col].value_counts().plot( kind='bar', xlabel=col, ylabel='frequency', color=['lightGreen'],edgecolor=\"black\",)\n",
    "    plt.show()"
   ]
  },
  {
   "cell_type": "markdown",
   "id": "7b6402d4",
   "metadata": {},
   "source": [
    "#### Bi-variate Analysis of Numerical Variable"
   ]
  },
  {
   "cell_type": "code",
   "execution_count": 10,
   "id": "bcab6024",
   "metadata": {},
   "outputs": [
    {
     "data": {
      "image/png": "[encoded data removed]",
      "text/plain": [
       "<Figure size 432x288 with 1 Axes>"
      ]
     },
     "metadata": {
      "needs_background": "light"
     },
     "output_type": "display_data"
    },
    {
     "data": {
      "image/png": "[encoded data removed]",
      "text/plain": [
       "<Figure size 432x288 with 1 Axes>"
      ]
     },
     "metadata": {
      "needs_background": "light"
     },
     "output_type": "display_data"
    },
    {
     "data": {
      "image/png": "[encoded data removed]",
      "text/plain": [
       "<Figure size 432x288 with 1 Axes>"
      ]
     },
     "metadata": {
      "needs_background": "light"
     },
     "output_type": "display_data"
    },
    {
     "data": {
      "image/png": "[encoded data removed]",
      "text/plain": [
       "<Figure size 432x288 with 1 Axes>"
      ]
     },
     "metadata": {
      "needs_background": "light"
     },
     "output_type": "display_data"
    },
    {
     "data": {
      "image/png": "[encoded data removed]",
      "text/plain": [
       "<Figure size 432x288 with 1 Axes>"
      ]
     },
     "metadata": {
      "needs_background": "light"
     },
     "output_type": "display_data"
    },
    {
     "data": {
      "image/png": "[encoded data removed]",
      "text/plain": [
       "<Figure size 432x288 with 1 Axes>"
      ]
     },
     "metadata": {
      "needs_background": "light"
     },
     "output_type": "display_data"
    },
    {
     "data": {
      "image/png": "[encoded data removed]",
      "text/plain": [
       "<Figure size 432x288 with 1 Axes>"
      ]
     },
     "metadata": {
      "needs_background": "light"
     },
     "output_type": "display_data"
    },
    {
     "data": {
      "image/png": "[encoded data removed]",
      "text/plain": [
       "<Figure size 432x288 with 1 Axes>"
      ]
     },
     "metadata": {
      "needs_background": "light"
     },
     "output_type": "display_data"
    },
    {
     "data": {
      "image/png": "[encoded data removed]",
      "text/plain": [
       "<Figure size 432x288 with 1 Axes>"
      ]
     },
     "metadata": {
      "needs_background": "light"
     },
     "output_type": "display_data"
    },
    {
     "data": {
      "image/png": "[encoded data removed]",
      "text/plain": [
       "<Figure size 432x288 with 1 Axes>"
      ]
     },
     "metadata": {
      "needs_background": "light"
     },
     "output_type": "display_data"
    },
    {
     "data": {
      "image/png": "[encoded data removed]",
      "text/plain": [
       "<Figure size 432x288 with 1 Axes>"
      ]
     },
     "metadata": {
      "needs_background": "light"
     },
     "output_type": "display_data"
    },
    {
     "data": {
      "image/png": "[encoded data removed]",
      "text/plain": [
       "<Figure size 432x288 with 1 Axes>"
      ]
     },
     "metadata": {
      "needs_background": "light"
     },
     "output_type": "display_data"
    },
    {
     "data": {
      "image/png": "[encoded data removed]",
      "text/plain": [
       "<Figure size 432x288 with 1 Axes>"
      ]
     },
     "metadata": {
      "needs_background": "light"
     },
     "output_type": "display_data"
    },
    {
     "data": {
      "image/png": "[encoded data removed]",
      "text/plain": [
       "<Figure size 432x288 with 1 Axes>"
      ]
     },
     "metadata": {
      "needs_background": "light"
     },
     "output_type": "display_data"
    }
   ],
   "source": [
    "numerical = data.select_dtypes(include='number')\n",
    "for col in numerical.columns:\n",
    "    if col != 'y': # exclude target variable\n",
    "        # plot a histogram\n",
    "        plt.hist(data.loc[data['y'] == 'no', col], alpha=0.5, label='no', color='yellow')\n",
    "        plt.hist(data.loc[data['y'] == 'yes', col], alpha=0.5, label='yes', color='red')\n",
    "        plt.xlabel(col)\n",
    "        plt.ylabel('Frequency')\n",
    "        plt.legend()\n",
    "        plt.show()\n",
    "        # plot a box plot\n",
    "        sns.boxplot(x='y', y=col, data=data, color='lightblue')\n",
    "        plt.show()\n",
    "\n"
   ]
  },
  {
   "cell_type": "markdown",
   "id": "f8c98d52",
   "metadata": {},
   "source": [
    "#### Bi-variate Analysis of categorical Variable with Target Variable"
   ]
  },
  {
   "cell_type": "code",
   "execution_count": 11,
   "id": "d9368d28",
   "metadata": {},
   "outputs": [
    {
     "data": {
      "image/png": "[encoded data removed]",
      "text/plain": [
       "<Figure size 432x288 with 1 Axes>"
      ]
     },
     "metadata": {
      "needs_background": "light"
     },
     "output_type": "display_data"
    },
    {
     "data": {
      "image/png": "[encoded data removed]",
      "text/plain": [
       "<Figure size 432x288 with 1 Axes>"
      ]
     },
     "metadata": {
      "needs_background": "light"
     },
     "output_type": "display_data"
    },
    {
     "data": {
      "image/png": "[encoded data removed]",
      "text/plain": [
       "<Figure size 432x288 with 1 Axes>"
      ]
     },
     "metadata": {
      "needs_background": "light"
     },
     "output_type": "display_data"
    },
    {
     "data": {
      "image/png": "[encoded data removed]",
      "text/plain": [
       "<Figure size 432x288 with 1 Axes>"
      ]
     },
     "metadata": {
      "needs_background": "light"
     },
     "output_type": "display_data"
    },
    {
     "data": {
      "image/png": "[encoded data removed]",
      "text/plain": [
       "<Figure size 432x288 with 1 Axes>"
      ]
     },
     "metadata": {
      "needs_background": "light"
     },
     "output_type": "display_data"
    },
    {
     "data": {
      "image/png": "[encoded data removed]",
      "text/plain": [
       "<Figure size 432x288 with 1 Axes>"
      ]
     },
     "metadata": {
      "needs_background": "light"
     },
     "output_type": "display_data"
    },
    {
     "data": {
      "image/png": "[encoded data removed]",
      "text/plain": [
       "<Figure size 432x288 with 1 Axes>"
      ]
     },
     "metadata": {
      "needs_background": "light"
     },
     "output_type": "display_data"
    },
    {
     "data": {
      "image/png": "[encoded data removed]",
      "text/plain": [
       "<Figure size 432x288 with 1 Axes>"
      ]
     },
     "metadata": {
      "needs_background": "light"
     },
     "output_type": "display_data"
    },
    {
     "data": {
      "image/png": "[encoded data removed]",
      "text/plain": [
       "<Figure size 432x288 with 1 Axes>"
      ]
     },
     "metadata": {
      "needs_background": "light"
     },
     "output_type": "display_data"
    }
   ],
   "source": [
    "categorical = data.select_dtypes(include='object')\n",
    "for col in categorical.columns:\n",
    "    if col != 'y': # exclude target variable\n",
    "        \n",
    "        # create a crosstab\n",
    "        cross_tab = pd.crosstab(data[col], data['y'])\n",
    "        # calculate proportion\n",
    "        cross_tab_prop = cross_tab.div(cross_tab.sum(axis=1), axis=0)\n",
    "        \n",
    "        # plot a stacked bar chart with percentage of proportion\n",
    "        ax = cross_tab_prop.plot(kind='bar', stacked=True, xlabel=col, ylabel='Proportion', \n",
    "                                 color=['pink', 'lightblue'], edgecolor=\"black\")\n",
    "        ax.legend(['no', 'yes'])\n",
    "        for p in ax.patches:\n",
    "            width, height = p.get_width(), p.get_height()\n",
    "            x, y = p.get_xy() \n",
    "            ax.annotate(f'{height:.0%}', (x + width/2, y + height/2), ha='center', va='center', fontsize=10)\n",
    "        plt.show()"
   ]
  },
  {
   "cell_type": "markdown",
   "id": "21cbb9d2",
   "metadata": {},
   "source": [
    "#### Multi-variate analysis"
   ]
  },
  {
   "cell_type": "code",
   "execution_count": 12,
   "id": "3ae9ce90",
   "metadata": {},
   "outputs": [
    {
     "data": {
      "image/png": "[encoded data removed]",
      "text/plain": [
       "<Figure size 720x576 with 2 Axes>"
      ]
     },
     "metadata": {
      "needs_background": "light"
     },
     "output_type": "display_data"
    }
   ],
   "source": [
    "## CORRELATION HEATMAP TO FIND THE RELATION BETWEEN NUMERICAL VARIABLES\n",
    "# Create a heatmap of the correlations with annotations\n",
    "plt.subplots(figsize=(10, 8))\n",
    "sns.heatmap(data.corr(), cmap=\"cool\", annot=True, fmt=\".2f\")\n",
    "\n",
    "# Set plot title\n",
    "plt.title(\"Correlation Heatmap\")\n",
    "\n",
    "# Show the plot\n",
    "plt.show()"
   ]
  },
  {
   "cell_type": "code",
   "execution_count": 13,
   "id": "8e5caa1d",
   "metadata": {},
   "outputs": [
    {
     "data": {
      "image/png": "[encoded data removed]",
      "text/plain": [
       "<Figure size 864x576 with 1 Axes>"
      ]
     },
     "metadata": {
      "needs_background": "light"
     },
     "output_type": "display_data"
    }
   ],
   "source": [
    "#Side by side box plot to compare distribution\n",
    "plt.figure(figsize=(12,8))\n",
    "sns.boxplot(x='job', y='duration', hue='y', data=data, palette='Set3', width=0.6)\n",
    "plt.xticks(rotation=45)\n",
    "plt.show()"
   ]
  },
  {
   "cell_type": "code",
   "execution_count": 14,
   "id": "a3ca7dbf",
   "metadata": {},
   "outputs": [
    {
     "data": {
      "image/png": "[encoded data removed]",
      "text/plain": [
       "<Figure size 864x576 with 1 Axes>"
      ]
     },
     "metadata": {
      "needs_background": "light"
     },
     "output_type": "display_data"
    }
   ],
   "source": [
    "plt.figure(figsize=(12,8))\n",
    "sns.boxplot(x='education', y='age', hue='y', data=data, palette='Set3', width=0.6)\n",
    "plt.xticks(rotation=45)\n",
    "plt.show()"
   ]
  },
  {
   "cell_type": "markdown",
   "id": "910dffe1",
   "metadata": {},
   "source": [
    "### DATA CLEANING AND PREPROCESSING"
   ]
  },
  {
   "cell_type": "markdown",
   "id": "de0c4072",
   "metadata": {},
   "source": [
    "#### TARGET - 'Y'"
   ]
  },
  {
   "cell_type": "code",
   "execution_count": 15,
   "id": "875ae0b5",
   "metadata": {},
   "outputs": [
    {
     "data": {
      "image/png": "[encoded data removed]",
      "text/plain": [
       "<Figure size 432x288 with 1 Axes>"
      ]
     },
     "metadata": {},
     "output_type": "display_data"
    }
   ],
   "source": [
    "## Visualize the distribution of our target Y using pie chart\n",
    "\n",
    "## Calculate the value counts of the binary variable\n",
    "value_counts = data['y'].value_counts()\n",
    "## Create a list of colors for the pie chart\n",
    "colors = ['red', 'lightgreen']\n",
    "## Create a pie chart with percentage labels\n",
    "plt.pie(value_counts, labels=['no', 'yes'], colors=colors, autopct='%1.1f%%', explode=(0.2, 0))\n",
    "## Add a title to the pie chart\n",
    "plt.title('Percentage distribution of target(y)')\n",
    "## Display the chart\n",
    "plt.show()"
   ]
  },
  {
   "cell_type": "markdown",
   "id": "6a4a7999",
   "metadata": {},
   "source": [
    "##### From the above pie chart we can say that our target is class imbalanced"
   ]
  },
  {
   "cell_type": "code",
   "execution_count": 16,
   "id": "ef4faaef",
   "metadata": {},
   "outputs": [
    {
     "data": {
      "text/html": [
       "<div>\n",
       "<style scoped>\n",
       "    .dataframe tbody tr th:only-of-type {\n",
       "        vertical-align: middle;\n",
       "    }\n",
       "\n",
       "    .dataframe tbody tr th {\n",
       "        vertical-align: top;\n",
       "    }\n",
       "\n",
       "    .dataframe thead th {\n",
       "        text-align: right;\n",
       "    }\n",
       "</style>\n",
       "<table border=\"1\" class=\"dataframe\">\n",
       "  <thead>\n",
       "    <tr style=\"text-align: right;\">\n",
       "      <th>col_0</th>\n",
       "      <th>Frequency</th>\n",
       "    </tr>\n",
       "    <tr>\n",
       "      <th>y</th>\n",
       "      <th></th>\n",
       "    </tr>\n",
       "  </thead>\n",
       "  <tbody>\n",
       "    <tr>\n",
       "      <th>no</th>\n",
       "      <td>29941</td>\n",
       "    </tr>\n",
       "    <tr>\n",
       "      <th>yes</th>\n",
       "      <td>3967</td>\n",
       "    </tr>\n",
       "  </tbody>\n",
       "</table>\n",
       "</div>"
      ],
      "text/plain": [
       "col_0  Frequency\n",
       "y               \n",
       "no         29941\n",
       "yes         3967"
      ]
     },
     "execution_count": 16,
     "metadata": {},
     "output_type": "execute_result"
    }
   ],
   "source": [
    "# Frequency Distribution of target variable(y)\n",
    "target_table = pd.crosstab(data[\"y\"],columns=\"Frequency\")\n",
    "target_table"
   ]
  },
  {
   "cell_type": "code",
   "execution_count": 17,
   "id": "216215e5",
   "metadata": {},
   "outputs": [
    {
     "data": {
      "text/plain": [
       "array([0, 1], dtype=int64)"
      ]
     },
     "execution_count": 17,
     "metadata": {},
     "output_type": "execute_result"
    }
   ],
   "source": [
    "#Label encoding of target variable\n",
    "data[\"y\"]= data[\"y\"].replace({\"no\":0,\"yes\":1})\n",
    "data[\"y\"].unique()"
   ]
  },
  {
   "cell_type": "markdown",
   "id": "594ef043",
   "metadata": {},
   "source": [
    "#### AGE"
   ]
  },
  {
   "cell_type": "code",
   "execution_count": 18,
   "id": "f64897de",
   "metadata": {},
   "outputs": [
    {
     "name": "stdout",
     "output_type": "stream",
     "text": [
      "The outliers of the 'age' column are:\n",
      " 47       78\n",
      "66       83\n",
      "147      74\n",
      "402      75\n",
      "577      75\n",
      "         ..\n",
      "33434    83\n",
      "33622    79\n",
      "33645    78\n",
      "33676    75\n",
      "33857    86\n",
      "Name: age, Length: 290, dtype: int64\n"
     ]
    }
   ],
   "source": [
    "## Checking for outlier\n",
    "# calculate z-scores for each row in the 'num_var' column\n",
    "z_scores = stats.zscore(data['age'])\n",
    "\n",
    "# find the values of the 'age' column for the outliers\n",
    "outlier_values = data.loc[(z_scores > 3) | (z_scores < -3), 'age']\n",
    "\n",
    "# display the outliers of the 'age' column\n",
    "print(\"The outliers of the 'age' column are:\\n\", outlier_values)"
   ]
  },
  {
   "cell_type": "code",
   "execution_count": 19,
   "id": "0b90e499",
   "metadata": {},
   "outputs": [
    {
     "data": {
      "text/plain": [
       "(18, 95, 77)"
      ]
     },
     "execution_count": 19,
     "metadata": {},
     "output_type": "execute_result"
    }
   ],
   "source": [
    "## Checking whether scaling/normalizing the data is required\n",
    "# find the maximum and minimum values of the 'age' column\n",
    "max_val = data['age'].max()\n",
    "min_val = data['age'].min()\n",
    "\n",
    "# calculate the range of the 'num_var' column\n",
    "range_val = max_val - min_val\n",
    "min_val,max_val,range_val"
   ]
  },
  {
   "cell_type": "markdown",
   "id": "898ae959",
   "metadata": {},
   "source": [
    "#### JOB"
   ]
  },
  {
   "cell_type": "code",
   "execution_count": 20,
   "id": "032cb4d4",
   "metadata": {},
   "outputs": [
    {
     "data": {
      "text/html": [
       "<div>\n",
       "<style scoped>\n",
       "    .dataframe tbody tr th:only-of-type {\n",
       "        vertical-align: middle;\n",
       "    }\n",
       "\n",
       "    .dataframe tbody tr th {\n",
       "        vertical-align: top;\n",
       "    }\n",
       "\n",
       "    .dataframe thead th {\n",
       "        text-align: right;\n",
       "    }\n",
       "</style>\n",
       "<table border=\"1\" class=\"dataframe\">\n",
       "  <thead>\n",
       "    <tr style=\"text-align: right;\">\n",
       "      <th>col_0</th>\n",
       "      <th>Frequency</th>\n",
       "    </tr>\n",
       "    <tr>\n",
       "      <th>job</th>\n",
       "      <th></th>\n",
       "    </tr>\n",
       "  </thead>\n",
       "  <tbody>\n",
       "    <tr>\n",
       "      <th>admin.</th>\n",
       "      <td>3860</td>\n",
       "    </tr>\n",
       "    <tr>\n",
       "      <th>blue-collar</th>\n",
       "      <td>7250</td>\n",
       "    </tr>\n",
       "    <tr>\n",
       "      <th>entrepreneur</th>\n",
       "      <td>1110</td>\n",
       "    </tr>\n",
       "    <tr>\n",
       "      <th>housemaid</th>\n",
       "      <td>934</td>\n",
       "    </tr>\n",
       "    <tr>\n",
       "      <th>management</th>\n",
       "      <td>7143</td>\n",
       "    </tr>\n",
       "    <tr>\n",
       "      <th>retired</th>\n",
       "      <td>1677</td>\n",
       "    </tr>\n",
       "    <tr>\n",
       "      <th>self-employed</th>\n",
       "      <td>1210</td>\n",
       "    </tr>\n",
       "    <tr>\n",
       "      <th>services</th>\n",
       "      <td>3104</td>\n",
       "    </tr>\n",
       "    <tr>\n",
       "      <th>student</th>\n",
       "      <td>699</td>\n",
       "    </tr>\n",
       "    <tr>\n",
       "      <th>technician</th>\n",
       "      <td>5724</td>\n",
       "    </tr>\n",
       "    <tr>\n",
       "      <th>unemployed</th>\n",
       "      <td>981</td>\n",
       "    </tr>\n",
       "    <tr>\n",
       "      <th>unknown</th>\n",
       "      <td>216</td>\n",
       "    </tr>\n",
       "  </tbody>\n",
       "</table>\n",
       "</div>"
      ],
      "text/plain": [
       "col_0          Frequency\n",
       "job                     \n",
       "admin.              3860\n",
       "blue-collar         7250\n",
       "entrepreneur        1110\n",
       "housemaid            934\n",
       "management          7143\n",
       "retired             1677\n",
       "self-employed       1210\n",
       "services            3104\n",
       "student              699\n",
       "technician          5724\n",
       "unemployed           981\n",
       "unknown              216"
      ]
     },
     "execution_count": 20,
     "metadata": {},
     "output_type": "execute_result"
    }
   ],
   "source": [
    "# Frequency Distribution of job variable(y)\n",
    "job_table = pd.crosstab(data[\"job\"],columns=\"Frequency\")\n",
    "job_table"
   ]
  },
  {
   "cell_type": "code",
   "execution_count": 21,
   "id": "0fd73b0e",
   "metadata": {},
   "outputs": [
    {
     "data": {
      "text/plain": [
       "dtype('O')"
      ]
     },
     "execution_count": 21,
     "metadata": {},
     "output_type": "execute_result"
    }
   ],
   "source": [
    "data['job'].dtypes"
   ]
  },
  {
   "cell_type": "markdown",
   "id": "105d46e4",
   "metadata": {},
   "source": [
    "#### MARITAL"
   ]
  },
  {
   "cell_type": "code",
   "execution_count": 22,
   "id": "79321629",
   "metadata": {},
   "outputs": [
    {
     "data": {
      "text/html": [
       "<div>\n",
       "<style scoped>\n",
       "    .dataframe tbody tr th:only-of-type {\n",
       "        vertical-align: middle;\n",
       "    }\n",
       "\n",
       "    .dataframe tbody tr th {\n",
       "        vertical-align: top;\n",
       "    }\n",
       "\n",
       "    .dataframe thead th {\n",
       "        text-align: right;\n",
       "    }\n",
       "</style>\n",
       "<table border=\"1\" class=\"dataframe\">\n",
       "  <thead>\n",
       "    <tr style=\"text-align: right;\">\n",
       "      <th>col_0</th>\n",
       "      <th>Frequency</th>\n",
       "    </tr>\n",
       "    <tr>\n",
       "      <th>marital</th>\n",
       "      <th></th>\n",
       "    </tr>\n",
       "  </thead>\n",
       "  <tbody>\n",
       "    <tr>\n",
       "      <th>divorced</th>\n",
       "      <td>3908</td>\n",
       "    </tr>\n",
       "    <tr>\n",
       "      <th>married</th>\n",
       "      <td>20399</td>\n",
       "    </tr>\n",
       "    <tr>\n",
       "      <th>single</th>\n",
       "      <td>9601</td>\n",
       "    </tr>\n",
       "  </tbody>\n",
       "</table>\n",
       "</div>"
      ],
      "text/plain": [
       "col_0     Frequency\n",
       "marital            \n",
       "divorced       3908\n",
       "married       20399\n",
       "single         9601"
      ]
     },
     "execution_count": 22,
     "metadata": {},
     "output_type": "execute_result"
    }
   ],
   "source": [
    "# Frequency Distribution of marital variable(y)\n",
    "marital_table = pd.crosstab(data[\"marital\"],columns=\"Frequency\")\n",
    "marital_table"
   ]
  },
  {
   "cell_type": "markdown",
   "id": "e0344b02",
   "metadata": {},
   "source": [
    "#### EDUCATION"
   ]
  },
  {
   "cell_type": "code",
   "execution_count": 23,
   "id": "e8b6bda4",
   "metadata": {},
   "outputs": [
    {
     "data": {
      "text/html": [
       "<div>\n",
       "<style scoped>\n",
       "    .dataframe tbody tr th:only-of-type {\n",
       "        vertical-align: middle;\n",
       "    }\n",
       "\n",
       "    .dataframe tbody tr th {\n",
       "        vertical-align: top;\n",
       "    }\n",
       "\n",
       "    .dataframe thead th {\n",
       "        text-align: right;\n",
       "    }\n",
       "</style>\n",
       "<table border=\"1\" class=\"dataframe\">\n",
       "  <thead>\n",
       "    <tr style=\"text-align: right;\">\n",
       "      <th>col_0</th>\n",
       "      <th>Frequency</th>\n",
       "    </tr>\n",
       "    <tr>\n",
       "      <th>education</th>\n",
       "      <th></th>\n",
       "    </tr>\n",
       "  </thead>\n",
       "  <tbody>\n",
       "    <tr>\n",
       "      <th>primary</th>\n",
       "      <td>5098</td>\n",
       "    </tr>\n",
       "    <tr>\n",
       "      <th>secondary</th>\n",
       "      <td>17346</td>\n",
       "    </tr>\n",
       "    <tr>\n",
       "      <th>tertiary</th>\n",
       "      <td>10079</td>\n",
       "    </tr>\n",
       "    <tr>\n",
       "      <th>unknown</th>\n",
       "      <td>1385</td>\n",
       "    </tr>\n",
       "  </tbody>\n",
       "</table>\n",
       "</div>"
      ],
      "text/plain": [
       "col_0      Frequency\n",
       "education           \n",
       "primary         5098\n",
       "secondary      17346\n",
       "tertiary       10079\n",
       "unknown         1385"
      ]
     },
     "execution_count": 23,
     "metadata": {},
     "output_type": "execute_result"
    }
   ],
   "source": [
    "# Frequency Distribution of education variable(y)\n",
    "education_table = pd.crosstab(data[\"education\"],columns=\"Frequency\")\n",
    "education_table"
   ]
  },
  {
   "cell_type": "markdown",
   "id": "82199d52",
   "metadata": {},
   "source": [
    "#### DEFAULT"
   ]
  },
  {
   "cell_type": "code",
   "execution_count": 24,
   "id": "d9709470",
   "metadata": {},
   "outputs": [
    {
     "data": {
      "text/html": [
       "<div>\n",
       "<style scoped>\n",
       "    .dataframe tbody tr th:only-of-type {\n",
       "        vertical-align: middle;\n",
       "    }\n",
       "\n",
       "    .dataframe tbody tr th {\n",
       "        vertical-align: top;\n",
       "    }\n",
       "\n",
       "    .dataframe thead th {\n",
       "        text-align: right;\n",
       "    }\n",
       "</style>\n",
       "<table border=\"1\" class=\"dataframe\">\n",
       "  <thead>\n",
       "    <tr style=\"text-align: right;\">\n",
       "      <th>col_0</th>\n",
       "      <th>Frequency</th>\n",
       "    </tr>\n",
       "    <tr>\n",
       "      <th>default</th>\n",
       "      <th></th>\n",
       "    </tr>\n",
       "  </thead>\n",
       "  <tbody>\n",
       "    <tr>\n",
       "      <th>no</th>\n",
       "      <td>33315</td>\n",
       "    </tr>\n",
       "    <tr>\n",
       "      <th>yes</th>\n",
       "      <td>593</td>\n",
       "    </tr>\n",
       "  </tbody>\n",
       "</table>\n",
       "</div>"
      ],
      "text/plain": [
       "col_0    Frequency\n",
       "default           \n",
       "no           33315\n",
       "yes            593"
      ]
     },
     "execution_count": 24,
     "metadata": {},
     "output_type": "execute_result"
    }
   ],
   "source": [
    "# Frequency Distribution of default variable(y)\n",
    "default_table = pd.crosstab(data[\"default\"],columns=\"Frequency\")\n",
    "default_table"
   ]
  },
  {
   "cell_type": "markdown",
   "id": "abf04a6a",
   "metadata": {},
   "source": [
    "#### BALANCE"
   ]
  },
  {
   "cell_type": "code",
   "execution_count": 25,
   "id": "0a83350b",
   "metadata": {},
   "outputs": [
    {
     "data": {
      "text/plain": [
       "(-8019, 102127, 110146)"
      ]
     },
     "execution_count": 25,
     "metadata": {},
     "output_type": "execute_result"
    }
   ],
   "source": [
    "## Checking whether scaling/normalizing the data is required\n",
    "# find the maximum and minimum values of the 'balance' column\n",
    "max_val = data['balance'].max()\n",
    "min_val = data['balance'].min()\n",
    "\n",
    "# calculate the range of the 'balance' column\n",
    "range_val = max_val - min_val\n",
    "min_val,max_val,range_val"
   ]
  },
  {
   "cell_type": "markdown",
   "id": "3195f7d8",
   "metadata": {},
   "source": [
    "#### HOUSING"
   ]
  },
  {
   "cell_type": "code",
   "execution_count": 26,
   "id": "17639d20",
   "metadata": {},
   "outputs": [
    {
     "data": {
      "text/html": [
       "<div>\n",
       "<style scoped>\n",
       "    .dataframe tbody tr th:only-of-type {\n",
       "        vertical-align: middle;\n",
       "    }\n",
       "\n",
       "    .dataframe tbody tr th {\n",
       "        vertical-align: top;\n",
       "    }\n",
       "\n",
       "    .dataframe thead th {\n",
       "        text-align: right;\n",
       "    }\n",
       "</style>\n",
       "<table border=\"1\" class=\"dataframe\">\n",
       "  <thead>\n",
       "    <tr style=\"text-align: right;\">\n",
       "      <th>col_0</th>\n",
       "      <th>Frequency</th>\n",
       "    </tr>\n",
       "    <tr>\n",
       "      <th>housing</th>\n",
       "      <th></th>\n",
       "    </tr>\n",
       "  </thead>\n",
       "  <tbody>\n",
       "    <tr>\n",
       "      <th>no</th>\n",
       "      <td>14992</td>\n",
       "    </tr>\n",
       "    <tr>\n",
       "      <th>yes</th>\n",
       "      <td>18916</td>\n",
       "    </tr>\n",
       "  </tbody>\n",
       "</table>\n",
       "</div>"
      ],
      "text/plain": [
       "col_0    Frequency\n",
       "housing           \n",
       "no           14992\n",
       "yes          18916"
      ]
     },
     "execution_count": 26,
     "metadata": {},
     "output_type": "execute_result"
    }
   ],
   "source": [
    "# Frequency Distribution of housing variable(y)\n",
    "housing_table = pd.crosstab(data[\"housing\"],columns=\"Frequency\")\n",
    "housing_table"
   ]
  },
  {
   "cell_type": "markdown",
   "id": "489dd195",
   "metadata": {},
   "source": [
    "#### LOAN"
   ]
  },
  {
   "cell_type": "code",
   "execution_count": 27,
   "id": "d7f6a5be",
   "metadata": {},
   "outputs": [
    {
     "data": {
      "text/html": [
       "<div>\n",
       "<style scoped>\n",
       "    .dataframe tbody tr th:only-of-type {\n",
       "        vertical-align: middle;\n",
       "    }\n",
       "\n",
       "    .dataframe tbody tr th {\n",
       "        vertical-align: top;\n",
       "    }\n",
       "\n",
       "    .dataframe thead th {\n",
       "        text-align: right;\n",
       "    }\n",
       "</style>\n",
       "<table border=\"1\" class=\"dataframe\">\n",
       "  <thead>\n",
       "    <tr style=\"text-align: right;\">\n",
       "      <th>col_0</th>\n",
       "      <th>Frequency</th>\n",
       "    </tr>\n",
       "    <tr>\n",
       "      <th>y</th>\n",
       "      <th></th>\n",
       "    </tr>\n",
       "  </thead>\n",
       "  <tbody>\n",
       "    <tr>\n",
       "      <th>0</th>\n",
       "      <td>29941</td>\n",
       "    </tr>\n",
       "    <tr>\n",
       "      <th>1</th>\n",
       "      <td>3967</td>\n",
       "    </tr>\n",
       "  </tbody>\n",
       "</table>\n",
       "</div>"
      ],
      "text/plain": [
       "col_0  Frequency\n",
       "y               \n",
       "0          29941\n",
       "1           3967"
      ]
     },
     "execution_count": 27,
     "metadata": {},
     "output_type": "execute_result"
    }
   ],
   "source": [
    "# Frequency Distribution of loan variable(y)\n",
    "loan_table = pd.crosstab(data[\"y\"],columns=\"Frequency\")\n",
    "loan_table"
   ]
  },
  {
   "cell_type": "markdown",
   "id": "71d0a8db",
   "metadata": {},
   "source": [
    "#### CONTACT"
   ]
  },
  {
   "cell_type": "code",
   "execution_count": 28,
   "id": "570fbab2",
   "metadata": {},
   "outputs": [
    {
     "data": {
      "text/html": [
       "<div>\n",
       "<style scoped>\n",
       "    .dataframe tbody tr th:only-of-type {\n",
       "        vertical-align: middle;\n",
       "    }\n",
       "\n",
       "    .dataframe tbody tr th {\n",
       "        vertical-align: top;\n",
       "    }\n",
       "\n",
       "    .dataframe thead th {\n",
       "        text-align: right;\n",
       "    }\n",
       "</style>\n",
       "<table border=\"1\" class=\"dataframe\">\n",
       "  <thead>\n",
       "    <tr style=\"text-align: right;\">\n",
       "      <th>col_0</th>\n",
       "      <th>Frequency</th>\n",
       "    </tr>\n",
       "    <tr>\n",
       "      <th>contact</th>\n",
       "      <th></th>\n",
       "    </tr>\n",
       "  </thead>\n",
       "  <tbody>\n",
       "    <tr>\n",
       "      <th>cellular</th>\n",
       "      <td>21994</td>\n",
       "    </tr>\n",
       "    <tr>\n",
       "      <th>telephone</th>\n",
       "      <td>2164</td>\n",
       "    </tr>\n",
       "    <tr>\n",
       "      <th>unknown</th>\n",
       "      <td>9750</td>\n",
       "    </tr>\n",
       "  </tbody>\n",
       "</table>\n",
       "</div>"
      ],
      "text/plain": [
       "col_0      Frequency\n",
       "contact             \n",
       "cellular       21994\n",
       "telephone       2164\n",
       "unknown         9750"
      ]
     },
     "execution_count": 28,
     "metadata": {},
     "output_type": "execute_result"
    }
   ],
   "source": [
    "# Frequency Distribution of contact variable(y)\n",
    "contact_table = pd.crosstab(data[\"contact\"],columns=\"Frequency\")\n",
    "contact_table"
   ]
  },
  {
   "cell_type": "markdown",
   "id": "a6c20bac",
   "metadata": {},
   "source": [
    "#### DAY"
   ]
  },
  {
   "cell_type": "code",
   "execution_count": 29,
   "id": "d1a173e0",
   "metadata": {},
   "outputs": [
    {
     "data": {
      "text/plain": [
       "(1, 31, 30)"
      ]
     },
     "execution_count": 29,
     "metadata": {},
     "output_type": "execute_result"
    }
   ],
   "source": [
    "## Checking whether scaling/normalizing the data is required\n",
    "# find the maximum and minimum values of the 'day' column\n",
    "max_val = data['day'].max()\n",
    "min_val = data['day'].min()\n",
    "\n",
    "# calculate the range of the 'day' column\n",
    "range_val = max_val - min_val\n",
    "min_val,max_val,range_val"
   ]
  },
  {
   "cell_type": "markdown",
   "id": "b7edbc48",
   "metadata": {},
   "source": [
    "#### MONTH"
   ]
  },
  {
   "cell_type": "code",
   "execution_count": 30,
   "id": "6e61300c",
   "metadata": {},
   "outputs": [
    {
     "data": {
      "text/html": [
       "<div>\n",
       "<style scoped>\n",
       "    .dataframe tbody tr th:only-of-type {\n",
       "        vertical-align: middle;\n",
       "    }\n",
       "\n",
       "    .dataframe tbody tr th {\n",
       "        vertical-align: top;\n",
       "    }\n",
       "\n",
       "    .dataframe thead th {\n",
       "        text-align: right;\n",
       "    }\n",
       "</style>\n",
       "<table border=\"1\" class=\"dataframe\">\n",
       "  <thead>\n",
       "    <tr style=\"text-align: right;\">\n",
       "      <th>col_0</th>\n",
       "      <th>Frequency</th>\n",
       "    </tr>\n",
       "    <tr>\n",
       "      <th>month</th>\n",
       "      <th></th>\n",
       "    </tr>\n",
       "  </thead>\n",
       "  <tbody>\n",
       "    <tr>\n",
       "      <th>apr</th>\n",
       "      <td>2198</td>\n",
       "    </tr>\n",
       "    <tr>\n",
       "      <th>aug</th>\n",
       "      <td>4727</td>\n",
       "    </tr>\n",
       "    <tr>\n",
       "      <th>dec</th>\n",
       "      <td>169</td>\n",
       "    </tr>\n",
       "    <tr>\n",
       "      <th>feb</th>\n",
       "      <td>2025</td>\n",
       "    </tr>\n",
       "    <tr>\n",
       "      <th>jan</th>\n",
       "      <td>1048</td>\n",
       "    </tr>\n",
       "    <tr>\n",
       "      <th>jul</th>\n",
       "      <td>5124</td>\n",
       "    </tr>\n",
       "    <tr>\n",
       "      <th>jun</th>\n",
       "      <td>4004</td>\n",
       "    </tr>\n",
       "    <tr>\n",
       "      <th>mar</th>\n",
       "      <td>351</td>\n",
       "    </tr>\n",
       "    <tr>\n",
       "      <th>may</th>\n",
       "      <td>10308</td>\n",
       "    </tr>\n",
       "    <tr>\n",
       "      <th>nov</th>\n",
       "      <td>2997</td>\n",
       "    </tr>\n",
       "    <tr>\n",
       "      <th>oct</th>\n",
       "      <td>525</td>\n",
       "    </tr>\n",
       "    <tr>\n",
       "      <th>sep</th>\n",
       "      <td>432</td>\n",
       "    </tr>\n",
       "  </tbody>\n",
       "</table>\n",
       "</div>"
      ],
      "text/plain": [
       "col_0  Frequency\n",
       "month           \n",
       "apr         2198\n",
       "aug         4727\n",
       "dec          169\n",
       "feb         2025\n",
       "jan         1048\n",
       "jul         5124\n",
       "jun         4004\n",
       "mar          351\n",
       "may        10308\n",
       "nov         2997\n",
       "oct          525\n",
       "sep          432"
      ]
     },
     "execution_count": 30,
     "metadata": {},
     "output_type": "execute_result"
    }
   ],
   "source": [
    "# Frequency Distribution of month variable(y)\n",
    "month_table = pd.crosstab(data[\"month\"],columns=\"Frequency\")\n",
    "month_table"
   ]
  },
  {
   "cell_type": "markdown",
   "id": "7edc06c7",
   "metadata": {},
   "source": [
    "#### CAMPAIGN"
   ]
  },
  {
   "cell_type": "code",
   "execution_count": 31,
   "id": "3c627ada",
   "metadata": {},
   "outputs": [
    {
     "name": "stdout",
     "output_type": "stream",
     "text": [
      "The outliers of the 'campaign' column are:\n",
      " 8        12\n",
      "28       13\n",
      "77       13\n",
      "165      14\n",
      "215      15\n",
      "         ..\n",
      "33761    12\n",
      "33762    15\n",
      "33785    16\n",
      "33832    15\n",
      "33890    32\n",
      "Name: campaign, Length: 730, dtype: int64\n"
     ]
    }
   ],
   "source": [
    "## Checking for outlier\n",
    "# calculate z-scores for each row in the 'campaign' column\n",
    "z_scores = stats.zscore(data['campaign'])\n",
    "\n",
    "# find the values of the 'campaign' column for the outliers\n",
    "outlier_values = data.loc[(z_scores > 3) | (z_scores < -3), 'campaign']\n",
    "\n",
    "# display the outliers of the 'campaign' column\n",
    "print(\"The outliers of the 'campaign' column are:\\n\", outlier_values)"
   ]
  },
  {
   "cell_type": "code",
   "execution_count": 32,
   "id": "efe6cc8e",
   "metadata": {},
   "outputs": [
    {
     "data": {
      "text/plain": [
       "(1, 63, 62)"
      ]
     },
     "execution_count": 32,
     "metadata": {},
     "output_type": "execute_result"
    }
   ],
   "source": [
    "## Checking whether scaling/normalizing the data is required\n",
    "# find the maximum and minimum values of the 'campaign' column\n",
    "max_val = data['campaign'].max()\n",
    "min_val = data['campaign'].min()\n",
    "\n",
    "# calculate the range of the 'campaign' column\n",
    "range_val = max_val - min_val\n",
    "min_val,max_val,range_val"
   ]
  },
  {
   "cell_type": "markdown",
   "id": "5fc1ea6a",
   "metadata": {},
   "source": [
    "#### DURATION"
   ]
  },
  {
   "cell_type": "code",
   "execution_count": 33,
   "id": "5e2a5dd6",
   "metadata": {},
   "outputs": [
    {
     "name": "stdout",
     "output_type": "stream",
     "text": [
      "The outliers of the 'duration' column are:\n",
      " 37       1184\n",
      "134      1548\n",
      "304      1187\n",
      "328      1681\n",
      "372      1343\n",
      "         ... \n",
      "33499    1286\n",
      "33516    1906\n",
      "33532    1880\n",
      "33764    1150\n",
      "33772    1422\n",
      "Name: duration, Length: 718, dtype: int64\n"
     ]
    }
   ],
   "source": [
    "## Checking for outlier\n",
    "# calculate z-scores for each row in the 'duration' column\n",
    "z_scores = stats.zscore(data['duration'])\n",
    "\n",
    "# find the values of the 'duration' column for the outliers\n",
    "outlier_values = data.loc[(z_scores > 3) | (z_scores < -3), 'duration']\n",
    "\n",
    "# display the outliers of the 'duration' column\n",
    "print(\"The outliers of the 'duration' column are:\\n\", outlier_values)"
   ]
  },
  {
   "cell_type": "code",
   "execution_count": 34,
   "id": "4c840792",
   "metadata": {},
   "outputs": [
    {
     "data": {
      "text/plain": [
       "(0, 4918, 4918)"
      ]
     },
     "execution_count": 34,
     "metadata": {},
     "output_type": "execute_result"
    }
   ],
   "source": [
    "## Checking whether scaling/normalizing the data is required\n",
    "# find the maximum and minimum values of the 'duration' column\n",
    "max_val = data['duration'].max()\n",
    "min_val = data['duration'].min()\n",
    "\n",
    "# calculate the range of the 'duration' column\n",
    "range_val = max_val - min_val\n",
    "min_val,max_val,range_val"
   ]
  },
  {
   "cell_type": "markdown",
   "id": "5362c3f4",
   "metadata": {},
   "source": [
    "#### PDAYS"
   ]
  },
  {
   "cell_type": "code",
   "execution_count": 35,
   "id": "7bf67fa7",
   "metadata": {},
   "outputs": [
    {
     "name": "stdout",
     "output_type": "stream",
     "text": [
      "The outliers of the 'pdays' column are:\n",
      " 23       344\n",
      "24       347\n",
      "36       345\n",
      "49       359\n",
      "50       460\n",
      "        ... \n",
      "33824    368\n",
      "33826    366\n",
      "33830    360\n",
      "33854    804\n",
      "33863    365\n",
      "Name: pdays, Length: 1318, dtype: int64\n"
     ]
    }
   ],
   "source": [
    "## Checking for outlier\n",
    "# calculate z-scores for each row in the 'pdays' column\n",
    "z_scores = stats.zscore(data['pdays'])\n",
    "\n",
    "# find the values of the 'pdays' column for the outliers\n",
    "outlier_values = data.loc[(z_scores > 3) | (z_scores < -3), 'pdays']\n",
    "\n",
    "# display the outliers of the 'pdays' column\n",
    "print(\"The outliers of the 'pdays' column are:\\n\", outlier_values)"
   ]
  },
  {
   "cell_type": "code",
   "execution_count": 36,
   "id": "bba3fc2e",
   "metadata": {},
   "outputs": [
    {
     "data": {
      "text/plain": [
       "(-1, 871, 872)"
      ]
     },
     "execution_count": 36,
     "metadata": {},
     "output_type": "execute_result"
    }
   ],
   "source": [
    "## Checking whether scaling/normalizing the data is required\n",
    "# find the maximum and minimum values of the 'pdays' column\n",
    "max_val = data['pdays'].max()\n",
    "min_val = data['pdays'].min()\n",
    "\n",
    "# calculate the range of the 'num_var' column\n",
    "range_val = max_val - min_val\n",
    "min_val,max_val,range_val"
   ]
  },
  {
   "cell_type": "markdown",
   "id": "61e95a13",
   "metadata": {},
   "source": [
    "#### PREVIOUS"
   ]
  },
  {
   "cell_type": "code",
   "execution_count": 37,
   "id": "0c2dd167",
   "metadata": {},
   "outputs": [
    {
     "name": "stdout",
     "output_type": "stream",
     "text": [
      "The outliers of the 'previous' column are:\n",
      " 24        9\n",
      "44        9\n",
      "125      11\n",
      "242       8\n",
      "284       9\n",
      "         ..\n",
      "33571    14\n",
      "33782    10\n",
      "33826    10\n",
      "33868     9\n",
      "33884    12\n",
      "Name: previous, Length: 436, dtype: int64\n"
     ]
    }
   ],
   "source": [
    "## Checking for outlier\n",
    "# calculate z-scores for each row in the 'previous' column\n",
    "z_scores = stats.zscore(data['previous'])\n",
    "\n",
    "# find the values of the 'previous' column for the outliers\n",
    "outlier_values = data.loc[(z_scores > 3) | (z_scores < -3), 'previous']\n",
    "\n",
    "# display the outliers of the 'previous' column\n",
    "print(\"The outliers of the 'previous' column are:\\n\", outlier_values)"
   ]
  },
  {
   "cell_type": "code",
   "execution_count": 38,
   "id": "80af6d1b",
   "metadata": {},
   "outputs": [
    {
     "data": {
      "text/plain": [
       "(0, 275, 275)"
      ]
     },
     "execution_count": 38,
     "metadata": {},
     "output_type": "execute_result"
    }
   ],
   "source": [
    "## Checking whether scaling/normalizing the data is required\n",
    "# find the maximum and minimum values of the 'previous' column\n",
    "max_val = data['previous'].max()\n",
    "min_val = data['previous'].min()\n",
    "\n",
    "# calculate the range of the 'num_var' column\n",
    "range_val = max_val - min_val\n",
    "min_val,max_val,range_val"
   ]
  },
  {
   "cell_type": "code",
   "execution_count": 39,
   "id": "d3a98bcc",
   "metadata": {},
   "outputs": [
    {
     "name": "stdout",
     "output_type": "stream",
     "text": [
      "Max value: 275, Index: 32107\n",
      "       age            job   marital  education default  balance housing loan  \\\n",
      "0       58        retired   married  secondary      no      166      no  yes   \n",
      "1       51    blue-collar   married    primary      no     2995     yes   no   \n",
      "2       50     management   married   tertiary      no      569      no  yes   \n",
      "3       27         admin.   married  secondary      no       73     yes   no   \n",
      "4       38  self-employed  divorced   tertiary      no     6447      no   no   \n",
      "...    ...            ...       ...        ...     ...      ...     ...  ...   \n",
      "33903   32         admin.    single  secondary      no      471      no  yes   \n",
      "33904   44     management   married   tertiary      no        0     yes   no   \n",
      "33905   42     technician    single  secondary      no        0     yes   no   \n",
      "33906   34     technician   married   tertiary      no      116      no   no   \n",
      "33907   60        retired   married    primary      no       60     yes   no   \n",
      "\n",
      "        contact  day month  duration  campaign  pdays  previous poutcome  y  \n",
      "0       unknown    3   jul       211         1     -1         0  unknown  0  \n",
      "1       unknown   11   jun        93         2     -1         0  unknown  0  \n",
      "2      cellular   18   aug       452         4     -1         0  unknown  0  \n",
      "3      cellular    5   feb       140         1     -1         0  unknown  0  \n",
      "4      cellular   12   jan       296         1     -1         0  unknown  0  \n",
      "...         ...  ...   ...       ...       ...    ...       ...      ... ..  \n",
      "33903  cellular    2   apr       243         3     -1         0  unknown  1  \n",
      "33904  cellular   20   aug       141         3     -1         0  unknown  0  \n",
      "33905   unknown    6   may       293         1     -1         0  unknown  0  \n",
      "33906  cellular   11   aug       145         2     -1         0  unknown  0  \n",
      "33907   unknown    5   may       219         1     -1         0  unknown  0  \n",
      "\n",
      "[33907 rows x 17 columns]\n"
     ]
    }
   ],
   "source": [
    "# find index of max value in my_column\n",
    "max_index = data['previous'].idxmax()\n",
    "\n",
    "# print max value and index\n",
    "print(f\"Max value: {data['previous'][max_index]}, Index: {max_index}\")\n",
    "\n",
    "# drop row with max value from my_column\n",
    "data = data.drop(max_index, axis=0)\n",
    "\n",
    "# print the updated dataset\n",
    "print(data)"
   ]
  },
  {
   "cell_type": "markdown",
   "id": "bb33f5ca",
   "metadata": {},
   "source": [
    "#### POUTCOME"
   ]
  },
  {
   "cell_type": "code",
   "execution_count": 40,
   "id": "d15a40a1",
   "metadata": {},
   "outputs": [
    {
     "data": {
      "text/html": [
       "<div>\n",
       "<style scoped>\n",
       "    .dataframe tbody tr th:only-of-type {\n",
       "        vertical-align: middle;\n",
       "    }\n",
       "\n",
       "    .dataframe tbody tr th {\n",
       "        vertical-align: top;\n",
       "    }\n",
       "\n",
       "    .dataframe thead th {\n",
       "        text-align: right;\n",
       "    }\n",
       "</style>\n",
       "<table border=\"1\" class=\"dataframe\">\n",
       "  <thead>\n",
       "    <tr style=\"text-align: right;\">\n",
       "      <th>col_0</th>\n",
       "      <th>Frequency</th>\n",
       "    </tr>\n",
       "    <tr>\n",
       "      <th>poutcome</th>\n",
       "      <th></th>\n",
       "    </tr>\n",
       "  </thead>\n",
       "  <tbody>\n",
       "    <tr>\n",
       "      <th>failure</th>\n",
       "      <td>3686</td>\n",
       "    </tr>\n",
       "    <tr>\n",
       "      <th>other</th>\n",
       "      <td>1372</td>\n",
       "    </tr>\n",
       "    <tr>\n",
       "      <th>success</th>\n",
       "      <td>1139</td>\n",
       "    </tr>\n",
       "    <tr>\n",
       "      <th>unknown</th>\n",
       "      <td>27710</td>\n",
       "    </tr>\n",
       "  </tbody>\n",
       "</table>\n",
       "</div>"
      ],
      "text/plain": [
       "col_0     Frequency\n",
       "poutcome           \n",
       "failure        3686\n",
       "other          1372\n",
       "success        1139\n",
       "unknown       27710"
      ]
     },
     "execution_count": 40,
     "metadata": {},
     "output_type": "execute_result"
    }
   ],
   "source": [
    "# Frequency Distribution of poutcome variable(y)\n",
    "poutcome_table = pd.crosstab(data[\"poutcome\"],columns=\"Frequency\")\n",
    "poutcome_table"
   ]
  },
  {
   "cell_type": "markdown",
   "id": "bf510743",
   "metadata": {},
   "source": [
    "## MODEL FITTING"
   ]
  },
  {
   "cell_type": "markdown",
   "id": "f525b8c1",
   "metadata": {},
   "source": [
    "### Taking out Numerical Variables from dataset"
   ]
  },
  {
   "cell_type": "code",
   "execution_count": 41,
   "id": "e04deb4f",
   "metadata": {},
   "outputs": [
    {
     "data": {
      "text/html": [
       "<div>\n",
       "<style scoped>\n",
       "    .dataframe tbody tr th:only-of-type {\n",
       "        vertical-align: middle;\n",
       "    }\n",
       "\n",
       "    .dataframe tbody tr th {\n",
       "        vertical-align: top;\n",
       "    }\n",
       "\n",
       "    .dataframe thead th {\n",
       "        text-align: right;\n",
       "    }\n",
       "</style>\n",
       "<table border=\"1\" class=\"dataframe\">\n",
       "  <thead>\n",
       "    <tr style=\"text-align: right;\">\n",
       "      <th></th>\n",
       "      <th>age</th>\n",
       "      <th>balance</th>\n",
       "      <th>day</th>\n",
       "      <th>duration</th>\n",
       "      <th>campaign</th>\n",
       "      <th>pdays</th>\n",
       "      <th>previous</th>\n",
       "      <th>y</th>\n",
       "    </tr>\n",
       "  </thead>\n",
       "  <tbody>\n",
       "    <tr>\n",
       "      <th>0</th>\n",
       "      <td>58</td>\n",
       "      <td>166</td>\n",
       "      <td>3</td>\n",
       "      <td>211</td>\n",
       "      <td>1</td>\n",
       "      <td>-1</td>\n",
       "      <td>0</td>\n",
       "      <td>0</td>\n",
       "    </tr>\n",
       "    <tr>\n",
       "      <th>1</th>\n",
       "      <td>51</td>\n",
       "      <td>2995</td>\n",
       "      <td>11</td>\n",
       "      <td>93</td>\n",
       "      <td>2</td>\n",
       "      <td>-1</td>\n",
       "      <td>0</td>\n",
       "      <td>0</td>\n",
       "    </tr>\n",
       "    <tr>\n",
       "      <th>2</th>\n",
       "      <td>50</td>\n",
       "      <td>569</td>\n",
       "      <td>18</td>\n",
       "      <td>452</td>\n",
       "      <td>4</td>\n",
       "      <td>-1</td>\n",
       "      <td>0</td>\n",
       "      <td>0</td>\n",
       "    </tr>\n",
       "    <tr>\n",
       "      <th>3</th>\n",
       "      <td>27</td>\n",
       "      <td>73</td>\n",
       "      <td>5</td>\n",
       "      <td>140</td>\n",
       "      <td>1</td>\n",
       "      <td>-1</td>\n",
       "      <td>0</td>\n",
       "      <td>0</td>\n",
       "    </tr>\n",
       "    <tr>\n",
       "      <th>4</th>\n",
       "      <td>38</td>\n",
       "      <td>6447</td>\n",
       "      <td>12</td>\n",
       "      <td>296</td>\n",
       "      <td>1</td>\n",
       "      <td>-1</td>\n",
       "      <td>0</td>\n",
       "      <td>0</td>\n",
       "    </tr>\n",
       "    <tr>\n",
       "      <th>...</th>\n",
       "      <td>...</td>\n",
       "      <td>...</td>\n",
       "      <td>...</td>\n",
       "      <td>...</td>\n",
       "      <td>...</td>\n",
       "      <td>...</td>\n",
       "      <td>...</td>\n",
       "      <td>...</td>\n",
       "    </tr>\n",
       "    <tr>\n",
       "      <th>33903</th>\n",
       "      <td>32</td>\n",
       "      <td>471</td>\n",
       "      <td>2</td>\n",
       "      <td>243</td>\n",
       "      <td>3</td>\n",
       "      <td>-1</td>\n",
       "      <td>0</td>\n",
       "      <td>1</td>\n",
       "    </tr>\n",
       "    <tr>\n",
       "      <th>33904</th>\n",
       "      <td>44</td>\n",
       "      <td>0</td>\n",
       "      <td>20</td>\n",
       "      <td>141</td>\n",
       "      <td>3</td>\n",
       "      <td>-1</td>\n",
       "      <td>0</td>\n",
       "      <td>0</td>\n",
       "    </tr>\n",
       "    <tr>\n",
       "      <th>33905</th>\n",
       "      <td>42</td>\n",
       "      <td>0</td>\n",
       "      <td>6</td>\n",
       "      <td>293</td>\n",
       "      <td>1</td>\n",
       "      <td>-1</td>\n",
       "      <td>0</td>\n",
       "      <td>0</td>\n",
       "    </tr>\n",
       "    <tr>\n",
       "      <th>33906</th>\n",
       "      <td>34</td>\n",
       "      <td>116</td>\n",
       "      <td>11</td>\n",
       "      <td>145</td>\n",
       "      <td>2</td>\n",
       "      <td>-1</td>\n",
       "      <td>0</td>\n",
       "      <td>0</td>\n",
       "    </tr>\n",
       "    <tr>\n",
       "      <th>33907</th>\n",
       "      <td>60</td>\n",
       "      <td>60</td>\n",
       "      <td>5</td>\n",
       "      <td>219</td>\n",
       "      <td>1</td>\n",
       "      <td>-1</td>\n",
       "      <td>0</td>\n",
       "      <td>0</td>\n",
       "    </tr>\n",
       "  </tbody>\n",
       "</table>\n",
       "<p>33907 rows × 8 columns</p>\n",
       "</div>"
      ],
      "text/plain": [
       "       age  balance  day  duration  campaign  pdays  previous  y\n",
       "0       58      166    3       211         1     -1         0  0\n",
       "1       51     2995   11        93         2     -1         0  0\n",
       "2       50      569   18       452         4     -1         0  0\n",
       "3       27       73    5       140         1     -1         0  0\n",
       "4       38     6447   12       296         1     -1         0  0\n",
       "...    ...      ...  ...       ...       ...    ...       ... ..\n",
       "33903   32      471    2       243         3     -1         0  1\n",
       "33904   44        0   20       141         3     -1         0  0\n",
       "33905   42        0    6       293         1     -1         0  0\n",
       "33906   34      116   11       145         2     -1         0  0\n",
       "33907   60       60    5       219         1     -1         0  0\n",
       "\n",
       "[33907 rows x 8 columns]"
      ]
     },
     "execution_count": 41,
     "metadata": {},
     "output_type": "execute_result"
    }
   ],
   "source": [
    "numerical_Variables = data.select_dtypes(include=['int', 'float'])#exclude categorical variables\n",
    "numerical_Variables"
   ]
  },
  {
   "cell_type": "markdown",
   "id": "db9e5cd8",
   "metadata": {},
   "source": [
    "### One-Hot Encoding of Categorical Variables"
   ]
  },
  {
   "cell_type": "code",
   "execution_count": 42,
   "id": "98545443",
   "metadata": {},
   "outputs": [
    {
     "data": {
      "text/html": [
       "<div>\n",
       "<style scoped>\n",
       "    .dataframe tbody tr th:only-of-type {\n",
       "        vertical-align: middle;\n",
       "    }\n",
       "\n",
       "    .dataframe tbody tr th {\n",
       "        vertical-align: top;\n",
       "    }\n",
       "\n",
       "    .dataframe thead th {\n",
       "        text-align: right;\n",
       "    }\n",
       "</style>\n",
       "<table border=\"1\" class=\"dataframe\">\n",
       "  <thead>\n",
       "    <tr style=\"text-align: right;\">\n",
       "      <th></th>\n",
       "      <th>job_admin.</th>\n",
       "      <th>job_blue-collar</th>\n",
       "      <th>job_entrepreneur</th>\n",
       "      <th>job_housemaid</th>\n",
       "      <th>job_management</th>\n",
       "      <th>job_retired</th>\n",
       "      <th>job_self-employed</th>\n",
       "      <th>job_services</th>\n",
       "      <th>job_student</th>\n",
       "      <th>job_technician</th>\n",
       "      <th>...</th>\n",
       "      <th>month_jun</th>\n",
       "      <th>month_mar</th>\n",
       "      <th>month_may</th>\n",
       "      <th>month_nov</th>\n",
       "      <th>month_oct</th>\n",
       "      <th>month_sep</th>\n",
       "      <th>poutcome_failure</th>\n",
       "      <th>poutcome_other</th>\n",
       "      <th>poutcome_success</th>\n",
       "      <th>poutcome_unknown</th>\n",
       "    </tr>\n",
       "  </thead>\n",
       "  <tbody>\n",
       "    <tr>\n",
       "      <th>0</th>\n",
       "      <td>0</td>\n",
       "      <td>0</td>\n",
       "      <td>0</td>\n",
       "      <td>0</td>\n",
       "      <td>0</td>\n",
       "      <td>1</td>\n",
       "      <td>0</td>\n",
       "      <td>0</td>\n",
       "      <td>0</td>\n",
       "      <td>0</td>\n",
       "      <td>...</td>\n",
       "      <td>0</td>\n",
       "      <td>0</td>\n",
       "      <td>0</td>\n",
       "      <td>0</td>\n",
       "      <td>0</td>\n",
       "      <td>0</td>\n",
       "      <td>0</td>\n",
       "      <td>0</td>\n",
       "      <td>0</td>\n",
       "      <td>1</td>\n",
       "    </tr>\n",
       "    <tr>\n",
       "      <th>1</th>\n",
       "      <td>0</td>\n",
       "      <td>1</td>\n",
       "      <td>0</td>\n",
       "      <td>0</td>\n",
       "      <td>0</td>\n",
       "      <td>0</td>\n",
       "      <td>0</td>\n",
       "      <td>0</td>\n",
       "      <td>0</td>\n",
       "      <td>0</td>\n",
       "      <td>...</td>\n",
       "      <td>1</td>\n",
       "      <td>0</td>\n",
       "      <td>0</td>\n",
       "      <td>0</td>\n",
       "      <td>0</td>\n",
       "      <td>0</td>\n",
       "      <td>0</td>\n",
       "      <td>0</td>\n",
       "      <td>0</td>\n",
       "      <td>1</td>\n",
       "    </tr>\n",
       "    <tr>\n",
       "      <th>2</th>\n",
       "      <td>0</td>\n",
       "      <td>0</td>\n",
       "      <td>0</td>\n",
       "      <td>0</td>\n",
       "      <td>1</td>\n",
       "      <td>0</td>\n",
       "      <td>0</td>\n",
       "      <td>0</td>\n",
       "      <td>0</td>\n",
       "      <td>0</td>\n",
       "      <td>...</td>\n",
       "      <td>0</td>\n",
       "      <td>0</td>\n",
       "      <td>0</td>\n",
       "      <td>0</td>\n",
       "      <td>0</td>\n",
       "      <td>0</td>\n",
       "      <td>0</td>\n",
       "      <td>0</td>\n",
       "      <td>0</td>\n",
       "      <td>1</td>\n",
       "    </tr>\n",
       "    <tr>\n",
       "      <th>3</th>\n",
       "      <td>1</td>\n",
       "      <td>0</td>\n",
       "      <td>0</td>\n",
       "      <td>0</td>\n",
       "      <td>0</td>\n",
       "      <td>0</td>\n",
       "      <td>0</td>\n",
       "      <td>0</td>\n",
       "      <td>0</td>\n",
       "      <td>0</td>\n",
       "      <td>...</td>\n",
       "      <td>0</td>\n",
       "      <td>0</td>\n",
       "      <td>0</td>\n",
       "      <td>0</td>\n",
       "      <td>0</td>\n",
       "      <td>0</td>\n",
       "      <td>0</td>\n",
       "      <td>0</td>\n",
       "      <td>0</td>\n",
       "      <td>1</td>\n",
       "    </tr>\n",
       "    <tr>\n",
       "      <th>4</th>\n",
       "      <td>0</td>\n",
       "      <td>0</td>\n",
       "      <td>0</td>\n",
       "      <td>0</td>\n",
       "      <td>0</td>\n",
       "      <td>0</td>\n",
       "      <td>1</td>\n",
       "      <td>0</td>\n",
       "      <td>0</td>\n",
       "      <td>0</td>\n",
       "      <td>...</td>\n",
       "      <td>0</td>\n",
       "      <td>0</td>\n",
       "      <td>0</td>\n",
       "      <td>0</td>\n",
       "      <td>0</td>\n",
       "      <td>0</td>\n",
       "      <td>0</td>\n",
       "      <td>0</td>\n",
       "      <td>0</td>\n",
       "      <td>1</td>\n",
       "    </tr>\n",
       "    <tr>\n",
       "      <th>...</th>\n",
       "      <td>...</td>\n",
       "      <td>...</td>\n",
       "      <td>...</td>\n",
       "      <td>...</td>\n",
       "      <td>...</td>\n",
       "      <td>...</td>\n",
       "      <td>...</td>\n",
       "      <td>...</td>\n",
       "      <td>...</td>\n",
       "      <td>...</td>\n",
       "      <td>...</td>\n",
       "      <td>...</td>\n",
       "      <td>...</td>\n",
       "      <td>...</td>\n",
       "      <td>...</td>\n",
       "      <td>...</td>\n",
       "      <td>...</td>\n",
       "      <td>...</td>\n",
       "      <td>...</td>\n",
       "      <td>...</td>\n",
       "      <td>...</td>\n",
       "    </tr>\n",
       "    <tr>\n",
       "      <th>33903</th>\n",
       "      <td>1</td>\n",
       "      <td>0</td>\n",
       "      <td>0</td>\n",
       "      <td>0</td>\n",
       "      <td>0</td>\n",
       "      <td>0</td>\n",
       "      <td>0</td>\n",
       "      <td>0</td>\n",
       "      <td>0</td>\n",
       "      <td>0</td>\n",
       "      <td>...</td>\n",
       "      <td>0</td>\n",
       "      <td>0</td>\n",
       "      <td>0</td>\n",
       "      <td>0</td>\n",
       "      <td>0</td>\n",
       "      <td>0</td>\n",
       "      <td>0</td>\n",
       "      <td>0</td>\n",
       "      <td>0</td>\n",
       "      <td>1</td>\n",
       "    </tr>\n",
       "    <tr>\n",
       "      <th>33904</th>\n",
       "      <td>0</td>\n",
       "      <td>0</td>\n",
       "      <td>0</td>\n",
       "      <td>0</td>\n",
       "      <td>1</td>\n",
       "      <td>0</td>\n",
       "      <td>0</td>\n",
       "      <td>0</td>\n",
       "      <td>0</td>\n",
       "      <td>0</td>\n",
       "      <td>...</td>\n",
       "      <td>0</td>\n",
       "      <td>0</td>\n",
       "      <td>0</td>\n",
       "      <td>0</td>\n",
       "      <td>0</td>\n",
       "      <td>0</td>\n",
       "      <td>0</td>\n",
       "      <td>0</td>\n",
       "      <td>0</td>\n",
       "      <td>1</td>\n",
       "    </tr>\n",
       "    <tr>\n",
       "      <th>33905</th>\n",
       "      <td>0</td>\n",
       "      <td>0</td>\n",
       "      <td>0</td>\n",
       "      <td>0</td>\n",
       "      <td>0</td>\n",
       "      <td>0</td>\n",
       "      <td>0</td>\n",
       "      <td>0</td>\n",
       "      <td>0</td>\n",
       "      <td>1</td>\n",
       "      <td>...</td>\n",
       "      <td>0</td>\n",
       "      <td>0</td>\n",
       "      <td>1</td>\n",
       "      <td>0</td>\n",
       "      <td>0</td>\n",
       "      <td>0</td>\n",
       "      <td>0</td>\n",
       "      <td>0</td>\n",
       "      <td>0</td>\n",
       "      <td>1</td>\n",
       "    </tr>\n",
       "    <tr>\n",
       "      <th>33906</th>\n",
       "      <td>0</td>\n",
       "      <td>0</td>\n",
       "      <td>0</td>\n",
       "      <td>0</td>\n",
       "      <td>0</td>\n",
       "      <td>0</td>\n",
       "      <td>0</td>\n",
       "      <td>0</td>\n",
       "      <td>0</td>\n",
       "      <td>1</td>\n",
       "      <td>...</td>\n",
       "      <td>0</td>\n",
       "      <td>0</td>\n",
       "      <td>0</td>\n",
       "      <td>0</td>\n",
       "      <td>0</td>\n",
       "      <td>0</td>\n",
       "      <td>0</td>\n",
       "      <td>0</td>\n",
       "      <td>0</td>\n",
       "      <td>1</td>\n",
       "    </tr>\n",
       "    <tr>\n",
       "      <th>33907</th>\n",
       "      <td>0</td>\n",
       "      <td>0</td>\n",
       "      <td>0</td>\n",
       "      <td>0</td>\n",
       "      <td>0</td>\n",
       "      <td>1</td>\n",
       "      <td>0</td>\n",
       "      <td>0</td>\n",
       "      <td>0</td>\n",
       "      <td>0</td>\n",
       "      <td>...</td>\n",
       "      <td>0</td>\n",
       "      <td>0</td>\n",
       "      <td>1</td>\n",
       "      <td>0</td>\n",
       "      <td>0</td>\n",
       "      <td>0</td>\n",
       "      <td>0</td>\n",
       "      <td>0</td>\n",
       "      <td>0</td>\n",
       "      <td>1</td>\n",
       "    </tr>\n",
       "  </tbody>\n",
       "</table>\n",
       "<p>33907 rows × 44 columns</p>\n",
       "</div>"
      ],
      "text/plain": [
       "       job_admin.  job_blue-collar  job_entrepreneur  job_housemaid  \\\n",
       "0               0                0                 0              0   \n",
       "1               0                1                 0              0   \n",
       "2               0                0                 0              0   \n",
       "3               1                0                 0              0   \n",
       "4               0                0                 0              0   \n",
       "...           ...              ...               ...            ...   \n",
       "33903           1                0                 0              0   \n",
       "33904           0                0                 0              0   \n",
       "33905           0                0                 0              0   \n",
       "33906           0                0                 0              0   \n",
       "33907           0                0                 0              0   \n",
       "\n",
       "       job_management  job_retired  job_self-employed  job_services  \\\n",
       "0                   0            1                  0             0   \n",
       "1                   0            0                  0             0   \n",
       "2                   1            0                  0             0   \n",
       "3                   0            0                  0             0   \n",
       "4                   0            0                  1             0   \n",
       "...               ...          ...                ...           ...   \n",
       "33903               0            0                  0             0   \n",
       "33904               1            0                  0             0   \n",
       "33905               0            0                  0             0   \n",
       "33906               0            0                  0             0   \n",
       "33907               0            1                  0             0   \n",
       "\n",
       "       job_student  job_technician  ...  month_jun  month_mar  month_may  \\\n",
       "0                0               0  ...          0          0          0   \n",
       "1                0               0  ...          1          0          0   \n",
       "2                0               0  ...          0          0          0   \n",
       "3                0               0  ...          0          0          0   \n",
       "4                0               0  ...          0          0          0   \n",
       "...            ...             ...  ...        ...        ...        ...   \n",
       "33903            0               0  ...          0          0          0   \n",
       "33904            0               0  ...          0          0          0   \n",
       "33905            0               1  ...          0          0          1   \n",
       "33906            0               1  ...          0          0          0   \n",
       "33907            0               0  ...          0          0          1   \n",
       "\n",
       "       month_nov  month_oct  month_sep  poutcome_failure  poutcome_other  \\\n",
       "0              0          0          0                 0               0   \n",
       "1              0          0          0                 0               0   \n",
       "2              0          0          0                 0               0   \n",
       "3              0          0          0                 0               0   \n",
       "4              0          0          0                 0               0   \n",
       "...          ...        ...        ...               ...             ...   \n",
       "33903          0          0          0                 0               0   \n",
       "33904          0          0          0                 0               0   \n",
       "33905          0          0          0                 0               0   \n",
       "33906          0          0          0                 0               0   \n",
       "33907          0          0          0                 0               0   \n",
       "\n",
       "       poutcome_success  poutcome_unknown  \n",
       "0                     0                 1  \n",
       "1                     0                 1  \n",
       "2                     0                 1  \n",
       "3                     0                 1  \n",
       "4                     0                 1  \n",
       "...                 ...               ...  \n",
       "33903                 0                 1  \n",
       "33904                 0                 1  \n",
       "33905                 0                 1  \n",
       "33906                 0                 1  \n",
       "33907                 0                 1  \n",
       "\n",
       "[33907 rows x 44 columns]"
      ]
     },
     "execution_count": 42,
     "metadata": {},
     "output_type": "execute_result"
    }
   ],
   "source": [
    "OHE_Categorical_Variables = pd.get_dummies(data[['job','marital','education','default','housing','loan','contact','month','poutcome']],prefix=['job','marital','education','default','housing','loan','contact','month','poutcome'])\n",
    "OHE_Categorical_Variables "
   ]
  },
  {
   "cell_type": "code",
   "execution_count": 43,
   "id": "42ac860a",
   "metadata": {},
   "outputs": [
    {
     "data": {
      "text/plain": [
       "Index(['age', 'balance', 'day', 'duration', 'campaign', 'pdays', 'previous',\n",
       "       'y', 'job_admin.', 'job_blue-collar', 'job_entrepreneur',\n",
       "       'job_housemaid', 'job_management', 'job_retired', 'job_self-employed',\n",
       "       'job_services', 'job_student', 'job_technician', 'job_unemployed',\n",
       "       'job_unknown', 'marital_divorced', 'marital_married', 'marital_single',\n",
       "       'education_primary', 'education_secondary', 'education_tertiary',\n",
       "       'education_unknown', 'default_no', 'default_yes', 'housing_no',\n",
       "       'housing_yes', 'loan_no', 'loan_yes', 'contact_cellular',\n",
       "       'contact_telephone', 'contact_unknown', 'month_apr', 'month_aug',\n",
       "       'month_dec', 'month_feb', 'month_jan', 'month_jul', 'month_jun',\n",
       "       'month_mar', 'month_may', 'month_nov', 'month_oct', 'month_sep',\n",
       "       'poutcome_failure', 'poutcome_other', 'poutcome_success',\n",
       "       'poutcome_unknown'],\n",
       "      dtype='object')"
      ]
     },
     "execution_count": 43,
     "metadata": {},
     "output_type": "execute_result"
    }
   ],
   "source": [
    "#combing the one hot encoded categorical variable to rest of the predictors\n",
    "join= [numerical_Variables,OHE_Categorical_Variables] \n",
    "Data = pd.concat(join,axis=1,join='inner')  \n",
    "Data.columns"
   ]
  },
  {
   "cell_type": "markdown",
   "id": "6660298c",
   "metadata": {},
   "source": [
    "### Assigning X as predictors and y as target"
   ]
  },
  {
   "cell_type": "code",
   "execution_count": 44,
   "id": "74f2eb1e",
   "metadata": {},
   "outputs": [],
   "source": [
    "X = Data.drop([\"y\"],axis=1)  #predictors\n",
    "y = Data[\"y\"] #target"
   ]
  },
  {
   "cell_type": "markdown",
   "id": "f6ec20af",
   "metadata": {},
   "source": [
    "### Train-Test Split"
   ]
  },
  {
   "cell_type": "code",
   "execution_count": 45,
   "id": "12c86274",
   "metadata": {},
   "outputs": [],
   "source": [
    "#For train-test split\n",
    "from sklearn.model_selection import train_test_split   #import train_test_split function\n",
    "X_train, X_test, y_train, y_test = train_test_split(X, y, test_size = 0.25)  # X-predictors, y-target"
   ]
  },
  {
   "cell_type": "markdown",
   "id": "94b056f0",
   "metadata": {},
   "source": [
    "### MODEL 1: Logistic Regression- using all variables on class imbalanced data"
   ]
  },
  {
   "cell_type": "code",
   "execution_count": 46,
   "id": "28336fa5",
   "metadata": {},
   "outputs": [
    {
     "name": "stdout",
     "output_type": "stream",
     "text": [
      "              precision    recall  f1-score   support\n",
      "\n",
      "           0       0.91      0.98      0.94      7508\n",
      "           1       0.64      0.23      0.34       969\n",
      "\n",
      "    accuracy                           0.90      8477\n",
      "   macro avg       0.77      0.61      0.64      8477\n",
      "weighted avg       0.88      0.90      0.88      8477\n",
      "\n"
     ]
    },
    {
     "data": {
      "text/html": [
       "<div>\n",
       "<style scoped>\n",
       "    .dataframe tbody tr th:only-of-type {\n",
       "        vertical-align: middle;\n",
       "    }\n",
       "\n",
       "    .dataframe tbody tr th {\n",
       "        vertical-align: top;\n",
       "    }\n",
       "\n",
       "    .dataframe thead th {\n",
       "        text-align: right;\n",
       "    }\n",
       "</style>\n",
       "<table border=\"1\" class=\"dataframe\">\n",
       "  <thead>\n",
       "    <tr style=\"text-align: right;\">\n",
       "      <th></th>\n",
       "      <th>Logistic_Regression</th>\n",
       "    </tr>\n",
       "  </thead>\n",
       "  <tbody>\n",
       "    <tr>\n",
       "      <th>F1_score</th>\n",
       "      <td>0.340136</td>\n",
       "    </tr>\n",
       "  </tbody>\n",
       "</table>\n",
       "</div>"
      ],
      "text/plain": [
       "          Logistic_Regression\n",
       "F1_score             0.340136"
      ]
     },
     "execution_count": 46,
     "metadata": {},
     "output_type": "execute_result"
    }
   ],
   "source": [
    "#Fitting Logistic Regression Model\n",
    "lr = LogisticRegression()\n",
    "lr.fit(X_train,y_train)\n",
    "\n",
    "#predictions on test data\n",
    "pred_test = lr.predict(X_test)   \n",
    "pred_test\n",
    "\n",
    "#Metrics\n",
    "F1_score = f1_score(y_test, pred_test)\n",
    "\n",
    "lm1 = pd.DataFrame({'Logistic_Regression': [F1_score]}, \n",
    "                                index=['F1_score'])\n",
    "\n",
    "print(classification_report(y_test,pred_test))\n",
    "lm1"
   ]
  },
  {
   "cell_type": "markdown",
   "id": "d3b19543",
   "metadata": {},
   "source": [
    "### MODEL 2: Decision Tree - using all variables on class imbalanced data"
   ]
  },
  {
   "cell_type": "code",
   "execution_count": 47,
   "id": "d4ff002d",
   "metadata": {},
   "outputs": [
    {
     "name": "stdout",
     "output_type": "stream",
     "text": [
      "              precision    recall  f1-score   support\n",
      "\n",
      "           0       0.92      0.97      0.95      7508\n",
      "           1       0.64      0.36      0.46       969\n",
      "\n",
      "    accuracy                           0.90      8477\n",
      "   macro avg       0.78      0.67      0.70      8477\n",
      "weighted avg       0.89      0.90      0.89      8477\n",
      "\n"
     ]
    },
    {
     "data": {
      "text/html": [
       "<div>\n",
       "<style scoped>\n",
       "    .dataframe tbody tr th:only-of-type {\n",
       "        vertical-align: middle;\n",
       "    }\n",
       "\n",
       "    .dataframe tbody tr th {\n",
       "        vertical-align: top;\n",
       "    }\n",
       "\n",
       "    .dataframe thead th {\n",
       "        text-align: right;\n",
       "    }\n",
       "</style>\n",
       "<table border=\"1\" class=\"dataframe\">\n",
       "  <thead>\n",
       "    <tr style=\"text-align: right;\">\n",
       "      <th></th>\n",
       "      <th>Decision Tree</th>\n",
       "    </tr>\n",
       "  </thead>\n",
       "  <tbody>\n",
       "    <tr>\n",
       "      <th>F1_score</th>\n",
       "      <td>0.458777</td>\n",
       "    </tr>\n",
       "  </tbody>\n",
       "</table>\n",
       "</div>"
      ],
      "text/plain": [
       "          Decision Tree\n",
       "F1_score       0.458777"
      ]
     },
     "execution_count": 47,
     "metadata": {},
     "output_type": "execute_result"
    }
   ],
   "source": [
    "#Fitting Decision tree Model\n",
    "dt = DecisionTreeClassifier(max_depth=6)\n",
    "dt.fit(X_train,y_train)\n",
    "\n",
    "#predictions on test data\n",
    "pred_test = dt.predict(X_test)   \n",
    "pred_test\n",
    "\n",
    "#Metrics\n",
    "F1_score = f1_score(y_test, pred_test)\n",
    "\n",
    "dt = pd.DataFrame({'Decision Tree': [F1_score]}, \n",
    "                                index=['F1_score'])\n",
    "\n",
    "print(classification_report(y_test,pred_test))\n",
    "dt"
   ]
  },
  {
   "cell_type": "markdown",
   "id": "00567133",
   "metadata": {},
   "source": [
    "### Using IV for Feature Selection for Binary Logistic Regression"
   ]
  },
  {
   "cell_type": "code",
   "execution_count": 48,
   "id": "21c96f16",
   "metadata": {},
   "outputs": [],
   "source": [
    "feature = data.drop([\"y\"],axis=1)  #predictors\n",
    "target = data[\"y\"] #target"
   ]
  },
  {
   "cell_type": "code",
   "execution_count": 49,
   "id": "ec807530",
   "metadata": {},
   "outputs": [],
   "source": [
    "def calc_woe_iv(feature, target):\n",
    "   # Create a dataframe to store the WOE and IV values for each category/bin\n",
    "    woe_iv_df = pd.DataFrame(columns=['Category/Bin', 'Event', 'Non-Event', 'WOE', 'IV'])\n",
    "    # Check the data type of the feature\n",
    "    if feature.dtypes == 'object':\n",
    "        # Categorical feature\n",
    "        feature.fillna('Missing', inplace=True)\n",
    "        unique_categories = feature.unique()\n",
    "        for category in unique_categories:\n",
    "            event_count = len(target[(feature == category) & (target == 1)])\n",
    "            non_event_count = len(target[(feature == category) & (target == 0)])\n",
    "            total_event = len(target[target == 1])\n",
    "            total_non_event = len(target[target == 0])\n",
    "            event_rate = event_count / total_event\n",
    "            non_event_rate = non_event_count / total_non_event\n",
    "            woe = np.log(event_rate / non_event_rate)\n",
    "            iv = (event_rate - non_event_rate) * woe\n",
    "            woe_iv_df = woe_iv_df.append({'Category/Bin': category, 'Event': event_count, 'Non-Event': non_event_count, 'WOE': woe, 'IV': iv}, ignore_index=True)\n",
    "    else:\n",
    "        # Numerical feature\n",
    "        bins = pd.qcut(feature, q=10, duplicates='drop')\n",
    "        for category in bins.cat.categories:\n",
    "            event_count = len(target[(bins == category) & (target == 1)])\n",
    "            non_event_count = len(target[(bins == category) & (target == 0)])\n",
    "            total_event = len(target[target == 1])\n",
    "            total_non_event = len(target[target == 0])\n",
    "            event_rate = event_count / total_event\n",
    "            non_event_rate = non_event_count / total_non_event\n",
    "            woe = np.log(event_rate / non_event_rate)\n",
    "            iv = (event_rate - non_event_rate) * woe\n",
    "            woe_iv_df = woe_iv_df.append({'Category/Bin': category, 'Event': event_count, 'Non-Event': non_event_count, 'WOE': woe, 'IV': iv}, ignore_index=True)\n",
    "    # Calculate the total IV for the feature\n",
    "    total_iv = woe_iv_df['IV'].sum()\n",
    "    # Return the results\n",
    "    return feature.name, woe_iv_df, total_iv, len(woe_iv_df)\n",
    "def calculate_iv_df(data, target):\n",
    "    iv_df = pd.DataFrame()  # define iv_df as an empty DataFrame\n",
    "    iv_values = []\n",
    "    for column in data.columns:\n",
    "        feature = data[column]\n",
    "        name, woe_iv, iv, n_bins = calc_woe_iv(feature, target)\n",
    "        iv_values.append((name, iv, n_bins))\n",
    "    iv_df = pd.DataFrame(iv_values, columns=['Feature', 'IV', 'Num_Bins'])\n",
    "    iv_df.sort_values('IV', ascending=False, inplace=True)\n",
    "    return iv_df"
   ]
  },
  {
   "cell_type": "code",
   "execution_count": 50,
   "id": "75017a54",
   "metadata": {},
   "outputs": [
    {
     "data": {
      "text/html": [
       "<div>\n",
       "<style scoped>\n",
       "    .dataframe tbody tr th:only-of-type {\n",
       "        vertical-align: middle;\n",
       "    }\n",
       "\n",
       "    .dataframe tbody tr th {\n",
       "        vertical-align: top;\n",
       "    }\n",
       "\n",
       "    .dataframe thead th {\n",
       "        text-align: right;\n",
       "    }\n",
       "</style>\n",
       "<table border=\"1\" class=\"dataframe\">\n",
       "  <thead>\n",
       "    <tr style=\"text-align: right;\">\n",
       "      <th></th>\n",
       "      <th>Feature</th>\n",
       "      <th>IV</th>\n",
       "      <th>Num_Bins</th>\n",
       "    </tr>\n",
       "  </thead>\n",
       "  <tbody>\n",
       "    <tr>\n",
       "      <th>11</th>\n",
       "      <td>duration</td>\n",
       "      <td>1.606652</td>\n",
       "      <td>10</td>\n",
       "    </tr>\n",
       "    <tr>\n",
       "      <th>15</th>\n",
       "      <td>poutcome</td>\n",
       "      <td>0.515746</td>\n",
       "      <td>4</td>\n",
       "    </tr>\n",
       "    <tr>\n",
       "      <th>10</th>\n",
       "      <td>month</td>\n",
       "      <td>0.428220</td>\n",
       "      <td>12</td>\n",
       "    </tr>\n",
       "    <tr>\n",
       "      <th>8</th>\n",
       "      <td>contact</td>\n",
       "      <td>0.305686</td>\n",
       "      <td>3</td>\n",
       "    </tr>\n",
       "    <tr>\n",
       "      <th>6</th>\n",
       "      <td>housing</td>\n",
       "      <td>0.177162</td>\n",
       "      <td>2</td>\n",
       "    </tr>\n",
       "    <tr>\n",
       "      <th>1</th>\n",
       "      <td>job</td>\n",
       "      <td>0.157939</td>\n",
       "      <td>12</td>\n",
       "    </tr>\n",
       "    <tr>\n",
       "      <th>0</th>\n",
       "      <td>age</td>\n",
       "      <td>0.120370</td>\n",
       "      <td>10</td>\n",
       "    </tr>\n",
       "    <tr>\n",
       "      <th>14</th>\n",
       "      <td>previous</td>\n",
       "      <td>0.119223</td>\n",
       "      <td>2</td>\n",
       "    </tr>\n",
       "    <tr>\n",
       "      <th>5</th>\n",
       "      <td>balance</td>\n",
       "      <td>0.095003</td>\n",
       "      <td>10</td>\n",
       "    </tr>\n",
       "    <tr>\n",
       "      <th>12</th>\n",
       "      <td>campaign</td>\n",
       "      <td>0.061305</td>\n",
       "      <td>5</td>\n",
       "    </tr>\n",
       "    <tr>\n",
       "      <th>9</th>\n",
       "      <td>day</td>\n",
       "      <td>0.059459</td>\n",
       "      <td>10</td>\n",
       "    </tr>\n",
       "    <tr>\n",
       "      <th>7</th>\n",
       "      <td>loan</td>\n",
       "      <td>0.056385</td>\n",
       "      <td>2</td>\n",
       "    </tr>\n",
       "    <tr>\n",
       "      <th>3</th>\n",
       "      <td>education</td>\n",
       "      <td>0.051892</td>\n",
       "      <td>4</td>\n",
       "    </tr>\n",
       "    <tr>\n",
       "      <th>2</th>\n",
       "      <td>marital</td>\n",
       "      <td>0.036549</td>\n",
       "      <td>3</td>\n",
       "    </tr>\n",
       "    <tr>\n",
       "      <th>13</th>\n",
       "      <td>pdays</td>\n",
       "      <td>0.011719</td>\n",
       "      <td>2</td>\n",
       "    </tr>\n",
       "    <tr>\n",
       "      <th>4</th>\n",
       "      <td>default</td>\n",
       "      <td>0.005148</td>\n",
       "      <td>2</td>\n",
       "    </tr>\n",
       "  </tbody>\n",
       "</table>\n",
       "</div>"
      ],
      "text/plain": [
       "      Feature        IV  Num_Bins\n",
       "11   duration  1.606652        10\n",
       "15   poutcome  0.515746         4\n",
       "10      month  0.428220        12\n",
       "8     contact  0.305686         3\n",
       "6     housing  0.177162         2\n",
       "1         job  0.157939        12\n",
       "0         age  0.120370        10\n",
       "14   previous  0.119223         2\n",
       "5     balance  0.095003        10\n",
       "12   campaign  0.061305         5\n",
       "9         day  0.059459        10\n",
       "7        loan  0.056385         2\n",
       "3   education  0.051892         4\n",
       "2     marital  0.036549         3\n",
       "13      pdays  0.011719         2\n",
       "4     default  0.005148         2"
      ]
     },
     "execution_count": 50,
     "metadata": {},
     "output_type": "execute_result"
    }
   ],
   "source": [
    "data1=calculate_iv_df(feature,data['y'])\n",
    "data1"
   ]
  },
  {
   "cell_type": "code",
   "execution_count": 51,
   "id": "fbabec23",
   "metadata": {},
   "outputs": [
    {
     "data": {
      "text/html": [
       "<div>\n",
       "<style scoped>\n",
       "    .dataframe tbody tr th:only-of-type {\n",
       "        vertical-align: middle;\n",
       "    }\n",
       "\n",
       "    .dataframe tbody tr th {\n",
       "        vertical-align: top;\n",
       "    }\n",
       "\n",
       "    .dataframe thead th {\n",
       "        text-align: right;\n",
       "    }\n",
       "</style>\n",
       "<table border=\"1\" class=\"dataframe\">\n",
       "  <thead>\n",
       "    <tr style=\"text-align: right;\">\n",
       "      <th></th>\n",
       "      <th>Feature</th>\n",
       "      <th>IV</th>\n",
       "      <th>Num_Bins</th>\n",
       "    </tr>\n",
       "  </thead>\n",
       "  <tbody>\n",
       "    <tr>\n",
       "      <th>11</th>\n",
       "      <td>duration</td>\n",
       "      <td>1.606652</td>\n",
       "      <td>10</td>\n",
       "    </tr>\n",
       "    <tr>\n",
       "      <th>15</th>\n",
       "      <td>poutcome</td>\n",
       "      <td>0.515746</td>\n",
       "      <td>4</td>\n",
       "    </tr>\n",
       "    <tr>\n",
       "      <th>10</th>\n",
       "      <td>month</td>\n",
       "      <td>0.428220</td>\n",
       "      <td>12</td>\n",
       "    </tr>\n",
       "    <tr>\n",
       "      <th>8</th>\n",
       "      <td>contact</td>\n",
       "      <td>0.305686</td>\n",
       "      <td>3</td>\n",
       "    </tr>\n",
       "    <tr>\n",
       "      <th>6</th>\n",
       "      <td>housing</td>\n",
       "      <td>0.177162</td>\n",
       "      <td>2</td>\n",
       "    </tr>\n",
       "    <tr>\n",
       "      <th>1</th>\n",
       "      <td>job</td>\n",
       "      <td>0.157939</td>\n",
       "      <td>12</td>\n",
       "    </tr>\n",
       "    <tr>\n",
       "      <th>0</th>\n",
       "      <td>age</td>\n",
       "      <td>0.120370</td>\n",
       "      <td>10</td>\n",
       "    </tr>\n",
       "    <tr>\n",
       "      <th>14</th>\n",
       "      <td>previous</td>\n",
       "      <td>0.119223</td>\n",
       "      <td>2</td>\n",
       "    </tr>\n",
       "    <tr>\n",
       "      <th>5</th>\n",
       "      <td>balance</td>\n",
       "      <td>0.095003</td>\n",
       "      <td>10</td>\n",
       "    </tr>\n",
       "    <tr>\n",
       "      <th>12</th>\n",
       "      <td>campaign</td>\n",
       "      <td>0.061305</td>\n",
       "      <td>5</td>\n",
       "    </tr>\n",
       "    <tr>\n",
       "      <th>9</th>\n",
       "      <td>day</td>\n",
       "      <td>0.059459</td>\n",
       "      <td>10</td>\n",
       "    </tr>\n",
       "    <tr>\n",
       "      <th>7</th>\n",
       "      <td>loan</td>\n",
       "      <td>0.056385</td>\n",
       "      <td>2</td>\n",
       "    </tr>\n",
       "    <tr>\n",
       "      <th>3</th>\n",
       "      <td>education</td>\n",
       "      <td>0.051892</td>\n",
       "      <td>4</td>\n",
       "    </tr>\n",
       "    <tr>\n",
       "      <th>2</th>\n",
       "      <td>marital</td>\n",
       "      <td>0.036549</td>\n",
       "      <td>3</td>\n",
       "    </tr>\n",
       "  </tbody>\n",
       "</table>\n",
       "</div>"
      ],
      "text/plain": [
       "      Feature        IV  Num_Bins\n",
       "11   duration  1.606652        10\n",
       "15   poutcome  0.515746         4\n",
       "10      month  0.428220        12\n",
       "8     contact  0.305686         3\n",
       "6     housing  0.177162         2\n",
       "1         job  0.157939        12\n",
       "0         age  0.120370        10\n",
       "14   previous  0.119223         2\n",
       "5     balance  0.095003        10\n",
       "12   campaign  0.061305         5\n",
       "9         day  0.059459        10\n",
       "7        loan  0.056385         2\n",
       "3   education  0.051892         4\n",
       "2     marital  0.036549         3"
      ]
     },
     "execution_count": 51,
     "metadata": {},
     "output_type": "execute_result"
    }
   ],
   "source": [
    "# Assuming your DataFrame is called 'df' and the column you want to filter is called 'column_name'\n",
    "data1 = data1[data1['IV'] >= 0.02]\n",
    "data1"
   ]
  },
  {
   "cell_type": "code",
   "execution_count": 52,
   "id": "daad26a1",
   "metadata": {},
   "outputs": [],
   "source": [
    "x = Data.drop(['y','default_no', 'default_yes', 'pdays'],axis=1)  #predictors\n",
    "Y = Data[\"y\"] #target"
   ]
  },
  {
   "cell_type": "markdown",
   "id": "65e625f0",
   "metadata": {},
   "source": [
    "### Train-Test Split"
   ]
  },
  {
   "cell_type": "code",
   "execution_count": 53,
   "id": "a118c4c1",
   "metadata": {},
   "outputs": [],
   "source": [
    "#For train-test split\n",
    "from sklearn.model_selection import train_test_split   #import train_test_split function\n",
    "X_train1, X_test1, y_train1, y_test1 = train_test_split(x, Y, test_size = 0.25)  # X-predictors, y-target"
   ]
  },
  {
   "cell_type": "markdown",
   "id": "3e2a825e",
   "metadata": {},
   "source": [
    "### MODEL 3: Logistic Regression- using selected features on class imbalanced data"
   ]
  },
  {
   "cell_type": "code",
   "execution_count": 54,
   "id": "e7eab817",
   "metadata": {},
   "outputs": [
    {
     "name": "stdout",
     "output_type": "stream",
     "text": [
      "              precision    recall  f1-score   support\n",
      "\n",
      "           0       0.91      0.98      0.94      7500\n",
      "           1       0.61      0.23      0.33       977\n",
      "\n",
      "    accuracy                           0.89      8477\n",
      "   macro avg       0.76      0.60      0.64      8477\n",
      "weighted avg       0.87      0.89      0.87      8477\n",
      "\n"
     ]
    },
    {
     "data": {
      "text/html": [
       "<div>\n",
       "<style scoped>\n",
       "    .dataframe tbody tr th:only-of-type {\n",
       "        vertical-align: middle;\n",
       "    }\n",
       "\n",
       "    .dataframe tbody tr th {\n",
       "        vertical-align: top;\n",
       "    }\n",
       "\n",
       "    .dataframe thead th {\n",
       "        text-align: right;\n",
       "    }\n",
       "</style>\n",
       "<table border=\"1\" class=\"dataframe\">\n",
       "  <thead>\n",
       "    <tr style=\"text-align: right;\">\n",
       "      <th></th>\n",
       "      <th>Logistic_Regression</th>\n",
       "    </tr>\n",
       "  </thead>\n",
       "  <tbody>\n",
       "    <tr>\n",
       "      <th>F1_score</th>\n",
       "      <td>0.331343</td>\n",
       "    </tr>\n",
       "  </tbody>\n",
       "</table>\n",
       "</div>"
      ],
      "text/plain": [
       "          Logistic_Regression\n",
       "F1_score             0.331343"
      ]
     },
     "execution_count": 54,
     "metadata": {},
     "output_type": "execute_result"
    }
   ],
   "source": [
    "#Fitting Logistic Regression Model\n",
    "lr = LogisticRegression()\n",
    "lr.fit(X_train1,y_train1)\n",
    "\n",
    "#predictions on test data\n",
    "pred_test = lr.predict(X_test1)   \n",
    "pred_test\n",
    "\n",
    "#Metrics\n",
    "F1_score = f1_score(y_test1, pred_test)\n",
    "\n",
    "lm1 = pd.DataFrame({'Logistic_Regression': [F1_score]}, \n",
    "                                index=['F1_score'])\n",
    "\n",
    "print(classification_report(y_test1,pred_test))\n",
    "lm1"
   ]
  },
  {
   "cell_type": "markdown",
   "id": "b2c1dc68",
   "metadata": {},
   "source": [
    "### MODEL 4: Decision Tree - using selected features on class imbalanced data"
   ]
  },
  {
   "cell_type": "code",
   "execution_count": 55,
   "id": "34acd7c2",
   "metadata": {},
   "outputs": [
    {
     "name": "stdout",
     "output_type": "stream",
     "text": [
      "              precision    recall  f1-score   support\n",
      "\n",
      "           0       0.93      0.97      0.95      7500\n",
      "           1       0.62      0.40      0.48       977\n",
      "\n",
      "    accuracy                           0.90      8477\n",
      "   macro avg       0.77      0.68      0.72      8477\n",
      "weighted avg       0.89      0.90      0.89      8477\n",
      "\n"
     ]
    },
    {
     "data": {
      "text/html": [
       "<div>\n",
       "<style scoped>\n",
       "    .dataframe tbody tr th:only-of-type {\n",
       "        vertical-align: middle;\n",
       "    }\n",
       "\n",
       "    .dataframe tbody tr th {\n",
       "        vertical-align: top;\n",
       "    }\n",
       "\n",
       "    .dataframe thead th {\n",
       "        text-align: right;\n",
       "    }\n",
       "</style>\n",
       "<table border=\"1\" class=\"dataframe\">\n",
       "  <thead>\n",
       "    <tr style=\"text-align: right;\">\n",
       "      <th></th>\n",
       "      <th>Decision Tree</th>\n",
       "    </tr>\n",
       "  </thead>\n",
       "  <tbody>\n",
       "    <tr>\n",
       "      <th>F1_score</th>\n",
       "      <td>0.484735</td>\n",
       "    </tr>\n",
       "  </tbody>\n",
       "</table>\n",
       "</div>"
      ],
      "text/plain": [
       "          Decision Tree\n",
       "F1_score       0.484735"
      ]
     },
     "execution_count": 55,
     "metadata": {},
     "output_type": "execute_result"
    }
   ],
   "source": [
    "#Fitting Decision tree Model\n",
    "dt = DecisionTreeClassifier(max_depth=6)\n",
    "dt.fit(X_train1,y_train1)\n",
    "\n",
    "#predictions on test data\n",
    "pred_test = dt.predict(X_test1)   \n",
    "pred_test\n",
    "\n",
    "#Metrics\n",
    "F1_score = f1_score(y_test1, pred_test)\n",
    "\n",
    "dt = pd.DataFrame({'Decision Tree': [F1_score]}, \n",
    "                                index=['F1_score'])\n",
    "\n",
    "print(classification_report(y_test1,pred_test))\n",
    "dt"
   ]
  },
  {
   "cell_type": "markdown",
   "id": "ebee5aa5",
   "metadata": {},
   "source": [
    "### Class-Balancing  using SMOTE"
   ]
  },
  {
   "cell_type": "code",
   "execution_count": 56,
   "id": "8710e84a",
   "metadata": {},
   "outputs": [],
   "source": [
    "from imblearn.over_sampling import SMOTE\n",
    "sm = SMOTE(random_state = 2)\n",
    "X_train_res, y_train_res = sm.fit_resample(X_train, y_train.ravel())"
   ]
  },
  {
   "cell_type": "code",
   "execution_count": 57,
   "id": "2715a62c",
   "metadata": {},
   "outputs": [
    {
     "data": {
      "text/plain": [
       "0    22432\n",
       "1     2998\n",
       "Name: y, dtype: int64"
      ]
     },
     "execution_count": 57,
     "metadata": {},
     "output_type": "execute_result"
    }
   ],
   "source": [
    "y_train.value_counts() #Class imbalanced data"
   ]
  },
  {
   "cell_type": "code",
   "execution_count": 58,
   "id": "a6928637",
   "metadata": {},
   "outputs": [],
   "source": [
    "y_train = pd.DataFrame(y_train_res)\n",
    "X_train = pd.DataFrame(X_train_res)"
   ]
  },
  {
   "cell_type": "code",
   "execution_count": 59,
   "id": "5a47620a",
   "metadata": {},
   "outputs": [
    {
     "data": {
      "text/plain": [
       "0    22432\n",
       "1    22432\n",
       "dtype: int64"
      ]
     },
     "execution_count": 59,
     "metadata": {},
     "output_type": "execute_result"
    }
   ],
   "source": [
    "y_train.value_counts() #Oversampling using smote balanced the class"
   ]
  },
  {
   "cell_type": "markdown",
   "id": "a7546449",
   "metadata": {},
   "source": [
    "### MODEL 5: Logistic Regression- using selected features on class balanced data\n"
   ]
  },
  {
   "cell_type": "code",
   "execution_count": 60,
   "id": "4fd01ae2",
   "metadata": {},
   "outputs": [
    {
     "name": "stdout",
     "output_type": "stream",
     "text": [
      "              precision    recall  f1-score   support\n",
      "\n",
      "           0       0.91      0.98      0.94      7500\n",
      "           1       0.61      0.23      0.33       977\n",
      "\n",
      "    accuracy                           0.89      8477\n",
      "   macro avg       0.76      0.60      0.64      8477\n",
      "weighted avg       0.87      0.89      0.87      8477\n",
      "\n"
     ]
    },
    {
     "data": {
      "text/html": [
       "<div>\n",
       "<style scoped>\n",
       "    .dataframe tbody tr th:only-of-type {\n",
       "        vertical-align: middle;\n",
       "    }\n",
       "\n",
       "    .dataframe tbody tr th {\n",
       "        vertical-align: top;\n",
       "    }\n",
       "\n",
       "    .dataframe thead th {\n",
       "        text-align: right;\n",
       "    }\n",
       "</style>\n",
       "<table border=\"1\" class=\"dataframe\">\n",
       "  <thead>\n",
       "    <tr style=\"text-align: right;\">\n",
       "      <th></th>\n",
       "      <th>Logistic_regression</th>\n",
       "    </tr>\n",
       "  </thead>\n",
       "  <tbody>\n",
       "    <tr>\n",
       "      <th>F1_score</th>\n",
       "      <td>0.331343</td>\n",
       "    </tr>\n",
       "  </tbody>\n",
       "</table>\n",
       "</div>"
      ],
      "text/plain": [
       "          Logistic_regression\n",
       "F1_score             0.331343"
      ]
     },
     "execution_count": 60,
     "metadata": {},
     "output_type": "execute_result"
    }
   ],
   "source": [
    "#Fitting Logistic Regression Model\n",
    "lr = LogisticRegression()\n",
    "lr.fit(X_train1,y_train1)\n",
    "\n",
    "#predictions on test data\n",
    "pred_test = lr.predict(X_test1)   \n",
    "pred_test\n",
    "\n",
    "#Metrics\n",
    "F1_score = f1_score(y_test1, pred_test)\n",
    "\n",
    "lm1 = pd.DataFrame({'Logistic_regression': [F1_score]}, \n",
    "                                index=['F1_score'])\n",
    "\n",
    "print(classification_report(y_test1,pred_test))\n",
    "lm1"
   ]
  },
  {
   "cell_type": "markdown",
   "id": "c57ddf4e",
   "metadata": {},
   "source": [
    "### MODEL 6: Decision Tree - using all features on class balanced data"
   ]
  },
  {
   "cell_type": "code",
   "execution_count": 61,
   "id": "547d1ff7",
   "metadata": {},
   "outputs": [
    {
     "name": "stdout",
     "output_type": "stream",
     "text": [
      "              precision    recall  f1-score   support\n",
      "\n",
      "           0       0.96      0.89      0.92      7508\n",
      "           1       0.45      0.67      0.54       969\n",
      "\n",
      "    accuracy                           0.87      8477\n",
      "   macro avg       0.70      0.78      0.73      8477\n",
      "weighted avg       0.90      0.87      0.88      8477\n",
      "\n"
     ]
    },
    {
     "data": {
      "text/html": [
       "<div>\n",
       "<style scoped>\n",
       "    .dataframe tbody tr th:only-of-type {\n",
       "        vertical-align: middle;\n",
       "    }\n",
       "\n",
       "    .dataframe tbody tr th {\n",
       "        vertical-align: top;\n",
       "    }\n",
       "\n",
       "    .dataframe thead th {\n",
       "        text-align: right;\n",
       "    }\n",
       "</style>\n",
       "<table border=\"1\" class=\"dataframe\">\n",
       "  <thead>\n",
       "    <tr style=\"text-align: right;\">\n",
       "      <th></th>\n",
       "      <th>Decision Tree</th>\n",
       "    </tr>\n",
       "  </thead>\n",
       "  <tbody>\n",
       "    <tr>\n",
       "      <th>F1_score</th>\n",
       "      <td>0.539001</td>\n",
       "    </tr>\n",
       "  </tbody>\n",
       "</table>\n",
       "</div>"
      ],
      "text/plain": [
       "          Decision Tree\n",
       "F1_score       0.539001"
      ]
     },
     "execution_count": 61,
     "metadata": {},
     "output_type": "execute_result"
    }
   ],
   "source": [
    "#Fitting Decision tree Model\n",
    "dt = DecisionTreeClassifier(max_depth=6)\n",
    "dt.fit(X_train,y_train)\n",
    "\n",
    "#predictions on test data\n",
    "pred_test = dt.predict(X_test)   \n",
    "pred_test\n",
    "\n",
    "#Metrics\n",
    "F1_score = f1_score(y_test, pred_test)\n",
    "\n",
    "dt = pd.DataFrame({'Decision Tree': [F1_score]}, \n",
    "                                index=['F1_score'])\n",
    "\n",
    "print(classification_report(y_test,pred_test))\n",
    "dt"
   ]
  },
  {
   "cell_type": "markdown",
   "id": "30171f68",
   "metadata": {},
   "source": [
    "### MODEL 7: Lightgbm - using all features on class balanced data"
   ]
  },
  {
   "cell_type": "code",
   "execution_count": 62,
   "id": "e3f77d72",
   "metadata": {},
   "outputs": [
    {
     "name": "stdout",
     "output_type": "stream",
     "text": [
      "[LightGBM] [Info] Number of positive: 22432, number of negative: 22432\n",
      "[LightGBM] [Warning] Auto-choosing row-wise multi-threading, the overhead of testing was 0.006208 seconds.\n",
      "You can set `force_row_wise=true` to remove the overhead.\n",
      "And if memory is not enough, you can set `force_col_wise=true`.\n",
      "[LightGBM] [Info] Total Bins 1033\n",
      "[LightGBM] [Info] Number of data points in the train set: 44864, number of used features: 51\n",
      "[LightGBM] [Info] [binary:BoostFromScore]: pavg=0.500000 -> initscore=0.000000\n",
      "F1 score: 0.5874730021598272\n"
     ]
    }
   ],
   "source": [
    "# create a LightGBM dataset from the training data\n",
    "train_data = lgb.Dataset(X_train, label=y_train)\n",
    "\n",
    "# set some hyperparameters for the LightGBM model\n",
    "params = {\n",
    "    'objective': 'binary',\n",
    "    'metric': 'binary_logloss',\n",
    "    'boosting_type': 'gbdt',\n",
    "    'num_leaves': 31,\n",
    "    'learning_rate': 0.05,\n",
    "    'feature_fraction': 0.9\n",
    "}\n",
    "\n",
    "# train the LightGBM model\n",
    "num_rounds = 100\n",
    "bst = lgb.train(params, train_data, num_rounds)\n",
    "\n",
    "# make predictions on the test data\n",
    "y_pred = bst.predict(X_test)\n",
    "y_pred_binary = [1 if p > 0.5 else 0 for p in y_pred]\n",
    "\n",
    "# evaluate the model's performance using F1 score\n",
    "F1_score = f1_score(y_test, y_pred_binary)\n",
    "\n",
    "# print the F1 score\n",
    "print(\"F1 score:\", F1_score)\n"
   ]
  },
  {
   "cell_type": "code",
   "execution_count": 63,
   "id": "ad04d212",
   "metadata": {},
   "outputs": [
    {
     "name": "stdout",
     "output_type": "stream",
     "text": [
      "Best hyperparameters: {'class_weight': None, 'learning_rate': 0.1, 'max_depth': 5, 'n_estimators': 50, 'num_leaves': 50, 'objective': 'binary', 'random_state': 42}\n",
      "F1 score: 0.601496259351621\n"
     ]
    }
   ],
   "source": [
    "import lightgbm as lgb\n",
    "from sklearn.model_selection import GridSearchCV\n",
    "\n",
    "# create a LightGBM dataset from the training data\n",
    "train_data = lgb.Dataset(X_train, label=y_train)\n",
    "\n",
    "# define parameter grid for LightGBM\n",
    "param_grid = {\n",
    "    'num_leaves': [10, 31, 50],\n",
    "    'learning_rate': [0.05, 0.1, 0.2],\n",
    "    'max_depth': [-1, 5, 10],\n",
    "    'n_estimators': [50, 100, 200],\n",
    "    'objective': ['binary'],\n",
    "    'class_weight': ['balanced', None],\n",
    "    'random_state': [42]\n",
    "}\n",
    "\n",
    "# create a LightGBM model\n",
    "lgb_model = lgb.LGBMClassifier()\n",
    "\n",
    "# create a GridSearchCV object\n",
    "grid_search = GridSearchCV(estimator=lgb_model, param_grid=param_grid, cv=5, scoring='f1')\n",
    "\n",
    "# fit the GridSearchCV object to the training data\n",
    "grid_search.fit(X_train, y_train)\n",
    "\n",
    "# get the best hyperparameters from the grid search\n",
    "best_params = grid_search.best_params_\n",
    "print(\"Best hyperparameters:\", best_params)\n",
    "\n",
    "# create a LightGBM model with the best hyperparameters\n",
    "lgb_best = lgb.LGBMClassifier(**best_params)\n",
    "\n",
    "# train the LightGBM model with the best hyperparameters\n",
    "lgb_best.fit(X_train, y_train)\n",
    "\n",
    "# make predictions on the test data\n",
    "y_pred = lgb_best.predict(X_test)\n",
    "y_pred_prob = lgb_best.predict_proba(X_test)[:,1]\n",
    "y_pred_binary = [1 if p > 0.5 else 0 for p in y_pred_prob]\n",
    "\n",
    "# evaluate the model's performance using F1 score\n",
    "f1 = f1_score(y_test, y_pred_binary)\n",
    "print(\"F1 score:\", f1)"
   ]
  },
  {
   "cell_type": "code",
   "execution_count": 64,
   "id": "3386b494",
   "metadata": {},
   "outputs": [
    {
     "name": "stdout",
     "output_type": "stream",
     "text": [
      "[LightGBM] [Info] Number of positive: 3139, number of negative: 23986\n",
      "[LightGBM] [Warning] Auto-choosing row-wise multi-threading, the overhead of testing was 0.002563 seconds.\n",
      "You can set `force_row_wise=true` to remove the overhead.\n",
      "And if memory is not enough, you can set `force_col_wise=true`.\n",
      "[LightGBM] [Info] Total Bins 1026\n",
      "[LightGBM] [Info] Number of data points in the train set: 27125, number of used features: 51\n",
      "[LightGBM] [Info] [binary:BoostFromScore]: pavg=0.115724 -> initscore=-2.033566\n",
      "[LightGBM] [Info] Start training from score -2.033566\n",
      "[1]\tvalid_0's binary_logloss: 0.354377\n",
      "[2]\tvalid_0's binary_logloss: 0.340498\n",
      "[3]\tvalid_0's binary_logloss: 0.329731\n",
      "[4]\tvalid_0's binary_logloss: 0.319935\n",
      "[5]\tvalid_0's binary_logloss: 0.311256\n",
      "[6]\tvalid_0's binary_logloss: 0.303922\n",
      "[7]\tvalid_0's binary_logloss: 0.297324\n",
      "[8]\tvalid_0's binary_logloss: 0.290933\n",
      "[9]\tvalid_0's binary_logloss: 0.285779\n",
      "[10]\tvalid_0's binary_logloss: 0.280781\n",
      "[11]\tvalid_0's binary_logloss: 0.276466\n",
      "[12]\tvalid_0's binary_logloss: 0.2724\n",
      "[13]\tvalid_0's binary_logloss: 0.268813\n",
      "[14]\tvalid_0's binary_logloss: 0.26544\n",
      "[15]\tvalid_0's binary_logloss: 0.262427\n",
      "[16]\tvalid_0's binary_logloss: 0.259657\n",
      "[17]\tvalid_0's binary_logloss: 0.256819\n",
      "[18]\tvalid_0's binary_logloss: 0.254243\n",
      "[19]\tvalid_0's binary_logloss: 0.251808\n",
      "[20]\tvalid_0's binary_logloss: 0.249191\n",
      "[21]\tvalid_0's binary_logloss: 0.247076\n",
      "[22]\tvalid_0's binary_logloss: 0.245246\n",
      "[23]\tvalid_0's binary_logloss: 0.2431\n",
      "[24]\tvalid_0's binary_logloss: 0.241392\n",
      "[25]\tvalid_0's binary_logloss: 0.239603\n",
      "[26]\tvalid_0's binary_logloss: 0.237998\n",
      "[27]\tvalid_0's binary_logloss: 0.236397\n",
      "[28]\tvalid_0's binary_logloss: 0.235108\n",
      "[29]\tvalid_0's binary_logloss: 0.23343\n",
      "[30]\tvalid_0's binary_logloss: 0.23153\n",
      "[31]\tvalid_0's binary_logloss: 0.230178\n",
      "[32]\tvalid_0's binary_logloss: 0.228861\n",
      "[33]\tvalid_0's binary_logloss: 0.227699\n",
      "[34]\tvalid_0's binary_logloss: 0.226713\n",
      "[35]\tvalid_0's binary_logloss: 0.225753\n",
      "[36]\tvalid_0's binary_logloss: 0.224811\n",
      "[37]\tvalid_0's binary_logloss: 0.223885\n",
      "[38]\tvalid_0's binary_logloss: 0.222873\n",
      "[39]\tvalid_0's binary_logloss: 0.221714\n",
      "[40]\tvalid_0's binary_logloss: 0.220879\n",
      "[41]\tvalid_0's binary_logloss: 0.220048\n",
      "[42]\tvalid_0's binary_logloss: 0.219121\n",
      "[43]\tvalid_0's binary_logloss: 0.218423\n",
      "[44]\tvalid_0's binary_logloss: 0.217826\n",
      "[45]\tvalid_0's binary_logloss: 0.217087\n",
      "[46]\tvalid_0's binary_logloss: 0.216297\n",
      "[47]\tvalid_0's binary_logloss: 0.21565\n",
      "[48]\tvalid_0's binary_logloss: 0.214851\n",
      "[49]\tvalid_0's binary_logloss: 0.21404\n",
      "[50]\tvalid_0's binary_logloss: 0.213584\n",
      "[51]\tvalid_0's binary_logloss: 0.212937\n",
      "[52]\tvalid_0's binary_logloss: 0.2124\n",
      "[53]\tvalid_0's binary_logloss: 0.211803\n",
      "[54]\tvalid_0's binary_logloss: 0.211446\n",
      "[55]\tvalid_0's binary_logloss: 0.210688\n",
      "[56]\tvalid_0's binary_logloss: 0.210259\n",
      "[57]\tvalid_0's binary_logloss: 0.209767\n",
      "[58]\tvalid_0's binary_logloss: 0.209356\n",
      "[59]\tvalid_0's binary_logloss: 0.208912\n",
      "[60]\tvalid_0's binary_logloss: 0.208789\n",
      "[61]\tvalid_0's binary_logloss: 0.208391\n",
      "[62]\tvalid_0's binary_logloss: 0.207941\n",
      "[63]\tvalid_0's binary_logloss: 0.207771\n",
      "[64]\tvalid_0's binary_logloss: 0.207383\n",
      "[65]\tvalid_0's binary_logloss: 0.207077\n",
      "[66]\tvalid_0's binary_logloss: 0.206709\n",
      "[67]\tvalid_0's binary_logloss: 0.206378\n",
      "[68]\tvalid_0's binary_logloss: 0.20619\n",
      "[69]\tvalid_0's binary_logloss: 0.205825\n",
      "[70]\tvalid_0's binary_logloss: 0.205479\n",
      "[71]\tvalid_0's binary_logloss: 0.205227\n",
      "[72]\tvalid_0's binary_logloss: 0.20492\n",
      "[73]\tvalid_0's binary_logloss: 0.204517\n",
      "[74]\tvalid_0's binary_logloss: 0.204414\n",
      "[75]\tvalid_0's binary_logloss: 0.204037\n",
      "[76]\tvalid_0's binary_logloss: 0.203872\n",
      "[77]\tvalid_0's binary_logloss: 0.203605\n",
      "[78]\tvalid_0's binary_logloss: 0.203446\n",
      "[79]\tvalid_0's binary_logloss: 0.20323\n",
      "[80]\tvalid_0's binary_logloss: 0.203075\n",
      "[81]\tvalid_0's binary_logloss: 0.202916\n",
      "[82]\tvalid_0's binary_logloss: 0.202772\n",
      "[83]\tvalid_0's binary_logloss: 0.202593\n",
      "[84]\tvalid_0's binary_logloss: 0.20253\n",
      "[85]\tvalid_0's binary_logloss: 0.20248\n",
      "[86]\tvalid_0's binary_logloss: 0.202355\n",
      "[87]\tvalid_0's binary_logloss: 0.20208\n",
      "[88]\tvalid_0's binary_logloss: 0.201811\n",
      "[89]\tvalid_0's binary_logloss: 0.201638\n",
      "[90]\tvalid_0's binary_logloss: 0.201505\n",
      "[91]\tvalid_0's binary_logloss: 0.201222\n",
      "[92]\tvalid_0's binary_logloss: 0.201211\n",
      "[93]\tvalid_0's binary_logloss: 0.201055\n",
      "[94]\tvalid_0's binary_logloss: 0.20111\n",
      "[95]\tvalid_0's binary_logloss: 0.201009\n",
      "[96]\tvalid_0's binary_logloss: 0.200887\n",
      "[97]\tvalid_0's binary_logloss: 0.200823\n",
      "[98]\tvalid_0's binary_logloss: 0.200774\n",
      "[99]\tvalid_0's binary_logloss: 0.200666\n",
      "[100]\tvalid_0's binary_logloss: 0.200597\n",
      "Fold 1 F1 score: 0.5511921458625526\n",
      "[LightGBM] [Info] Number of positive: 3134, number of negative: 23991\n",
      "[LightGBM] [Warning] Auto-choosing row-wise multi-threading, the overhead of testing was 0.002698 seconds.\n",
      "You can set `force_row_wise=true` to remove the overhead.\n",
      "And if memory is not enough, you can set `force_col_wise=true`.\n",
      "[LightGBM] [Info] Total Bins 1028\n",
      "[LightGBM] [Info] Number of data points in the train set: 27125, number of used features: 51\n",
      "[LightGBM] [Info] [binary:BoostFromScore]: pavg=0.115539 -> initscore=-2.035369\n",
      "[LightGBM] [Info] Start training from score -2.035369\n",
      "[1]\tvalid_0's binary_logloss: 0.355335\n",
      "[2]\tvalid_0's binary_logloss: 0.341575\n",
      "[3]\tvalid_0's binary_logloss: 0.330618\n",
      "[4]\tvalid_0's binary_logloss: 0.320594\n",
      "[5]\tvalid_0's binary_logloss: 0.311801\n",
      "[6]\tvalid_0's binary_logloss: 0.304114\n",
      "[7]\tvalid_0's binary_logloss: 0.296863\n",
      "[8]\tvalid_0's binary_logloss: 0.290439\n",
      "[9]\tvalid_0's binary_logloss: 0.284959\n",
      "[10]\tvalid_0's binary_logloss: 0.279681\n",
      "[11]\tvalid_0's binary_logloss: 0.275228\n",
      "[12]\tvalid_0's binary_logloss: 0.271425\n",
      "[13]\tvalid_0's binary_logloss: 0.267666\n",
      "[14]\tvalid_0's binary_logloss: 0.264032\n",
      "[15]\tvalid_0's binary_logloss: 0.260781\n",
      "[16]\tvalid_0's binary_logloss: 0.257722\n",
      "[17]\tvalid_0's binary_logloss: 0.254832\n",
      "[18]\tvalid_0's binary_logloss: 0.252083\n",
      "[19]\tvalid_0's binary_logloss: 0.24973\n",
      "[20]\tvalid_0's binary_logloss: 0.247472\n",
      "[21]\tvalid_0's binary_logloss: 0.24539\n",
      "[22]\tvalid_0's binary_logloss: 0.243504\n",
      "[23]\tvalid_0's binary_logloss: 0.241487\n",
      "[24]\tvalid_0's binary_logloss: 0.239779\n",
      "[25]\tvalid_0's binary_logloss: 0.237869\n",
      "[26]\tvalid_0's binary_logloss: 0.236229\n",
      "[27]\tvalid_0's binary_logloss: 0.234614\n",
      "[28]\tvalid_0's binary_logloss: 0.233218\n",
      "[29]\tvalid_0's binary_logloss: 0.231899\n",
      "[30]\tvalid_0's binary_logloss: 0.230219\n",
      "[31]\tvalid_0's binary_logloss: 0.228873\n",
      "[32]\tvalid_0's binary_logloss: 0.227947\n",
      "[33]\tvalid_0's binary_logloss: 0.226538\n",
      "[34]\tvalid_0's binary_logloss: 0.225367\n",
      "[35]\tvalid_0's binary_logloss: 0.224313\n",
      "[36]\tvalid_0's binary_logloss: 0.223417\n",
      "[37]\tvalid_0's binary_logloss: 0.222647\n",
      "[38]\tvalid_0's binary_logloss: 0.221626\n",
      "[39]\tvalid_0's binary_logloss: 0.220719\n",
      "[40]\tvalid_0's binary_logloss: 0.220006\n",
      "[41]\tvalid_0's binary_logloss: 0.219225\n",
      "[42]\tvalid_0's binary_logloss: 0.218377\n",
      "[43]\tvalid_0's binary_logloss: 0.217782\n",
      "[44]\tvalid_0's binary_logloss: 0.217185\n",
      "[45]\tvalid_0's binary_logloss: 0.216609\n",
      "[46]\tvalid_0's binary_logloss: 0.215744\n",
      "[47]\tvalid_0's binary_logloss: 0.215196\n",
      "[48]\tvalid_0's binary_logloss: 0.214554\n",
      "[49]\tvalid_0's binary_logloss: 0.214145\n",
      "[50]\tvalid_0's binary_logloss: 0.21347\n",
      "[51]\tvalid_0's binary_logloss: 0.21294\n",
      "[52]\tvalid_0's binary_logloss: 0.212496\n",
      "[53]\tvalid_0's binary_logloss: 0.212061\n",
      "[54]\tvalid_0's binary_logloss: 0.211607\n",
      "[55]\tvalid_0's binary_logloss: 0.211064\n",
      "[56]\tvalid_0's binary_logloss: 0.210859\n",
      "[57]\tvalid_0's binary_logloss: 0.210262\n",
      "[58]\tvalid_0's binary_logloss: 0.209974\n",
      "[59]\tvalid_0's binary_logloss: 0.209465\n",
      "[60]\tvalid_0's binary_logloss: 0.20921\n",
      "[61]\tvalid_0's binary_logloss: 0.208757\n",
      "[62]\tvalid_0's binary_logloss: 0.208496\n",
      "[63]\tvalid_0's binary_logloss: 0.208253\n",
      "[64]\tvalid_0's binary_logloss: 0.207915\n",
      "[65]\tvalid_0's binary_logloss: 0.207604\n",
      "[66]\tvalid_0's binary_logloss: 0.207388\n",
      "[67]\tvalid_0's binary_logloss: 0.207115\n",
      "[68]\tvalid_0's binary_logloss: 0.206894\n",
      "[69]\tvalid_0's binary_logloss: 0.206658\n",
      "[70]\tvalid_0's binary_logloss: 0.206521\n",
      "[71]\tvalid_0's binary_logloss: 0.206138\n",
      "[72]\tvalid_0's binary_logloss: 0.205978\n",
      "[73]\tvalid_0's binary_logloss: 0.205688\n",
      "[74]\tvalid_0's binary_logloss: 0.20562\n",
      "[75]\tvalid_0's binary_logloss: 0.205249\n",
      "[76]\tvalid_0's binary_logloss: 0.205154\n",
      "[77]\tvalid_0's binary_logloss: 0.205016\n",
      "[78]\tvalid_0's binary_logloss: 0.204753\n",
      "[79]\tvalid_0's binary_logloss: 0.204394\n",
      "[80]\tvalid_0's binary_logloss: 0.204249\n",
      "[81]\tvalid_0's binary_logloss: 0.204229\n",
      "[82]\tvalid_0's binary_logloss: 0.204132\n",
      "[83]\tvalid_0's binary_logloss: 0.20412\n",
      "[84]\tvalid_0's binary_logloss: 0.203951\n",
      "[85]\tvalid_0's binary_logloss: 0.203843\n",
      "[86]\tvalid_0's binary_logloss: 0.203737\n",
      "[87]\tvalid_0's binary_logloss: 0.203486\n"
     ]
    },
    {
     "name": "stdout",
     "output_type": "stream",
     "text": [
      "[88]\tvalid_0's binary_logloss: 0.203322\n",
      "[89]\tvalid_0's binary_logloss: 0.203186\n",
      "[90]\tvalid_0's binary_logloss: 0.203006\n",
      "[91]\tvalid_0's binary_logloss: 0.202891\n",
      "[92]\tvalid_0's binary_logloss: 0.202749\n",
      "[93]\tvalid_0's binary_logloss: 0.202592\n",
      "[94]\tvalid_0's binary_logloss: 0.202424\n",
      "[95]\tvalid_0's binary_logloss: 0.202334\n",
      "[96]\tvalid_0's binary_logloss: 0.202234\n",
      "[97]\tvalid_0's binary_logloss: 0.202225\n",
      "[98]\tvalid_0's binary_logloss: 0.202208\n",
      "[99]\tvalid_0's binary_logloss: 0.202049\n",
      "[100]\tvalid_0's binary_logloss: 0.201959\n",
      "Fold 2 F1 score: 0.5625879043600561\n",
      "[LightGBM] [Info] Number of positive: 3154, number of negative: 23972\n",
      "[LightGBM] [Warning] Auto-choosing row-wise multi-threading, the overhead of testing was 0.003079 seconds.\n",
      "You can set `force_row_wise=true` to remove the overhead.\n",
      "And if memory is not enough, you can set `force_col_wise=true`.\n",
      "[LightGBM] [Info] Total Bins 1027\n",
      "[LightGBM] [Info] Number of data points in the train set: 27126, number of used features: 51\n",
      "[LightGBM] [Info] [binary:BoostFromScore]: pavg=0.116272 -> initscore=-2.028215\n",
      "[LightGBM] [Info] Start training from score -2.028215\n",
      "[1]\tvalid_0's binary_logloss: 0.349803\n",
      "[2]\tvalid_0's binary_logloss: 0.33572\n",
      "[3]\tvalid_0's binary_logloss: 0.325202\n",
      "[4]\tvalid_0's binary_logloss: 0.315526\n",
      "[5]\tvalid_0's binary_logloss: 0.306765\n",
      "[6]\tvalid_0's binary_logloss: 0.299425\n",
      "[7]\tvalid_0's binary_logloss: 0.292516\n",
      "[8]\tvalid_0's binary_logloss: 0.286385\n",
      "[9]\tvalid_0's binary_logloss: 0.280913\n",
      "[10]\tvalid_0's binary_logloss: 0.276001\n",
      "[11]\tvalid_0's binary_logloss: 0.271669\n",
      "[12]\tvalid_0's binary_logloss: 0.267729\n",
      "[13]\tvalid_0's binary_logloss: 0.263831\n",
      "[14]\tvalid_0's binary_logloss: 0.26035\n",
      "[15]\tvalid_0's binary_logloss: 0.257292\n",
      "[16]\tvalid_0's binary_logloss: 0.254389\n",
      "[17]\tvalid_0's binary_logloss: 0.251611\n",
      "[18]\tvalid_0's binary_logloss: 0.249021\n",
      "[19]\tvalid_0's binary_logloss: 0.24655\n",
      "[20]\tvalid_0's binary_logloss: 0.244326\n",
      "[21]\tvalid_0's binary_logloss: 0.242332\n",
      "[22]\tvalid_0's binary_logloss: 0.240417\n",
      "[23]\tvalid_0's binary_logloss: 0.238618\n",
      "[24]\tvalid_0's binary_logloss: 0.236892\n",
      "[25]\tvalid_0's binary_logloss: 0.235256\n",
      "[26]\tvalid_0's binary_logloss: 0.233645\n",
      "[27]\tvalid_0's binary_logloss: 0.232143\n",
      "[28]\tvalid_0's binary_logloss: 0.230724\n",
      "[29]\tvalid_0's binary_logloss: 0.229365\n",
      "[30]\tvalid_0's binary_logloss: 0.227872\n",
      "[31]\tvalid_0's binary_logloss: 0.226645\n",
      "[32]\tvalid_0's binary_logloss: 0.22573\n",
      "[33]\tvalid_0's binary_logloss: 0.224372\n",
      "[34]\tvalid_0's binary_logloss: 0.223425\n",
      "[35]\tvalid_0's binary_logloss: 0.222438\n",
      "[36]\tvalid_0's binary_logloss: 0.221521\n",
      "[37]\tvalid_0's binary_logloss: 0.220419\n",
      "[38]\tvalid_0's binary_logloss: 0.219563\n",
      "[39]\tvalid_0's binary_logloss: 0.218765\n",
      "[40]\tvalid_0's binary_logloss: 0.218029\n",
      "[41]\tvalid_0's binary_logloss: 0.217359\n",
      "[42]\tvalid_0's binary_logloss: 0.216699\n",
      "[43]\tvalid_0's binary_logloss: 0.216095\n",
      "[44]\tvalid_0's binary_logloss: 0.215545\n",
      "[45]\tvalid_0's binary_logloss: 0.214874\n",
      "[46]\tvalid_0's binary_logloss: 0.214402\n",
      "[47]\tvalid_0's binary_logloss: 0.213908\n",
      "[48]\tvalid_0's binary_logloss: 0.213133\n",
      "[49]\tvalid_0's binary_logloss: 0.212507\n",
      "[50]\tvalid_0's binary_logloss: 0.211977\n",
      "[51]\tvalid_0's binary_logloss: 0.211368\n",
      "[52]\tvalid_0's binary_logloss: 0.210983\n",
      "[53]\tvalid_0's binary_logloss: 0.210548\n",
      "[54]\tvalid_0's binary_logloss: 0.210237\n",
      "[55]\tvalid_0's binary_logloss: 0.209588\n",
      "[56]\tvalid_0's binary_logloss: 0.209182\n",
      "[57]\tvalid_0's binary_logloss: 0.208849\n",
      "[58]\tvalid_0's binary_logloss: 0.208337\n",
      "[59]\tvalid_0's binary_logloss: 0.207829\n",
      "[60]\tvalid_0's binary_logloss: 0.207661\n",
      "[61]\tvalid_0's binary_logloss: 0.207266\n",
      "[62]\tvalid_0's binary_logloss: 0.206796\n",
      "[63]\tvalid_0's binary_logloss: 0.206743\n",
      "[64]\tvalid_0's binary_logloss: 0.206493\n",
      "[65]\tvalid_0's binary_logloss: 0.206042\n",
      "[66]\tvalid_0's binary_logloss: 0.205535\n",
      "[67]\tvalid_0's binary_logloss: 0.205181\n",
      "[68]\tvalid_0's binary_logloss: 0.204938\n",
      "[69]\tvalid_0's binary_logloss: 0.204664\n",
      "[70]\tvalid_0's binary_logloss: 0.204486\n",
      "[71]\tvalid_0's binary_logloss: 0.20412\n",
      "[72]\tvalid_0's binary_logloss: 0.203899\n",
      "[73]\tvalid_0's binary_logloss: 0.203651\n",
      "[74]\tvalid_0's binary_logloss: 0.203494\n",
      "[75]\tvalid_0's binary_logloss: 0.203279\n",
      "[76]\tvalid_0's binary_logloss: 0.203074\n",
      "[77]\tvalid_0's binary_logloss: 0.203006\n",
      "[78]\tvalid_0's binary_logloss: 0.202789\n",
      "[79]\tvalid_0's binary_logloss: 0.202571\n",
      "[80]\tvalid_0's binary_logloss: 0.202327\n",
      "[81]\tvalid_0's binary_logloss: 0.202148\n",
      "[82]\tvalid_0's binary_logloss: 0.202093\n",
      "[83]\tvalid_0's binary_logloss: 0.20195\n",
      "[84]\tvalid_0's binary_logloss: 0.201867\n",
      "[85]\tvalid_0's binary_logloss: 0.201787\n",
      "[86]\tvalid_0's binary_logloss: 0.201636\n",
      "[87]\tvalid_0's binary_logloss: 0.20141\n",
      "[88]\tvalid_0's binary_logloss: 0.201241\n",
      "[89]\tvalid_0's binary_logloss: 0.201164\n",
      "[90]\tvalid_0's binary_logloss: 0.201024\n",
      "[91]\tvalid_0's binary_logloss: 0.20095\n",
      "[92]\tvalid_0's binary_logloss: 0.200753\n",
      "[93]\tvalid_0's binary_logloss: 0.200675\n",
      "[94]\tvalid_0's binary_logloss: 0.200584\n",
      "[95]\tvalid_0's binary_logloss: 0.200485\n",
      "[96]\tvalid_0's binary_logloss: 0.200405\n",
      "[97]\tvalid_0's binary_logloss: 0.200454\n",
      "[98]\tvalid_0's binary_logloss: 0.200406\n",
      "[99]\tvalid_0's binary_logloss: 0.200354\n",
      "[100]\tvalid_0's binary_logloss: 0.200347\n",
      "Fold 3 F1 score: 0.5383542538354255\n",
      "[LightGBM] [Info] Number of positive: 3228, number of negative: 23898\n",
      "[LightGBM] [Warning] Auto-choosing row-wise multi-threading, the overhead of testing was 0.002114 seconds.\n",
      "You can set `force_row_wise=true` to remove the overhead.\n",
      "And if memory is not enough, you can set `force_col_wise=true`.\n",
      "[LightGBM] [Info] Total Bins 1028\n",
      "[LightGBM] [Info] Number of data points in the train set: 27126, number of used features: 51\n",
      "[LightGBM] [Info] [binary:BoostFromScore]: pavg=0.119000 -> initscore=-2.001932\n",
      "[LightGBM] [Info] Start training from score -2.001932\n",
      "[1]\tvalid_0's binary_logloss: 0.329951\n",
      "[2]\tvalid_0's binary_logloss: 0.318093\n",
      "[3]\tvalid_0's binary_logloss: 0.308618\n",
      "[4]\tvalid_0's binary_logloss: 0.300088\n",
      "[5]\tvalid_0's binary_logloss: 0.292475\n",
      "[6]\tvalid_0's binary_logloss: 0.285209\n",
      "[7]\tvalid_0's binary_logloss: 0.27918\n",
      "[8]\tvalid_0's binary_logloss: 0.273572\n",
      "[9]\tvalid_0's binary_logloss: 0.268445\n",
      "[10]\tvalid_0's binary_logloss: 0.264047\n",
      "[11]\tvalid_0's binary_logloss: 0.259955\n",
      "[12]\tvalid_0's binary_logloss: 0.256055\n",
      "[13]\tvalid_0's binary_logloss: 0.25271\n",
      "[14]\tvalid_0's binary_logloss: 0.249411\n",
      "[15]\tvalid_0's binary_logloss: 0.246459\n",
      "[16]\tvalid_0's binary_logloss: 0.243571\n",
      "[17]\tvalid_0's binary_logloss: 0.240955\n",
      "[18]\tvalid_0's binary_logloss: 0.238163\n",
      "[19]\tvalid_0's binary_logloss: 0.235916\n",
      "[20]\tvalid_0's binary_logloss: 0.233908\n",
      "[21]\tvalid_0's binary_logloss: 0.231993\n",
      "[22]\tvalid_0's binary_logloss: 0.230239\n",
      "[23]\tvalid_0's binary_logloss: 0.228441\n",
      "[24]\tvalid_0's binary_logloss: 0.226791\n",
      "[25]\tvalid_0's binary_logloss: 0.225457\n",
      "[26]\tvalid_0's binary_logloss: 0.223872\n",
      "[27]\tvalid_0's binary_logloss: 0.222394\n",
      "[28]\tvalid_0's binary_logloss: 0.221253\n",
      "[29]\tvalid_0's binary_logloss: 0.220167\n",
      "[30]\tvalid_0's binary_logloss: 0.218838\n",
      "[31]\tvalid_0's binary_logloss: 0.217652\n",
      "[32]\tvalid_0's binary_logloss: 0.216549\n",
      "[33]\tvalid_0's binary_logloss: 0.215308\n",
      "[34]\tvalid_0's binary_logloss: 0.214502\n",
      "[35]\tvalid_0's binary_logloss: 0.213736\n",
      "[36]\tvalid_0's binary_logloss: 0.212527\n",
      "[37]\tvalid_0's binary_logloss: 0.211752\n",
      "[38]\tvalid_0's binary_logloss: 0.210971\n",
      "[39]\tvalid_0's binary_logloss: 0.210144\n",
      "[40]\tvalid_0's binary_logloss: 0.209458\n",
      "[41]\tvalid_0's binary_logloss: 0.208707\n",
      "[42]\tvalid_0's binary_logloss: 0.208164\n",
      "[43]\tvalid_0's binary_logloss: 0.207613\n",
      "[44]\tvalid_0's binary_logloss: 0.207081\n",
      "[45]\tvalid_0's binary_logloss: 0.206622\n",
      "[46]\tvalid_0's binary_logloss: 0.206123\n",
      "[47]\tvalid_0's binary_logloss: 0.20548\n",
      "[48]\tvalid_0's binary_logloss: 0.204884\n",
      "[49]\tvalid_0's binary_logloss: 0.204203\n",
      "[50]\tvalid_0's binary_logloss: 0.203373\n",
      "[51]\tvalid_0's binary_logloss: 0.202963\n",
      "[52]\tvalid_0's binary_logloss: 0.202287\n",
      "[53]\tvalid_0's binary_logloss: 0.201937\n",
      "[54]\tvalid_0's binary_logloss: 0.201632\n",
      "[55]\tvalid_0's binary_logloss: 0.201004\n",
      "[56]\tvalid_0's binary_logloss: 0.200445\n",
      "[57]\tvalid_0's binary_logloss: 0.200047\n",
      "[58]\tvalid_0's binary_logloss: 0.199669\n",
      "[59]\tvalid_0's binary_logloss: 0.19907\n",
      "[60]\tvalid_0's binary_logloss: 0.198997\n",
      "[61]\tvalid_0's binary_logloss: 0.198868\n",
      "[62]\tvalid_0's binary_logloss: 0.198588\n",
      "[63]\tvalid_0's binary_logloss: 0.198362\n",
      "[64]\tvalid_0's binary_logloss: 0.198009\n",
      "[65]\tvalid_0's binary_logloss: 0.197621\n",
      "[66]\tvalid_0's binary_logloss: 0.197424\n",
      "[67]\tvalid_0's binary_logloss: 0.197119\n",
      "[68]\tvalid_0's binary_logloss: 0.196828\n",
      "[69]\tvalid_0's binary_logloss: 0.196298\n",
      "[70]\tvalid_0's binary_logloss: 0.196094\n",
      "[71]\tvalid_0's binary_logloss: 0.195707\n",
      "[72]\tvalid_0's binary_logloss: 0.195506\n",
      "[73]\tvalid_0's binary_logloss: 0.195217\n",
      "[74]\tvalid_0's binary_logloss: 0.195007\n",
      "[75]\tvalid_0's binary_logloss: 0.194665\n",
      "[76]\tvalid_0's binary_logloss: 0.194528\n",
      "[77]\tvalid_0's binary_logloss: 0.194404\n",
      "[78]\tvalid_0's binary_logloss: 0.194168\n",
      "[79]\tvalid_0's binary_logloss: 0.194\n",
      "[80]\tvalid_0's binary_logloss: 0.193779\n",
      "[81]\tvalid_0's binary_logloss: 0.193346\n",
      "[82]\tvalid_0's binary_logloss: 0.193002\n",
      "[83]\tvalid_0's binary_logloss: 0.192911\n",
      "[84]\tvalid_0's binary_logloss: 0.192566\n",
      "[85]\tvalid_0's binary_logloss: 0.192567\n",
      "[86]\tvalid_0's binary_logloss: 0.192515\n",
      "[87]\tvalid_0's binary_logloss: 0.192168\n",
      "[88]\tvalid_0's binary_logloss: 0.192133\n",
      "[89]\tvalid_0's binary_logloss: 0.191927\n",
      "[90]\tvalid_0's binary_logloss: 0.191847\n",
      "[91]\tvalid_0's binary_logloss: 0.191748\n",
      "[92]\tvalid_0's binary_logloss: 0.191599\n",
      "[93]\tvalid_0's binary_logloss: 0.191505\n",
      "[94]\tvalid_0's binary_logloss: 0.191365\n",
      "[95]\tvalid_0's binary_logloss: 0.191352\n",
      "[96]\tvalid_0's binary_logloss: 0.191314\n",
      "[97]\tvalid_0's binary_logloss: 0.191283\n"
     ]
    },
    {
     "name": "stdout",
     "output_type": "stream",
     "text": [
      "[98]\tvalid_0's binary_logloss: 0.191275\n",
      "[99]\tvalid_0's binary_logloss: 0.19119\n",
      "[100]\tvalid_0's binary_logloss: 0.191178\n",
      "Fold 4 F1 score: 0.5472868217054264\n",
      "[LightGBM] [Info] Number of positive: 3213, number of negative: 23913\n",
      "[LightGBM] [Warning] Auto-choosing row-wise multi-threading, the overhead of testing was 0.002761 seconds.\n",
      "You can set `force_row_wise=true` to remove the overhead.\n",
      "And if memory is not enough, you can set `force_col_wise=true`.\n",
      "[LightGBM] [Info] Total Bins 1028\n",
      "[LightGBM] [Info] Number of data points in the train set: 27126, number of used features: 51\n",
      "[LightGBM] [Info] [binary:BoostFromScore]: pavg=0.118447 -> initscore=-2.007217\n",
      "[LightGBM] [Info] Start training from score -2.007217\n",
      "[1]\tvalid_0's binary_logloss: 0.333668\n",
      "[2]\tvalid_0's binary_logloss: 0.320651\n",
      "[3]\tvalid_0's binary_logloss: 0.310892\n",
      "[4]\tvalid_0's binary_logloss: 0.302285\n",
      "[5]\tvalid_0's binary_logloss: 0.294646\n",
      "[6]\tvalid_0's binary_logloss: 0.287871\n",
      "[7]\tvalid_0's binary_logloss: 0.281281\n",
      "[8]\tvalid_0's binary_logloss: 0.27554\n",
      "[9]\tvalid_0's binary_logloss: 0.270157\n",
      "[10]\tvalid_0's binary_logloss: 0.265421\n",
      "[11]\tvalid_0's binary_logloss: 0.261254\n",
      "[12]\tvalid_0's binary_logloss: 0.257675\n",
      "[13]\tvalid_0's binary_logloss: 0.254272\n",
      "[14]\tvalid_0's binary_logloss: 0.251049\n",
      "[15]\tvalid_0's binary_logloss: 0.248115\n",
      "[16]\tvalid_0's binary_logloss: 0.245369\n",
      "[17]\tvalid_0's binary_logloss: 0.2428\n",
      "[18]\tvalid_0's binary_logloss: 0.240517\n",
      "[19]\tvalid_0's binary_logloss: 0.238344\n",
      "[20]\tvalid_0's binary_logloss: 0.236215\n",
      "[21]\tvalid_0's binary_logloss: 0.234244\n",
      "[22]\tvalid_0's binary_logloss: 0.232552\n",
      "[23]\tvalid_0's binary_logloss: 0.230712\n",
      "[24]\tvalid_0's binary_logloss: 0.229065\n",
      "[25]\tvalid_0's binary_logloss: 0.227648\n",
      "[26]\tvalid_0's binary_logloss: 0.226334\n",
      "[27]\tvalid_0's binary_logloss: 0.224684\n",
      "[28]\tvalid_0's binary_logloss: 0.223271\n",
      "[29]\tvalid_0's binary_logloss: 0.222237\n",
      "[30]\tvalid_0's binary_logloss: 0.220989\n",
      "[31]\tvalid_0's binary_logloss: 0.219948\n",
      "[32]\tvalid_0's binary_logloss: 0.218935\n",
      "[33]\tvalid_0's binary_logloss: 0.217978\n",
      "[34]\tvalid_0's binary_logloss: 0.217214\n",
      "[35]\tvalid_0's binary_logloss: 0.21636\n",
      "[36]\tvalid_0's binary_logloss: 0.215394\n",
      "[37]\tvalid_0's binary_logloss: 0.214437\n",
      "[38]\tvalid_0's binary_logloss: 0.213531\n",
      "[39]\tvalid_0's binary_logloss: 0.212239\n",
      "[40]\tvalid_0's binary_logloss: 0.211554\n",
      "[41]\tvalid_0's binary_logloss: 0.210845\n",
      "[42]\tvalid_0's binary_logloss: 0.210159\n",
      "[43]\tvalid_0's binary_logloss: 0.209354\n",
      "[44]\tvalid_0's binary_logloss: 0.208681\n",
      "[45]\tvalid_0's binary_logloss: 0.208108\n",
      "[46]\tvalid_0's binary_logloss: 0.20758\n",
      "[47]\tvalid_0's binary_logloss: 0.207056\n",
      "[48]\tvalid_0's binary_logloss: 0.206593\n",
      "[49]\tvalid_0's binary_logloss: 0.205861\n",
      "[50]\tvalid_0's binary_logloss: 0.205407\n",
      "[51]\tvalid_0's binary_logloss: 0.204759\n",
      "[52]\tvalid_0's binary_logloss: 0.204355\n",
      "[53]\tvalid_0's binary_logloss: 0.203897\n",
      "[54]\tvalid_0's binary_logloss: 0.203355\n",
      "[55]\tvalid_0's binary_logloss: 0.202793\n",
      "[56]\tvalid_0's binary_logloss: 0.20246\n",
      "[57]\tvalid_0's binary_logloss: 0.201768\n",
      "[58]\tvalid_0's binary_logloss: 0.201421\n",
      "[59]\tvalid_0's binary_logloss: 0.200912\n",
      "[60]\tvalid_0's binary_logloss: 0.200707\n",
      "[61]\tvalid_0's binary_logloss: 0.200213\n",
      "[62]\tvalid_0's binary_logloss: 0.199914\n",
      "[63]\tvalid_0's binary_logloss: 0.199734\n",
      "[64]\tvalid_0's binary_logloss: 0.19956\n",
      "[65]\tvalid_0's binary_logloss: 0.199326\n",
      "[66]\tvalid_0's binary_logloss: 0.19912\n",
      "[67]\tvalid_0's binary_logloss: 0.198862\n",
      "[68]\tvalid_0's binary_logloss: 0.198597\n",
      "[69]\tvalid_0's binary_logloss: 0.198257\n",
      "[70]\tvalid_0's binary_logloss: 0.198102\n",
      "[71]\tvalid_0's binary_logloss: 0.197834\n",
      "[72]\tvalid_0's binary_logloss: 0.19757\n",
      "[73]\tvalid_0's binary_logloss: 0.197134\n",
      "[74]\tvalid_0's binary_logloss: 0.196912\n",
      "[75]\tvalid_0's binary_logloss: 0.196713\n",
      "[76]\tvalid_0's binary_logloss: 0.196405\n",
      "[77]\tvalid_0's binary_logloss: 0.196321\n",
      "[78]\tvalid_0's binary_logloss: 0.196271\n",
      "[79]\tvalid_0's binary_logloss: 0.196168\n",
      "[80]\tvalid_0's binary_logloss: 0.196021\n",
      "[81]\tvalid_0's binary_logloss: 0.195939\n",
      "[82]\tvalid_0's binary_logloss: 0.195751\n",
      "[83]\tvalid_0's binary_logloss: 0.195622\n",
      "[84]\tvalid_0's binary_logloss: 0.195438\n",
      "[85]\tvalid_0's binary_logloss: 0.195357\n",
      "[86]\tvalid_0's binary_logloss: 0.195351\n",
      "[87]\tvalid_0's binary_logloss: 0.195165\n",
      "[88]\tvalid_0's binary_logloss: 0.195041\n",
      "[89]\tvalid_0's binary_logloss: 0.194936\n",
      "[90]\tvalid_0's binary_logloss: 0.1947\n",
      "[91]\tvalid_0's binary_logloss: 0.194709\n",
      "[92]\tvalid_0's binary_logloss: 0.194597\n",
      "[93]\tvalid_0's binary_logloss: 0.194393\n",
      "[94]\tvalid_0's binary_logloss: 0.194337\n",
      "[95]\tvalid_0's binary_logloss: 0.194234\n",
      "[96]\tvalid_0's binary_logloss: 0.194122\n",
      "[97]\tvalid_0's binary_logloss: 0.194024\n",
      "[98]\tvalid_0's binary_logloss: 0.193998\n",
      "[99]\tvalid_0's binary_logloss: 0.193872\n",
      "[100]\tvalid_0's binary_logloss: 0.193825\n",
      "Fold 5 F1 score: 0.5385802469135802\n",
      "Average F1 score: 0.5476002745354082\n"
     ]
    }
   ],
   "source": [
    "from sklearn.model_selection import KFold\n",
    "\n",
    "# set some hyperparameters for the LightGBM model\n",
    "params = {\n",
    "    'objective': 'binary',\n",
    "    'metric': 'binary_logloss',\n",
    "    'boosting_type': 'gbdt',\n",
    "    'num_leaves': 31,\n",
    "    'learning_rate': 0.05,\n",
    "    'feature_fraction': 0.9\n",
    "}\n",
    "\n",
    "# set up K-fold cross-validation\n",
    "k_folds = 5\n",
    "kf = KFold(n_splits=k_folds, shuffle=True, random_state=42)\n",
    "\n",
    "# create an empty list to store F1 scores for each fold\n",
    "f1_scores = []\n",
    "\n",
    "# iterate over each fold\n",
    "for i, (train_idx, val_idx) in enumerate(kf.split(X)):\n",
    "    \n",
    "    # split the data into training and validation sets\n",
    "    X_train_fold, y_train_fold = X.iloc[train_idx], y.iloc[train_idx]\n",
    "    X_val_fold, y_val_fold = X.iloc[val_idx], y.iloc[val_idx]\n",
    "    \n",
    "    # create LightGBM datasets for training and validation\n",
    "    train_data = lgb.Dataset(X_train_fold, label=y_train_fold)\n",
    "    val_data = lgb.Dataset(X_val_fold, label=y_val_fold)\n",
    "    \n",
    "    # train the LightGBM model\n",
    "    num_rounds = 100\n",
    "    bst = lgb.train(params, train_data, num_rounds, valid_sets=[val_data])\n",
    "    \n",
    "    # make predictions on the validation set\n",
    "    y_pred_val = bst.predict(X_val_fold)\n",
    "    y_pred_val_binary = [1 if p > 0.5 else 0 for p in y_pred_val]\n",
    "    \n",
    "    # calculate the F1 score for this fold and append to list of F1 scores\n",
    "    f1_fold = f1_score(y_val_fold, y_pred_val_binary)\n",
    "    f1_scores.append(f1_fold)\n",
    "    \n",
    "    # print the F1 score for this fold\n",
    "    print(f\"Fold {i+1} F1 score: {f1_fold}\")\n",
    "\n",
    "# calculate and print the average F1 score across all folds\n",
    "avg_f1_score = sum(f1_scores) / k_folds\n",
    "print(f\"Average F1 score: {avg_f1_score}\")\n"
   ]
  },
  {
   "cell_type": "markdown",
   "id": "b5695e6f",
   "metadata": {},
   "source": [
    "### MODEL 8: Random Forest - using all variables on class balanced data"
   ]
  },
  {
   "cell_type": "code",
   "execution_count": 65,
   "id": "27c539c2",
   "metadata": {},
   "outputs": [
    {
     "name": "stdout",
     "output_type": "stream",
     "text": [
      "              precision    recall  f1-score   support\n",
      "\n",
      "           0       0.93      0.96      0.95      7508\n",
      "           1       0.61      0.44      0.51       969\n",
      "\n",
      "    accuracy                           0.90      8477\n",
      "   macro avg       0.77      0.70      0.73      8477\n",
      "weighted avg       0.89      0.90      0.90      8477\n",
      "\n"
     ]
    },
    {
     "data": {
      "text/html": [
       "<div>\n",
       "<style scoped>\n",
       "    .dataframe tbody tr th:only-of-type {\n",
       "        vertical-align: middle;\n",
       "    }\n",
       "\n",
       "    .dataframe tbody tr th {\n",
       "        vertical-align: top;\n",
       "    }\n",
       "\n",
       "    .dataframe thead th {\n",
       "        text-align: right;\n",
       "    }\n",
       "</style>\n",
       "<table border=\"1\" class=\"dataframe\">\n",
       "  <thead>\n",
       "    <tr style=\"text-align: right;\">\n",
       "      <th></th>\n",
       "      <th>random_forest</th>\n",
       "    </tr>\n",
       "  </thead>\n",
       "  <tbody>\n",
       "    <tr>\n",
       "      <th>F1_score</th>\n",
       "      <td>0.514934</td>\n",
       "    </tr>\n",
       "  </tbody>\n",
       "</table>\n",
       "</div>"
      ],
      "text/plain": [
       "          random_forest\n",
       "F1_score       0.514934"
      ]
     },
     "execution_count": 65,
     "metadata": {},
     "output_type": "execute_result"
    }
   ],
   "source": [
    "#Fitting Random Forest Model\n",
    "rf = RandomForestClassifier()\n",
    "rf.fit(X_train,y_train) \n",
    "\n",
    "#predictions on validation data\n",
    "pred_test = rf.predict(X_test)   \n",
    "pred_test\n",
    "\n",
    "\n",
    "#Metrics\n",
    "F1_score = f1_score(y_test, pred_test)\n",
    "\n",
    "rf = pd.DataFrame({'random_forest': [F1_score]}, \n",
    "                                index=['F1_score'])\n",
    "\n",
    "print(classification_report(y_test,pred_test))\n",
    "rf"
   ]
  },
  {
   "cell_type": "markdown",
   "id": "75062628",
   "metadata": {},
   "source": [
    "### MODEL 9: Adaboost - using all variables on class balanced data"
   ]
  },
  {
   "cell_type": "code",
   "execution_count": 66,
   "id": "1e410fbe",
   "metadata": {
    "scrolled": true
   },
   "outputs": [
    {
     "name": "stdout",
     "output_type": "stream",
     "text": [
      "              precision    recall  f1-score   support\n",
      "\n",
      "           0       0.94      0.95      0.94      7508\n",
      "           1       0.56      0.54      0.55       969\n",
      "\n",
      "    accuracy                           0.90      8477\n",
      "   macro avg       0.75      0.74      0.75      8477\n",
      "weighted avg       0.90      0.90      0.90      8477\n",
      "\n"
     ]
    },
    {
     "data": {
      "text/html": [
       "<div>\n",
       "<style scoped>\n",
       "    .dataframe tbody tr th:only-of-type {\n",
       "        vertical-align: middle;\n",
       "    }\n",
       "\n",
       "    .dataframe tbody tr th {\n",
       "        vertical-align: top;\n",
       "    }\n",
       "\n",
       "    .dataframe thead th {\n",
       "        text-align: right;\n",
       "    }\n",
       "</style>\n",
       "<table border=\"1\" class=\"dataframe\">\n",
       "  <thead>\n",
       "    <tr style=\"text-align: right;\">\n",
       "      <th></th>\n",
       "      <th>ada_boost</th>\n",
       "    </tr>\n",
       "  </thead>\n",
       "  <tbody>\n",
       "    <tr>\n",
       "      <th>F1_score</th>\n",
       "      <td>0.550265</td>\n",
       "    </tr>\n",
       "  </tbody>\n",
       "</table>\n",
       "</div>"
      ],
      "text/plain": [
       "          ada_boost\n",
       "F1_score   0.550265"
      ]
     },
     "execution_count": 66,
     "metadata": {},
     "output_type": "execute_result"
    }
   ],
   "source": [
    "#Fitting Adaboost Model\n",
    "ada_boost = AdaBoostClassifier()\n",
    "ada_boost.fit(X_train,y_train) \n",
    "\n",
    "\n",
    "#predictions on validation data\n",
    "pred_test = ada_boost.predict(X_test)   \n",
    "pred_test\n",
    "\n",
    "\n",
    "#Metrics\n",
    "F1_score = f1_score(y_test, pred_test)\n",
    "\n",
    "rf = pd.DataFrame({'ada_boost': [F1_score]}, \n",
    "                                index=['F1_score'])\n",
    "\n",
    "print(classification_report(y_test,pred_test))\n",
    "rf"
   ]
  },
  {
   "cell_type": "markdown",
   "id": "46f5eddd",
   "metadata": {},
   "source": [
    "# FROM HERE PIPELINING IS STARTING"
   ]
  },
  {
   "cell_type": "code",
   "execution_count": 67,
   "id": "6aa85016",
   "metadata": {},
   "outputs": [],
   "source": [
    "pipe=data.copy()\n"
   ]
  },
  {
   "cell_type": "code",
   "execution_count": 68,
   "id": "614fade1",
   "metadata": {},
   "outputs": [],
   "source": [
    "from sklearn.preprocessing import LabelEncoder\n",
    "le_y = LabelEncoder()\n",
    "le_y.fit(pipe['y'])\n",
    "pipe['y'] = le_y.transform(pipe['y'])"
   ]
  },
  {
   "cell_type": "code",
   "execution_count": 69,
   "id": "977712ed",
   "metadata": {},
   "outputs": [],
   "source": [
    "dfpipe = pd.get_dummies(pipe, drop_first= True)"
   ]
  },
  {
   "cell_type": "code",
   "execution_count": 70,
   "id": "5ce2254d",
   "metadata": {},
   "outputs": [],
   "source": [
    "def iv_woe(data, target, bins=10, show_woe=False):\n",
    "    \n",
    "    #Empty Dataframe\n",
    "    newDF,woeDF = pd.DataFrame(), pd.DataFrame()\n",
    "    \n",
    "    #Extract Column Names\n",
    "    cols = data.columns\n",
    "    \n",
    "    #Run WOE and IV on all the independent variables\n",
    "    for ivars in cols[~cols.isin([target])]:\n",
    "        if (data[ivars].dtype.kind in 'bifc') and (len(np.unique(data[ivars]))>10):\n",
    "            binned_x = pd.qcut(data[ivars], bins,  duplicates='drop')\n",
    "            d0 = pd.DataFrame({'x': binned_x, 'y': data[target]})\n",
    "        else:\n",
    "            d0 = pd.DataFrame({'x': data[ivars], 'y': data[target]})\n",
    "\n",
    "        \n",
    "        # Calculate the number of events in each group (bin)\n",
    "        d = d0.groupby(\"x\", as_index=False).agg({\"y\": [\"count\", \"sum\"]})\n",
    "        d.columns = ['Cutoff', 'N', 'Events']\n",
    "        \n",
    "        # Calculate % of events in each group.\n",
    "        d['% of Events'] = np.maximum(d['Events'], 0.5) / d['Events'].sum()\n",
    "\n",
    "        # Calculate the non events in each group.\n",
    "        d['Non-Events'] = d['N'] - d['Events']\n",
    "        # Calculate % of non events in each group.\n",
    "        d['% of Non-Events'] = np.maximum(d['Non-Events'], 0.5) / d['Non-Events'].sum()\n",
    "\n",
    "        # Calculate WOE by taking natural log of division of % of non-events and % of events\n",
    "        d['WoE'] = np.log(d['% of Events']/d['% of Non-Events'])\n",
    "        d['IV'] = d['WoE'] * (d['% of Events'] - d['% of Non-Events'])\n",
    "        d.insert(loc=0, column='Variable', value=ivars)\n",
    "        print(\"Information value of \" + ivars + \" is \" + str(round(d['IV'].sum(),6)))\n",
    "        temp =pd.DataFrame({\"Variable\" : [ivars], \"IV\" : [d['IV'].sum()]}, columns = [\"Variable\", \"IV\"])\n",
    "        newDF=pd.concat([newDF,temp], axis=0)\n",
    "        woeDF=pd.concat([woeDF,d], axis=0)\n",
    "\n",
    "        #Show WOE Table\n",
    "        if show_woe == True:\n",
    "            print(d)\n",
    "    return newDF, woeDF"
   ]
  },
  {
   "cell_type": "code",
   "execution_count": 71,
   "id": "9e0599fe",
   "metadata": {},
   "outputs": [
    {
     "name": "stdout",
     "output_type": "stream",
     "text": [
      "Information value of age is 0.12037\n",
      "Information value of balance is 0.095003\n",
      "Information value of day is 0.059459\n",
      "Information value of duration is 1.606652\n",
      "Information value of campaign is 0.061305\n",
      "Information value of pdays is 0.011719\n",
      "Information value of previous is 0.119223\n",
      "Information value of job_blue-collar is 0.058385\n",
      "Information value of job_entrepreneur is 0.005025\n",
      "Information value of job_housemaid is 0.002169\n",
      "Information value of job_management is 0.011651\n",
      "Information value of job_retired is 0.045476\n",
      "Information value of job_self-employed is 6.9e-05\n",
      "Information value of job_services is 0.008282\n",
      "Information value of job_student is 0.039687\n",
      "Information value of job_technician is 0.001789\n",
      "Information value of job_unemployed is 0.003389\n",
      "Information value of job_unknown is 0.000169\n",
      "Information value of marital_married is 0.031493\n",
      "Information value of marital_single is 0.03337\n",
      "Information value of education_secondary is 0.014185\n",
      "Information value of education_tertiary is 0.042531\n",
      "Information value of education_unknown is 0.001221\n",
      "Information value of default_yes is 0.005148\n",
      "Information value of housing_yes is 0.177162\n",
      "Information value of loan_yes is 0.056385\n",
      "Information value of contact_telephone is 0.002348\n",
      "Information value of contact_unknown is 0.305047\n",
      "Information value of month_aug is 0.000399\n",
      "Information value of month_dec is 0.033218\n",
      "Information value of month_feb is 0.011466\n",
      "Information value of month_jan is 8.7e-05\n",
      "Information value of month_jul is 0.012983\n",
      "Information value of month_jun is 0.003548\n",
      "Information value of month_mar is 0.082751\n",
      "Information value of month_may is 0.113757\n",
      "Information value of month_nov is 0.00335\n",
      "Information value of month_oct is 0.08769\n",
      "Information value of month_sep is 0.084676\n",
      "Information value of poutcome_other is 0.010179\n",
      "Information value of poutcome_success is 0.482881\n",
      "Information value of poutcome_unknown is 0.220684\n"
     ]
    }
   ],
   "source": [
    "df_iv = dfpipe.copy()\n",
    "iv = iv_woe(df_iv,\"y\",bins=10,show_woe=False)[0]"
   ]
  },
  {
   "cell_type": "code",
   "execution_count": 72,
   "id": "610211a8",
   "metadata": {},
   "outputs": [],
   "source": [
    "#Seggregating the variables based on IV value\n",
    "\n",
    "preffered=[]\n",
    "medium=[]\n",
    "rejected=[]\n",
    "\n",
    "for i in range(len(iv)):\n",
    "    if (iv.iloc[i,1])>0.1:\n",
    "        preffered.append(iv.iloc[i,0])\n",
    "        \n",
    "    if  (iv.iloc[i,1])<0.1 and  (iv.iloc[i,1])>0.03:\n",
    "        medium.append(iv.iloc[i,0])\n",
    "        \n",
    "    if (iv.iloc[i,1])<0.03:\n",
    "        rejected.append(iv.iloc[i,0])    "
   ]
  },
  {
   "cell_type": "code",
   "execution_count": 73,
   "id": "976d4c95",
   "metadata": {},
   "outputs": [],
   "source": [
    "cat = pipe.select_dtypes(include='object').columns"
   ]
  },
  {
   "cell_type": "code",
   "execution_count": 74,
   "id": "e055bdca",
   "metadata": {},
   "outputs": [],
   "source": [
    "from sklearn.compose import ColumnTransformer\n",
    "from sklearn.preprocessing import OneHotEncoder\n",
    "from sklearn.pipeline import Pipeline\n",
    "from imblearn.pipeline import Pipeline as imbPipeline\n",
    "from imblearn.over_sampling import SMOTE\n",
    "from lightgbm import LGBMClassifier\n",
    "\n",
    "# Define columns for one-hot encoding\n",
    "\n",
    "\n",
    "# Define preprocessing pipeline with one-hot encoding\n",
    "preprocessing_pipeline = ColumnTransformer([\n",
    "    ('onehot', OneHotEncoder(),cat)\n",
    "], remainder='passthrough')\n",
    "\n",
    "#now we will select features\n",
    "index=[]\n",
    "iv_selected_features = preffered + medium\n",
    "for col in iv_selected_features:\n",
    "    index.append(dfpipe.columns.get_loc(col))\n",
    "\n",
    "cte = ColumnTransformer([('selector',\"passthrough\", index)], remainder=\"drop\")\n",
    "\n",
    "#fitting model\n",
    "lgm=LGBMClassifier(class_weight= 'balanced',learning_rate= 0.1,max_depth= -1, n_estimators= 200, num_leaves=50,objective= 'binary', random_state= 42)\n",
    "# Define imbalanced classification pipeline with SMOTE and LightGBM\n",
    "pipeline = imbPipeline([('preprocess', preprocessing_pipeline),('selected features', cte),('smote', SMOTE(random_state=42)),('lgbm',lgm)])\n"
   ]
  },
  {
   "cell_type": "code",
   "execution_count": 75,
   "id": "6078fdc2",
   "metadata": {
    "scrolled": true
   },
   "outputs": [
    {
     "data": {
      "text/html": [
       "<style>#sk-container-id-1 {color: black;background-color: white;}#sk-container-id-1 pre{padding: 0;}#sk-container-id-1 div.sk-toggleable {background-color: white;}#sk-container-id-1 label.sk-toggleable__label {cursor: pointer;display: block;width: 100%;margin-bottom: 0;padding: 0.3em;box-sizing: border-box;text-align: center;}#sk-container-id-1 label.sk-toggleable__label-arrow:before {content: \"▸\";float: left;margin-right: 0.25em;color: #696969;}#sk-container-id-1 label.sk-toggleable__label-arrow:hover:before {color: black;}#sk-container-id-1 div.sk-estimator:hover label.sk-toggleable__label-arrow:before {color: black;}#sk-container-id-1 div.sk-toggleable__content {max-height: 0;max-width: 0;overflow: hidden;text-align: left;background-color: #f0f8ff;}#sk-container-id-1 div.sk-toggleable__content pre {margin: 0.2em;color: black;border-radius: 0.25em;background-color: #f0f8ff;}#sk-container-id-1 input.sk-toggleable__control:checked~div.sk-toggleable__content {max-height: 200px;max-width: 100%;overflow: auto;}#sk-container-id-1 input.sk-toggleable__control:checked~label.sk-toggleable__label-arrow:before {content: \"▾\";}#sk-container-id-1 div.sk-estimator input.sk-toggleable__control:checked~label.sk-toggleable__label {background-color: #d4ebff;}#sk-container-id-1 div.sk-label input.sk-toggleable__control:checked~label.sk-toggleable__label {background-color: #d4ebff;}#sk-container-id-1 input.sk-hidden--visually {border: 0;clip: rect(1px 1px 1px 1px);clip: rect(1px, 1px, 1px, 1px);height: 1px;margin: -1px;overflow: hidden;padding: 0;position: absolute;width: 1px;}#sk-container-id-1 div.sk-estimator {font-family: monospace;background-color: #f0f8ff;border: 1px dotted black;border-radius: 0.25em;box-sizing: border-box;margin-bottom: 0.5em;}#sk-container-id-1 div.sk-estimator:hover {background-color: #d4ebff;}#sk-container-id-1 div.sk-parallel-item::after {content: \"\";width: 100%;border-bottom: 1px solid gray;flex-grow: 1;}#sk-container-id-1 div.sk-label:hover label.sk-toggleable__label {background-color: #d4ebff;}#sk-container-id-1 div.sk-serial::before {content: \"\";position: absolute;border-left: 1px solid gray;box-sizing: border-box;top: 0;bottom: 0;left: 50%;z-index: 0;}#sk-container-id-1 div.sk-serial {display: flex;flex-direction: column;align-items: center;background-color: white;padding-right: 0.2em;padding-left: 0.2em;position: relative;}#sk-container-id-1 div.sk-item {position: relative;z-index: 1;}#sk-container-id-1 div.sk-parallel {display: flex;align-items: stretch;justify-content: center;background-color: white;position: relative;}#sk-container-id-1 div.sk-item::before, #sk-container-id-1 div.sk-parallel-item::before {content: \"\";position: absolute;border-left: 1px solid gray;box-sizing: border-box;top: 0;bottom: 0;left: 50%;z-index: -1;}#sk-container-id-1 div.sk-parallel-item {display: flex;flex-direction: column;z-index: 1;position: relative;background-color: white;}#sk-container-id-1 div.sk-parallel-item:first-child::after {align-self: flex-end;width: 50%;}#sk-container-id-1 div.sk-parallel-item:last-child::after {align-self: flex-start;width: 50%;}#sk-container-id-1 div.sk-parallel-item:only-child::after {width: 0;}#sk-container-id-1 div.sk-dashed-wrapped {border: 1px dashed gray;margin: 0 0.4em 0.5em 0.4em;box-sizing: border-box;padding-bottom: 0.4em;background-color: white;}#sk-container-id-1 div.sk-label label {font-family: monospace;font-weight: bold;display: inline-block;line-height: 1.2em;}#sk-container-id-1 div.sk-label-container {text-align: center;}#sk-container-id-1 div.sk-container {/* jupyter's `normalize.less` sets `[hidden] { display: none; }` but bootstrap.min.css set `[hidden] { display: none !important; }` so we also need the `!important` here to be able to override the default hidden behavior on the sphinx rendered scikit-learn.org. See: https://github.com/scikit-learn/scikit-learn/issues/21755 */display: inline-block !important;position: relative;}#sk-container-id-1 div.sk-text-repr-fallback {display: none;}</style><div id=\"sk-container-id-1\" class=\"sk-top-container\"><div class=\"sk-text-repr-fallback\"><pre>Pipeline(steps=[(&#x27;preprocess&#x27;,\n",
       "                 ColumnTransformer(remainder=&#x27;passthrough&#x27;,\n",
       "                                   transformers=[(&#x27;onehot&#x27;, OneHotEncoder(),\n",
       "                                                  Index([&#x27;job&#x27;, &#x27;marital&#x27;, &#x27;education&#x27;, &#x27;default&#x27;, &#x27;housing&#x27;, &#x27;loan&#x27;, &#x27;contact&#x27;,\n",
       "       &#x27;month&#x27;, &#x27;poutcome&#x27;],\n",
       "      dtype=&#x27;object&#x27;))])),\n",
       "                (&#x27;selected features&#x27;,\n",
       "                 ColumnTransformer(transformers=[(&#x27;selector&#x27;, &#x27;passthrough&#x27;,\n",
       "                                                  [0, 3, 6, 25, 28, 36, 41, 42,\n",
       "                                                   1, 2, 4, 8, 12, 15, 19, 20,\n",
       "                                                   22, 26, 30, 35, 38, 39])])),\n",
       "                (&#x27;smote&#x27;, SMOTE(random_state=42)),\n",
       "                (&#x27;lgbm&#x27;,\n",
       "                 LGBMClassifier(class_weight=&#x27;balanced&#x27;, n_estimators=200,\n",
       "                                num_leaves=50, objective=&#x27;binary&#x27;,\n",
       "                                random_state=42))])</pre><b>In a Jupyter environment, please rerun this cell to show the HTML representation or trust the notebook. <br />On GitHub, the HTML representation is unable to render, please try loading this page with nbviewer.org.</b></div><div class=\"sk-container\" hidden><div class=\"sk-item sk-dashed-wrapped\"><div class=\"sk-label-container\"><div class=\"sk-label sk-toggleable\"><input class=\"sk-toggleable__control sk-hidden--visually\" id=\"sk-estimator-id-1\" type=\"checkbox\" ><label for=\"sk-estimator-id-1\" class=\"sk-toggleable__label sk-toggleable__label-arrow\">Pipeline</label><div class=\"sk-toggleable__content\"><pre>Pipeline(steps=[(&#x27;preprocess&#x27;,\n",
       "                 ColumnTransformer(remainder=&#x27;passthrough&#x27;,\n",
       "                                   transformers=[(&#x27;onehot&#x27;, OneHotEncoder(),\n",
       "                                                  Index([&#x27;job&#x27;, &#x27;marital&#x27;, &#x27;education&#x27;, &#x27;default&#x27;, &#x27;housing&#x27;, &#x27;loan&#x27;, &#x27;contact&#x27;,\n",
       "       &#x27;month&#x27;, &#x27;poutcome&#x27;],\n",
       "      dtype=&#x27;object&#x27;))])),\n",
       "                (&#x27;selected features&#x27;,\n",
       "                 ColumnTransformer(transformers=[(&#x27;selector&#x27;, &#x27;passthrough&#x27;,\n",
       "                                                  [0, 3, 6, 25, 28, 36, 41, 42,\n",
       "                                                   1, 2, 4, 8, 12, 15, 19, 20,\n",
       "                                                   22, 26, 30, 35, 38, 39])])),\n",
       "                (&#x27;smote&#x27;, SMOTE(random_state=42)),\n",
       "                (&#x27;lgbm&#x27;,\n",
       "                 LGBMClassifier(class_weight=&#x27;balanced&#x27;, n_estimators=200,\n",
       "                                num_leaves=50, objective=&#x27;binary&#x27;,\n",
       "                                random_state=42))])</pre></div></div></div><div class=\"sk-serial\"><div class=\"sk-item sk-dashed-wrapped\"><div class=\"sk-label-container\"><div class=\"sk-label sk-toggleable\"><input class=\"sk-toggleable__control sk-hidden--visually\" id=\"sk-estimator-id-2\" type=\"checkbox\" ><label for=\"sk-estimator-id-2\" class=\"sk-toggleable__label sk-toggleable__label-arrow\">preprocess: ColumnTransformer</label><div class=\"sk-toggleable__content\"><pre>ColumnTransformer(remainder=&#x27;passthrough&#x27;,\n",
       "                  transformers=[(&#x27;onehot&#x27;, OneHotEncoder(),\n",
       "                                 Index([&#x27;job&#x27;, &#x27;marital&#x27;, &#x27;education&#x27;, &#x27;default&#x27;, &#x27;housing&#x27;, &#x27;loan&#x27;, &#x27;contact&#x27;,\n",
       "       &#x27;month&#x27;, &#x27;poutcome&#x27;],\n",
       "      dtype=&#x27;object&#x27;))])</pre></div></div></div><div class=\"sk-parallel\"><div class=\"sk-parallel-item\"><div class=\"sk-item\"><div class=\"sk-label-container\"><div class=\"sk-label sk-toggleable\"><input class=\"sk-toggleable__control sk-hidden--visually\" id=\"sk-estimator-id-3\" type=\"checkbox\" ><label for=\"sk-estimator-id-3\" class=\"sk-toggleable__label sk-toggleable__label-arrow\">onehot</label><div class=\"sk-toggleable__content\"><pre>Index([&#x27;job&#x27;, &#x27;marital&#x27;, &#x27;education&#x27;, &#x27;default&#x27;, &#x27;housing&#x27;, &#x27;loan&#x27;, &#x27;contact&#x27;,\n",
       "       &#x27;month&#x27;, &#x27;poutcome&#x27;],\n",
       "      dtype=&#x27;object&#x27;)</pre></div></div></div><div class=\"sk-serial\"><div class=\"sk-item\"><div class=\"sk-estimator sk-toggleable\"><input class=\"sk-toggleable__control sk-hidden--visually\" id=\"sk-estimator-id-4\" type=\"checkbox\" ><label for=\"sk-estimator-id-4\" class=\"sk-toggleable__label sk-toggleable__label-arrow\">OneHotEncoder</label><div class=\"sk-toggleable__content\"><pre>OneHotEncoder()</pre></div></div></div></div></div></div><div class=\"sk-parallel-item\"><div class=\"sk-item\"><div class=\"sk-label-container\"><div class=\"sk-label sk-toggleable\"><input class=\"sk-toggleable__control sk-hidden--visually\" id=\"sk-estimator-id-5\" type=\"checkbox\" ><label for=\"sk-estimator-id-5\" class=\"sk-toggleable__label sk-toggleable__label-arrow\">remainder</label><div class=\"sk-toggleable__content\"><pre>[&#x27;age&#x27;, &#x27;balance&#x27;, &#x27;day&#x27;, &#x27;duration&#x27;, &#x27;campaign&#x27;, &#x27;pdays&#x27;, &#x27;previous&#x27;]</pre></div></div></div><div class=\"sk-serial\"><div class=\"sk-item\"><div class=\"sk-estimator sk-toggleable\"><input class=\"sk-toggleable__control sk-hidden--visually\" id=\"sk-estimator-id-6\" type=\"checkbox\" ><label for=\"sk-estimator-id-6\" class=\"sk-toggleable__label sk-toggleable__label-arrow\">passthrough</label><div class=\"sk-toggleable__content\"><pre>passthrough</pre></div></div></div></div></div></div></div></div><div class=\"sk-item sk-dashed-wrapped\"><div class=\"sk-label-container\"><div class=\"sk-label sk-toggleable\"><input class=\"sk-toggleable__control sk-hidden--visually\" id=\"sk-estimator-id-7\" type=\"checkbox\" ><label for=\"sk-estimator-id-7\" class=\"sk-toggleable__label sk-toggleable__label-arrow\">selected features: ColumnTransformer</label><div class=\"sk-toggleable__content\"><pre>ColumnTransformer(transformers=[(&#x27;selector&#x27;, &#x27;passthrough&#x27;,\n",
       "                                 [0, 3, 6, 25, 28, 36, 41, 42, 1, 2, 4, 8, 12,\n",
       "                                  15, 19, 20, 22, 26, 30, 35, 38, 39])])</pre></div></div></div><div class=\"sk-parallel\"><div class=\"sk-parallel-item\"><div class=\"sk-item\"><div class=\"sk-label-container\"><div class=\"sk-label sk-toggleable\"><input class=\"sk-toggleable__control sk-hidden--visually\" id=\"sk-estimator-id-8\" type=\"checkbox\" ><label for=\"sk-estimator-id-8\" class=\"sk-toggleable__label sk-toggleable__label-arrow\">selector</label><div class=\"sk-toggleable__content\"><pre>[0, 3, 6, 25, 28, 36, 41, 42, 1, 2, 4, 8, 12, 15, 19, 20, 22, 26, 30, 35, 38, 39]</pre></div></div></div><div class=\"sk-serial\"><div class=\"sk-item\"><div class=\"sk-estimator sk-toggleable\"><input class=\"sk-toggleable__control sk-hidden--visually\" id=\"sk-estimator-id-9\" type=\"checkbox\" ><label for=\"sk-estimator-id-9\" class=\"sk-toggleable__label sk-toggleable__label-arrow\">passthrough</label><div class=\"sk-toggleable__content\"><pre>passthrough</pre></div></div></div></div></div></div></div></div><div class=\"sk-item\"><div class=\"sk-estimator sk-toggleable\"><input class=\"sk-toggleable__control sk-hidden--visually\" id=\"sk-estimator-id-10\" type=\"checkbox\" ><label for=\"sk-estimator-id-10\" class=\"sk-toggleable__label sk-toggleable__label-arrow\">SMOTE</label><div class=\"sk-toggleable__content\"><pre>SMOTE(random_state=42)</pre></div></div></div><div class=\"sk-item\"><div class=\"sk-estimator sk-toggleable\"><input class=\"sk-toggleable__control sk-hidden--visually\" id=\"sk-estimator-id-11\" type=\"checkbox\" ><label for=\"sk-estimator-id-11\" class=\"sk-toggleable__label sk-toggleable__label-arrow\">LGBMClassifier</label><div class=\"sk-toggleable__content\"><pre>LGBMClassifier(class_weight=&#x27;balanced&#x27;, n_estimators=200, num_leaves=50,\n",
       "               objective=&#x27;binary&#x27;, random_state=42)</pre></div></div></div></div></div></div></div>"
      ],
      "text/plain": [
       "Pipeline(steps=[('preprocess',\n",
       "                 ColumnTransformer(remainder='passthrough',\n",
       "                                   transformers=[('onehot', OneHotEncoder(),\n",
       "                                                  Index(['job', 'marital', 'education', 'default', 'housing', 'loan', 'contact',\n",
       "       'month', 'poutcome'],\n",
       "      dtype='object'))])),\n",
       "                ('selected features',\n",
       "                 ColumnTransformer(transformers=[('selector', 'passthrough',\n",
       "                                                  [0, 3, 6, 25, 28, 36, 41, 42,\n",
       "                                                   1, 2, 4, 8, 12, 15, 19, 20,\n",
       "                                                   22, 26, 30, 35, 38, 39])])),\n",
       "                ('smote', SMOTE(random_state=42)),\n",
       "                ('lgbm',\n",
       "                 LGBMClassifier(class_weight='balanced', n_estimators=200,\n",
       "                                num_leaves=50, objective='binary',\n",
       "                                random_state=42))])"
      ]
     },
     "execution_count": 75,
     "metadata": {},
     "output_type": "execute_result"
    }
   ],
   "source": [
    "X = pipe.drop('y', axis = 1)\n",
    "y = pipe['y']\n",
    "pipeline.fit(X, y)"
   ]
  },
  {
   "cell_type": "code",
   "execution_count": 76,
   "id": "0b4f790b",
   "metadata": {},
   "outputs": [],
   "source": [
    "test = pd.read_csv(\"test.csv\")"
   ]
  },
  {
   "cell_type": "code",
   "execution_count": 77,
   "id": "18fcfcc7",
   "metadata": {},
   "outputs": [],
   "source": [
    "y_hat = pipeline.predict(test)"
   ]
  },
  {
   "cell_type": "code",
   "execution_count": 78,
   "id": "757961d9",
   "metadata": {},
   "outputs": [],
   "source": [
    "submission = pd.read_csv('submission.csv')"
   ]
  },
  {
   "cell_type": "code",
   "execution_count": 79,
   "id": "138c2166",
   "metadata": {},
   "outputs": [],
   "source": [
    "y_hat = pd.DataFrame(y_hat)"
   ]
  },
  {
   "cell_type": "code",
   "execution_count": 80,
   "id": "66a0abb8",
   "metadata": {},
   "outputs": [],
   "source": [
    "submission['pred'] = y_hat"
   ]
  },
  {
   "cell_type": "code",
   "execution_count": 81,
   "id": "3ab810b4",
   "metadata": {},
   "outputs": [],
   "source": [
    "submission.to_csv('praxis-kenwin-submission.csv', index = False)"
   ]
  },
  {
   "cell_type": "markdown",
   "id": "3ec2c050",
   "metadata": {},
   "source": [
    "## RESULT:"
   ]
  },
  {
   "cell_type": "markdown",
   "id": "e4e26c55",
   "metadata": {},
   "source": [
    "#### My LightGBM model using grid search and SMOTE has a better F1 score of 0.60, indicating that it performs well on my data. This was achieved by optimizing the hyperparameters using grid search and balancing the class distribution with SMOTE. "
   ]
  },
  {
   "cell_type": "markdown",
   "id": "66c351e1",
   "metadata": {},
   "source": [
    "###### Thank You"
   ]
  }
 ],
 "metadata": {
  "kernelspec": {
   "display_name": "Python 3 (ipykernel)",
   "language": "python",
   "name": "python3"
  },
  "language_info": {
   "codemirror_mode": {
    "name": "ipython",
    "version": 3
   },
   "file_extension": ".py",
   "mimetype": "text/x-python",
   "name": "python",
   "nbconvert_exporter": "python",
   "pygments_lexer": "ipython3",
   "version": "3.10.5"
  }
 },
 "nbformat": 4,
 "nbformat_minor": 5
}
